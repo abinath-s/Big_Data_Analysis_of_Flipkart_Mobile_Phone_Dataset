{
  "cells": [
    {
      "cell_type": "code",
      "execution_count": 15,
      "metadata": {
        "id": "3ihS9JjayFYf",
        "colab": {
          "base_uri": "https://localhost:8080/"
        },
        "outputId": "2ca11730-2ea3-4443-f665-0335f5a66cba"
      },
      "outputs": [
        {
          "output_type": "stream",
          "name": "stderr",
          "text": [
            "/usr/local/lib/python3.7/dist-packages/statsmodels/tools/_testing.py:19: FutureWarning: pandas.util.testing is deprecated. Use the functions in the public API at pandas.testing instead.\n",
            "  import pandas.util.testing as tm\n"
          ]
        }
      ],
      "source": [
        "import pandas as pd\n",
        "import numpy as np\n",
        "from sklearn import linear_model\n",
        "from sklearn.model_selection import train_test_split\n",
        "from sklearn.preprocessing import StandardScaler\n",
        "from sklearn.linear_model import LinearRegression\n",
        "import statsmodels.api as sm"
      ]
    },
    {
      "cell_type": "code",
      "execution_count": 2,
      "metadata": {
        "colab": {
          "base_uri": "https://localhost:8080/",
          "height": 73,
          "resources": {
            "http://localhost:8080/nbextensions/google.colab/files.js": {
              "data": "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",
              "headers": [
                [
                  "content-type",
                  "application/javascript"
                ]
              ],
              "ok": true,
              "status": 200,
              "status_text": ""
            }
          }
        },
        "id": "zuGWHgCV7M_w",
        "outputId": "12d3689c-1e9a-4b6b-da2f-2e3343160e21"
      },
      "outputs": [
        {
          "output_type": "display_data",
          "data": {
            "text/plain": [
              "<IPython.core.display.HTML object>"
            ],
            "text/html": [
              "\n",
              "     <input type=\"file\" id=\"files-a202f576-7fc8-4a9f-a4af-ca29f972eec7\" name=\"files[]\" multiple disabled\n",
              "        style=\"border:none\" />\n",
              "     <output id=\"result-a202f576-7fc8-4a9f-a4af-ca29f972eec7\">\n",
              "      Upload widget is only available when the cell has been executed in the\n",
              "      current browser session. Please rerun this cell to enable.\n",
              "      </output>\n",
              "      <script src=\"/nbextensions/google.colab/files.js\"></script> "
            ]
          },
          "metadata": {}
        },
        {
          "output_type": "stream",
          "name": "stdout",
          "text": [
            "Saving Flipkart Mobile - 2.csv to Flipkart Mobile - 2.csv\n"
          ]
        }
      ],
      "source": [
        "from google.colab import files\n",
        "uploaded = files.upload()"
      ]
    },
    {
      "cell_type": "code",
      "execution_count": 3,
      "metadata": {
        "id": "u8QhDb1W6ysx"
      },
      "outputs": [],
      "source": [
        "import io\n",
        "df2 = pd.read_csv(io.BytesIO(uploaded['Flipkart Mobile - 2.csv']))"
      ]
    },
    {
      "cell_type": "code",
      "execution_count": 4,
      "metadata": {
        "id": "jmi5xcL9-gd8"
      },
      "outputs": [],
      "source": [
        "df2_copy = df2.copy()"
      ]
    },
    {
      "cell_type": "code",
      "execution_count": 5,
      "metadata": {
        "colab": {
          "base_uri": "https://localhost:8080/"
        },
        "id": "euSczQ0W-snw",
        "outputId": "6e90b7ef-fb56-4eb3-dbe5-3ddfd7e5c6ba"
      },
      "outputs": [
        {
          "output_type": "execute_result",
          "data": {
            "text/plain": [
              "Index(['brand', 'model', 'base_color', 'processor', 'screen_size', 'ROM',\n",
              "       'RAM', 'display_size', 'num_rear_camera', 'num_front_camera',\n",
              "       'battery_capacity', 'ratings', 'num_of_ratings', 'sales_price',\n",
              "       'discount_percent', 'sales'],\n",
              "      dtype='object')"
            ]
          },
          "metadata": {},
          "execution_count": 5
        }
      ],
      "source": [
        "df2_copy.columns"
      ]
    },
    {
      "cell_type": "code",
      "execution_count": 6,
      "metadata": {
        "colab": {
          "base_uri": "https://localhost:8080/"
        },
        "id": "RmkcChkG-yvf",
        "outputId": "28b36f47-c369-4546-e445-8c63a215e490"
      },
      "outputs": [
        {
          "output_type": "stream",
          "name": "stdout",
          "text": [
            "<class 'pandas.core.frame.DataFrame'>\n",
            "RangeIndex: 430 entries, 0 to 429\n",
            "Data columns (total 11 columns):\n",
            " #   Column            Non-Null Count  Dtype  \n",
            "---  ------            --------------  -----  \n",
            " 0   ROM               430 non-null    int64  \n",
            " 1   RAM               430 non-null    int64  \n",
            " 2   display_size      430 non-null    float64\n",
            " 3   num_rear_camera   430 non-null    int64  \n",
            " 4   num_front_camera  430 non-null    int64  \n",
            " 5   battery_capacity  430 non-null    int64  \n",
            " 6   ratings           430 non-null    float64\n",
            " 7   num_of_ratings    430 non-null    int64  \n",
            " 8   sales_price       430 non-null    int64  \n",
            " 9   discount_percent  430 non-null    float64\n",
            " 10  sales             430 non-null    float64\n",
            "dtypes: float64(4), int64(7)\n",
            "memory usage: 37.1 KB\n"
          ]
        }
      ],
      "source": [
        "#'brand','model','base_color','processor','screen_size'\n",
        "df2_copy = df2_copy.drop(['brand', 'model', 'base_color', 'processor','screen_size'],axis= 1)\n",
        "df2_copy.info()"
      ]
    },
    {
      "cell_type": "code",
      "execution_count": 7,
      "metadata": {
        "id": "0rN6kVRt5B09"
      },
      "outputs": [],
      "source": [
        "# Train Test Split\n",
        "price_train, price_test = train_test_split(df2_copy,train_size = 0.7, random_state = 42)"
      ]
    },
    {
      "cell_type": "code",
      "execution_count": 8,
      "metadata": {
        "colab": {
          "base_uri": "https://localhost:8080/"
        },
        "id": "zG1ooI7s5LFZ",
        "outputId": "a2bf5c3b-3fd9-4b74-ef2f-d32438049647"
      },
      "outputs": [
        {
          "output_type": "stream",
          "name": "stdout",
          "text": [
            "(301, 11)\n",
            "(129, 11)\n"
          ]
        }
      ],
      "source": [
        "print(price_train.shape)\n",
        "print(price_test.shape)"
      ]
    },
    {
      "cell_type": "code",
      "execution_count": 9,
      "metadata": {
        "id": "mj6WGw2f8BKF"
      },
      "outputs": [],
      "source": [
        "y_train = price_train.pop('sales')\n",
        "x_train = price_train\n",
        "\n",
        "y_test = price_test.pop('sales')\n",
        "x_test = price_test"
      ]
    },
    {
      "cell_type": "code",
      "execution_count": 10,
      "metadata": {
        "colab": {
          "base_uri": "https://localhost:8080/",
          "height": 344
        },
        "id": "VpqWlvoU8u60",
        "outputId": "db29b036-7eec-47ce-c8a9-f4a3405e3b69"
      },
      "outputs": [
        {
          "output_type": "execute_result",
          "data": {
            "text/plain": [
              "                ROM           RAM  display_size  num_rear_camera  \\\n",
              "count  3.010000e+02  3.010000e+02  3.010000e+02     3.010000e+02   \n",
              "mean   1.434807e-16  1.148952e-16 -1.617200e-15     7.524435e-17   \n",
              "std    1.001665e+00  1.001665e+00  1.001665e+00     1.001665e+00   \n",
              "min   -1.514026e+00 -1.959839e+00 -4.684510e+00    -2.134030e+00   \n",
              "25%   -6.490443e-01 -6.221710e-01  2.947971e-02    -1.048991e+00   \n",
              "50%    3.395064e-01  2.696074e-01  3.067732e-01     3.604780e-02   \n",
              "75%    3.395064e-01  2.696074e-01  3.067732e-01     1.121087e+00   \n",
              "max    6.270811e+00  2.944943e+00  3.357001e+00     1.121087e+00   \n",
              "\n",
              "       num_front_camera  battery_capacity       ratings  num_of_ratings  \\\n",
              "count      3.010000e+02      3.010000e+02  3.010000e+02    3.010000e+02   \n",
              "mean      -5.316899e-16     -2.947070e-16  1.452142e-15   -2.360607e-17   \n",
              "std        1.001665e+00      1.001665e+00  1.001665e+00    1.001665e+00   \n",
              "min       -1.937357e-01     -2.934607e+00 -8.865521e+00   -4.251426e-01   \n",
              "25%       -1.937357e-01     -5.865925e-01 -2.101359e-01   -4.152876e-01   \n",
              "50%       -1.937357e-01      2.030984e-01 -2.101359e-01   -3.351030e-01   \n",
              "75%       -1.937357e-01      4.347410e-01  4.556630e-01   -3.692403e-02   \n",
              "max        8.136898e+00      2.540583e+00  1.787261e+00    1.108504e+01   \n",
              "\n",
              "        sales_price  discount_percent  \n",
              "count  3.010000e+02      3.010000e+02  \n",
              "mean  -4.831868e-17     -5.458904e-17  \n",
              "std    1.001665e+00      1.001665e+00  \n",
              "min   -8.303939e-01     -1.371228e+00  \n",
              "25%   -5.628121e-01     -6.668941e-01  \n",
              "50%   -3.497986e-01     -2.442939e-01  \n",
              "75%    1.214311e-01      7.417735e-01  \n",
              "max    5.680907e+00      3.981709e+00  "
            ],
            "text/html": [
              "\n",
              "  <div id=\"df-8dcc81a5-331b-4bcb-96ee-f6a5a93825ac\">\n",
              "    <div class=\"colab-df-container\">\n",
              "      <div>\n",
              "<style scoped>\n",
              "    .dataframe tbody tr th:only-of-type {\n",
              "        vertical-align: middle;\n",
              "    }\n",
              "\n",
              "    .dataframe tbody tr th {\n",
              "        vertical-align: top;\n",
              "    }\n",
              "\n",
              "    .dataframe thead th {\n",
              "        text-align: right;\n",
              "    }\n",
              "</style>\n",
              "<table border=\"1\" class=\"dataframe\">\n",
              "  <thead>\n",
              "    <tr style=\"text-align: right;\">\n",
              "      <th></th>\n",
              "      <th>ROM</th>\n",
              "      <th>RAM</th>\n",
              "      <th>display_size</th>\n",
              "      <th>num_rear_camera</th>\n",
              "      <th>num_front_camera</th>\n",
              "      <th>battery_capacity</th>\n",
              "      <th>ratings</th>\n",
              "      <th>num_of_ratings</th>\n",
              "      <th>sales_price</th>\n",
              "      <th>discount_percent</th>\n",
              "    </tr>\n",
              "  </thead>\n",
              "  <tbody>\n",
              "    <tr>\n",
              "      <th>count</th>\n",
              "      <td>3.010000e+02</td>\n",
              "      <td>3.010000e+02</td>\n",
              "      <td>3.010000e+02</td>\n",
              "      <td>3.010000e+02</td>\n",
              "      <td>3.010000e+02</td>\n",
              "      <td>3.010000e+02</td>\n",
              "      <td>3.010000e+02</td>\n",
              "      <td>3.010000e+02</td>\n",
              "      <td>3.010000e+02</td>\n",
              "      <td>3.010000e+02</td>\n",
              "    </tr>\n",
              "    <tr>\n",
              "      <th>mean</th>\n",
              "      <td>1.434807e-16</td>\n",
              "      <td>1.148952e-16</td>\n",
              "      <td>-1.617200e-15</td>\n",
              "      <td>7.524435e-17</td>\n",
              "      <td>-5.316899e-16</td>\n",
              "      <td>-2.947070e-16</td>\n",
              "      <td>1.452142e-15</td>\n",
              "      <td>-2.360607e-17</td>\n",
              "      <td>-4.831868e-17</td>\n",
              "      <td>-5.458904e-17</td>\n",
              "    </tr>\n",
              "    <tr>\n",
              "      <th>std</th>\n",
              "      <td>1.001665e+00</td>\n",
              "      <td>1.001665e+00</td>\n",
              "      <td>1.001665e+00</td>\n",
              "      <td>1.001665e+00</td>\n",
              "      <td>1.001665e+00</td>\n",
              "      <td>1.001665e+00</td>\n",
              "      <td>1.001665e+00</td>\n",
              "      <td>1.001665e+00</td>\n",
              "      <td>1.001665e+00</td>\n",
              "      <td>1.001665e+00</td>\n",
              "    </tr>\n",
              "    <tr>\n",
              "      <th>min</th>\n",
              "      <td>-1.514026e+00</td>\n",
              "      <td>-1.959839e+00</td>\n",
              "      <td>-4.684510e+00</td>\n",
              "      <td>-2.134030e+00</td>\n",
              "      <td>-1.937357e-01</td>\n",
              "      <td>-2.934607e+00</td>\n",
              "      <td>-8.865521e+00</td>\n",
              "      <td>-4.251426e-01</td>\n",
              "      <td>-8.303939e-01</td>\n",
              "      <td>-1.371228e+00</td>\n",
              "    </tr>\n",
              "    <tr>\n",
              "      <th>25%</th>\n",
              "      <td>-6.490443e-01</td>\n",
              "      <td>-6.221710e-01</td>\n",
              "      <td>2.947971e-02</td>\n",
              "      <td>-1.048991e+00</td>\n",
              "      <td>-1.937357e-01</td>\n",
              "      <td>-5.865925e-01</td>\n",
              "      <td>-2.101359e-01</td>\n",
              "      <td>-4.152876e-01</td>\n",
              "      <td>-5.628121e-01</td>\n",
              "      <td>-6.668941e-01</td>\n",
              "    </tr>\n",
              "    <tr>\n",
              "      <th>50%</th>\n",
              "      <td>3.395064e-01</td>\n",
              "      <td>2.696074e-01</td>\n",
              "      <td>3.067732e-01</td>\n",
              "      <td>3.604780e-02</td>\n",
              "      <td>-1.937357e-01</td>\n",
              "      <td>2.030984e-01</td>\n",
              "      <td>-2.101359e-01</td>\n",
              "      <td>-3.351030e-01</td>\n",
              "      <td>-3.497986e-01</td>\n",
              "      <td>-2.442939e-01</td>\n",
              "    </tr>\n",
              "    <tr>\n",
              "      <th>75%</th>\n",
              "      <td>3.395064e-01</td>\n",
              "      <td>2.696074e-01</td>\n",
              "      <td>3.067732e-01</td>\n",
              "      <td>1.121087e+00</td>\n",
              "      <td>-1.937357e-01</td>\n",
              "      <td>4.347410e-01</td>\n",
              "      <td>4.556630e-01</td>\n",
              "      <td>-3.692403e-02</td>\n",
              "      <td>1.214311e-01</td>\n",
              "      <td>7.417735e-01</td>\n",
              "    </tr>\n",
              "    <tr>\n",
              "      <th>max</th>\n",
              "      <td>6.270811e+00</td>\n",
              "      <td>2.944943e+00</td>\n",
              "      <td>3.357001e+00</td>\n",
              "      <td>1.121087e+00</td>\n",
              "      <td>8.136898e+00</td>\n",
              "      <td>2.540583e+00</td>\n",
              "      <td>1.787261e+00</td>\n",
              "      <td>1.108504e+01</td>\n",
              "      <td>5.680907e+00</td>\n",
              "      <td>3.981709e+00</td>\n",
              "    </tr>\n",
              "  </tbody>\n",
              "</table>\n",
              "</div>\n",
              "      <button class=\"colab-df-convert\" onclick=\"convertToInteractive('df-8dcc81a5-331b-4bcb-96ee-f6a5a93825ac')\"\n",
              "              title=\"Convert this dataframe to an interactive table.\"\n",
              "              style=\"display:none;\">\n",
              "        \n",
              "  <svg xmlns=\"http://www.w3.org/2000/svg\" height=\"24px\"viewBox=\"0 0 24 24\"\n",
              "       width=\"24px\">\n",
              "    <path d=\"M0 0h24v24H0V0z\" fill=\"none\"/>\n",
              "    <path d=\"M18.56 5.44l.94 2.06.94-2.06 2.06-.94-2.06-.94-.94-2.06-.94 2.06-2.06.94zm-11 1L8.5 8.5l.94-2.06 2.06-.94-2.06-.94L8.5 2.5l-.94 2.06-2.06.94zm10 10l.94 2.06.94-2.06 2.06-.94-2.06-.94-.94-2.06-.94 2.06-2.06.94z\"/><path d=\"M17.41 7.96l-1.37-1.37c-.4-.4-.92-.59-1.43-.59-.52 0-1.04.2-1.43.59L10.3 9.45l-7.72 7.72c-.78.78-.78 2.05 0 2.83L4 21.41c.39.39.9.59 1.41.59.51 0 1.02-.2 1.41-.59l7.78-7.78 2.81-2.81c.8-.78.8-2.07 0-2.86zM5.41 20L4 18.59l7.72-7.72 1.47 1.35L5.41 20z\"/>\n",
              "  </svg>\n",
              "      </button>\n",
              "      \n",
              "  <style>\n",
              "    .colab-df-container {\n",
              "      display:flex;\n",
              "      flex-wrap:wrap;\n",
              "      gap: 12px;\n",
              "    }\n",
              "\n",
              "    .colab-df-convert {\n",
              "      background-color: #E8F0FE;\n",
              "      border: none;\n",
              "      border-radius: 50%;\n",
              "      cursor: pointer;\n",
              "      display: none;\n",
              "      fill: #1967D2;\n",
              "      height: 32px;\n",
              "      padding: 0 0 0 0;\n",
              "      width: 32px;\n",
              "    }\n",
              "\n",
              "    .colab-df-convert:hover {\n",
              "      background-color: #E2EBFA;\n",
              "      box-shadow: 0px 1px 2px rgba(60, 64, 67, 0.3), 0px 1px 3px 1px rgba(60, 64, 67, 0.15);\n",
              "      fill: #174EA6;\n",
              "    }\n",
              "\n",
              "    [theme=dark] .colab-df-convert {\n",
              "      background-color: #3B4455;\n",
              "      fill: #D2E3FC;\n",
              "    }\n",
              "\n",
              "    [theme=dark] .colab-df-convert:hover {\n",
              "      background-color: #434B5C;\n",
              "      box-shadow: 0px 1px 3px 1px rgba(0, 0, 0, 0.15);\n",
              "      filter: drop-shadow(0px 1px 2px rgba(0, 0, 0, 0.3));\n",
              "      fill: #FFFFFF;\n",
              "    }\n",
              "  </style>\n",
              "\n",
              "      <script>\n",
              "        const buttonEl =\n",
              "          document.querySelector('#df-8dcc81a5-331b-4bcb-96ee-f6a5a93825ac button.colab-df-convert');\n",
              "        buttonEl.style.display =\n",
              "          google.colab.kernel.accessAllowed ? 'block' : 'none';\n",
              "\n",
              "        async function convertToInteractive(key) {\n",
              "          const element = document.querySelector('#df-8dcc81a5-331b-4bcb-96ee-f6a5a93825ac');\n",
              "          const dataTable =\n",
              "            await google.colab.kernel.invokeFunction('convertToInteractive',\n",
              "                                                     [key], {});\n",
              "          if (!dataTable) return;\n",
              "\n",
              "          const docLinkHtml = 'Like what you see? Visit the ' +\n",
              "            '<a target=\"_blank\" href=https://colab.research.google.com/notebooks/data_table.ipynb>data table notebook</a>'\n",
              "            + ' to learn more about interactive tables.';\n",
              "          element.innerHTML = '';\n",
              "          dataTable['output_type'] = 'display_data';\n",
              "          await google.colab.output.renderOutput(dataTable, element);\n",
              "          const docLink = document.createElement('div');\n",
              "          docLink.innerHTML = docLinkHtml;\n",
              "          element.appendChild(docLink);\n",
              "        }\n",
              "      </script>\n",
              "    </div>\n",
              "  </div>\n",
              "  "
            ]
          },
          "metadata": {},
          "execution_count": 10
        }
      ],
      "source": [
        "#scaling\n",
        "scaler = StandardScaler()\n",
        "x_train[x_train.columns]= scaler.fit_transform(x_train[x_train.columns])\n",
        "x_train.describe()"
      ]
    },
    {
      "cell_type": "code",
      "execution_count": 11,
      "metadata": {
        "id": "4GK8ZzUz78-q",
        "colab": {
          "base_uri": "https://localhost:8080/",
          "height": 344
        },
        "outputId": "f7e71697-7cee-4d9b-c063-21d9cbd6c428"
      },
      "outputs": [
        {
          "output_type": "execute_result",
          "data": {
            "text/plain": [
              "                ROM           RAM  display_size  num_rear_camera  \\\n",
              "count  1.290000e+02  1.290000e+02  1.290000e+02     1.290000e+02   \n",
              "mean  -1.118829e-17 -9.983401e-17  1.292678e-15    -4.561381e-17   \n",
              "std    1.003899e+00  1.003899e+00  1.003899e+00     1.003899e+00   \n",
              "min   -1.644504e+00 -2.057358e+00 -4.225508e+00    -1.755948e+00   \n",
              "25%   -6.962365e-01 -5.691382e-01 -5.828983e-01    -7.580745e-01   \n",
              "50%    3.874982e-01 -5.691382e-01  4.578474e-01     2.397991e-01   \n",
              "75%    3.874982e-01  4.230081e-01  4.578474e-01     1.237673e+00   \n",
              "max    2.554968e+00  3.399447e+00  9.782203e-01     1.237673e+00   \n",
              "\n",
              "       num_front_camera  battery_capacity       ratings  num_of_ratings  \\\n",
              "count      1.290000e+02      1.290000e+02  1.290000e+02    1.290000e+02   \n",
              "mean      -3.855658e-16      3.356488e-16 -1.982910e-15    9.467018e-18   \n",
              "std        1.003899e+00      1.003899e+00  1.003899e+00    1.003899e+00   \n",
              "min       -2.008048e-01     -2.464493e+00 -3.001388e+00   -4.100181e-01   \n",
              "25%       -2.008048e-01     -3.749225e-01 -3.764453e-01   -3.936416e-01   \n",
              "50%       -2.008048e-01      9.997982e-02 -3.764453e-01   -3.151899e-01   \n",
              "75%       -2.008048e-01      5.748821e-01  9.360262e-01   -9.845748e-02   \n",
              "max        4.979960e+00      2.474491e+00  1.592262e+00    7.917972e+00   \n",
              "\n",
              "        sales_price  discount_percent  \n",
              "count  1.290000e+02      1.290000e+02  \n",
              "mean  -5.680211e-17      4.303190e-17  \n",
              "std    1.003899e+00      1.003899e+00  \n",
              "min   -9.501419e-01     -1.267130e+00  \n",
              "25%   -7.010604e-01     -7.579097e-01  \n",
              "50%   -4.519790e-01     -2.486891e-01  \n",
              "75%    2.454491e-01      6.424469e-01  \n",
              "max    3.134794e+00      4.206991e+00  "
            ],
            "text/html": [
              "\n",
              "  <div id=\"df-0476ead2-54ac-4c35-8a16-042424fb1d7d\">\n",
              "    <div class=\"colab-df-container\">\n",
              "      <div>\n",
              "<style scoped>\n",
              "    .dataframe tbody tr th:only-of-type {\n",
              "        vertical-align: middle;\n",
              "    }\n",
              "\n",
              "    .dataframe tbody tr th {\n",
              "        vertical-align: top;\n",
              "    }\n",
              "\n",
              "    .dataframe thead th {\n",
              "        text-align: right;\n",
              "    }\n",
              "</style>\n",
              "<table border=\"1\" class=\"dataframe\">\n",
              "  <thead>\n",
              "    <tr style=\"text-align: right;\">\n",
              "      <th></th>\n",
              "      <th>ROM</th>\n",
              "      <th>RAM</th>\n",
              "      <th>display_size</th>\n",
              "      <th>num_rear_camera</th>\n",
              "      <th>num_front_camera</th>\n",
              "      <th>battery_capacity</th>\n",
              "      <th>ratings</th>\n",
              "      <th>num_of_ratings</th>\n",
              "      <th>sales_price</th>\n",
              "      <th>discount_percent</th>\n",
              "    </tr>\n",
              "  </thead>\n",
              "  <tbody>\n",
              "    <tr>\n",
              "      <th>count</th>\n",
              "      <td>1.290000e+02</td>\n",
              "      <td>1.290000e+02</td>\n",
              "      <td>1.290000e+02</td>\n",
              "      <td>1.290000e+02</td>\n",
              "      <td>1.290000e+02</td>\n",
              "      <td>1.290000e+02</td>\n",
              "      <td>1.290000e+02</td>\n",
              "      <td>1.290000e+02</td>\n",
              "      <td>1.290000e+02</td>\n",
              "      <td>1.290000e+02</td>\n",
              "    </tr>\n",
              "    <tr>\n",
              "      <th>mean</th>\n",
              "      <td>-1.118829e-17</td>\n",
              "      <td>-9.983401e-17</td>\n",
              "      <td>1.292678e-15</td>\n",
              "      <td>-4.561381e-17</td>\n",
              "      <td>-3.855658e-16</td>\n",
              "      <td>3.356488e-16</td>\n",
              "      <td>-1.982910e-15</td>\n",
              "      <td>9.467018e-18</td>\n",
              "      <td>-5.680211e-17</td>\n",
              "      <td>4.303190e-17</td>\n",
              "    </tr>\n",
              "    <tr>\n",
              "      <th>std</th>\n",
              "      <td>1.003899e+00</td>\n",
              "      <td>1.003899e+00</td>\n",
              "      <td>1.003899e+00</td>\n",
              "      <td>1.003899e+00</td>\n",
              "      <td>1.003899e+00</td>\n",
              "      <td>1.003899e+00</td>\n",
              "      <td>1.003899e+00</td>\n",
              "      <td>1.003899e+00</td>\n",
              "      <td>1.003899e+00</td>\n",
              "      <td>1.003899e+00</td>\n",
              "    </tr>\n",
              "    <tr>\n",
              "      <th>min</th>\n",
              "      <td>-1.644504e+00</td>\n",
              "      <td>-2.057358e+00</td>\n",
              "      <td>-4.225508e+00</td>\n",
              "      <td>-1.755948e+00</td>\n",
              "      <td>-2.008048e-01</td>\n",
              "      <td>-2.464493e+00</td>\n",
              "      <td>-3.001388e+00</td>\n",
              "      <td>-4.100181e-01</td>\n",
              "      <td>-9.501419e-01</td>\n",
              "      <td>-1.267130e+00</td>\n",
              "    </tr>\n",
              "    <tr>\n",
              "      <th>25%</th>\n",
              "      <td>-6.962365e-01</td>\n",
              "      <td>-5.691382e-01</td>\n",
              "      <td>-5.828983e-01</td>\n",
              "      <td>-7.580745e-01</td>\n",
              "      <td>-2.008048e-01</td>\n",
              "      <td>-3.749225e-01</td>\n",
              "      <td>-3.764453e-01</td>\n",
              "      <td>-3.936416e-01</td>\n",
              "      <td>-7.010604e-01</td>\n",
              "      <td>-7.579097e-01</td>\n",
              "    </tr>\n",
              "    <tr>\n",
              "      <th>50%</th>\n",
              "      <td>3.874982e-01</td>\n",
              "      <td>-5.691382e-01</td>\n",
              "      <td>4.578474e-01</td>\n",
              "      <td>2.397991e-01</td>\n",
              "      <td>-2.008048e-01</td>\n",
              "      <td>9.997982e-02</td>\n",
              "      <td>-3.764453e-01</td>\n",
              "      <td>-3.151899e-01</td>\n",
              "      <td>-4.519790e-01</td>\n",
              "      <td>-2.486891e-01</td>\n",
              "    </tr>\n",
              "    <tr>\n",
              "      <th>75%</th>\n",
              "      <td>3.874982e-01</td>\n",
              "      <td>4.230081e-01</td>\n",
              "      <td>4.578474e-01</td>\n",
              "      <td>1.237673e+00</td>\n",
              "      <td>-2.008048e-01</td>\n",
              "      <td>5.748821e-01</td>\n",
              "      <td>9.360262e-01</td>\n",
              "      <td>-9.845748e-02</td>\n",
              "      <td>2.454491e-01</td>\n",
              "      <td>6.424469e-01</td>\n",
              "    </tr>\n",
              "    <tr>\n",
              "      <th>max</th>\n",
              "      <td>2.554968e+00</td>\n",
              "      <td>3.399447e+00</td>\n",
              "      <td>9.782203e-01</td>\n",
              "      <td>1.237673e+00</td>\n",
              "      <td>4.979960e+00</td>\n",
              "      <td>2.474491e+00</td>\n",
              "      <td>1.592262e+00</td>\n",
              "      <td>7.917972e+00</td>\n",
              "      <td>3.134794e+00</td>\n",
              "      <td>4.206991e+00</td>\n",
              "    </tr>\n",
              "  </tbody>\n",
              "</table>\n",
              "</div>\n",
              "      <button class=\"colab-df-convert\" onclick=\"convertToInteractive('df-0476ead2-54ac-4c35-8a16-042424fb1d7d')\"\n",
              "              title=\"Convert this dataframe to an interactive table.\"\n",
              "              style=\"display:none;\">\n",
              "        \n",
              "  <svg xmlns=\"http://www.w3.org/2000/svg\" height=\"24px\"viewBox=\"0 0 24 24\"\n",
              "       width=\"24px\">\n",
              "    <path d=\"M0 0h24v24H0V0z\" fill=\"none\"/>\n",
              "    <path d=\"M18.56 5.44l.94 2.06.94-2.06 2.06-.94-2.06-.94-.94-2.06-.94 2.06-2.06.94zm-11 1L8.5 8.5l.94-2.06 2.06-.94-2.06-.94L8.5 2.5l-.94 2.06-2.06.94zm10 10l.94 2.06.94-2.06 2.06-.94-2.06-.94-.94-2.06-.94 2.06-2.06.94z\"/><path d=\"M17.41 7.96l-1.37-1.37c-.4-.4-.92-.59-1.43-.59-.52 0-1.04.2-1.43.59L10.3 9.45l-7.72 7.72c-.78.78-.78 2.05 0 2.83L4 21.41c.39.39.9.59 1.41.59.51 0 1.02-.2 1.41-.59l7.78-7.78 2.81-2.81c.8-.78.8-2.07 0-2.86zM5.41 20L4 18.59l7.72-7.72 1.47 1.35L5.41 20z\"/>\n",
              "  </svg>\n",
              "      </button>\n",
              "      \n",
              "  <style>\n",
              "    .colab-df-container {\n",
              "      display:flex;\n",
              "      flex-wrap:wrap;\n",
              "      gap: 12px;\n",
              "    }\n",
              "\n",
              "    .colab-df-convert {\n",
              "      background-color: #E8F0FE;\n",
              "      border: none;\n",
              "      border-radius: 50%;\n",
              "      cursor: pointer;\n",
              "      display: none;\n",
              "      fill: #1967D2;\n",
              "      height: 32px;\n",
              "      padding: 0 0 0 0;\n",
              "      width: 32px;\n",
              "    }\n",
              "\n",
              "    .colab-df-convert:hover {\n",
              "      background-color: #E2EBFA;\n",
              "      box-shadow: 0px 1px 2px rgba(60, 64, 67, 0.3), 0px 1px 3px 1px rgba(60, 64, 67, 0.15);\n",
              "      fill: #174EA6;\n",
              "    }\n",
              "\n",
              "    [theme=dark] .colab-df-convert {\n",
              "      background-color: #3B4455;\n",
              "      fill: #D2E3FC;\n",
              "    }\n",
              "\n",
              "    [theme=dark] .colab-df-convert:hover {\n",
              "      background-color: #434B5C;\n",
              "      box-shadow: 0px 1px 3px 1px rgba(0, 0, 0, 0.15);\n",
              "      filter: drop-shadow(0px 1px 2px rgba(0, 0, 0, 0.3));\n",
              "      fill: #FFFFFF;\n",
              "    }\n",
              "  </style>\n",
              "\n",
              "      <script>\n",
              "        const buttonEl =\n",
              "          document.querySelector('#df-0476ead2-54ac-4c35-8a16-042424fb1d7d button.colab-df-convert');\n",
              "        buttonEl.style.display =\n",
              "          google.colab.kernel.accessAllowed ? 'block' : 'none';\n",
              "\n",
              "        async function convertToInteractive(key) {\n",
              "          const element = document.querySelector('#df-0476ead2-54ac-4c35-8a16-042424fb1d7d');\n",
              "          const dataTable =\n",
              "            await google.colab.kernel.invokeFunction('convertToInteractive',\n",
              "                                                     [key], {});\n",
              "          if (!dataTable) return;\n",
              "\n",
              "          const docLinkHtml = 'Like what you see? Visit the ' +\n",
              "            '<a target=\"_blank\" href=https://colab.research.google.com/notebooks/data_table.ipynb>data table notebook</a>'\n",
              "            + ' to learn more about interactive tables.';\n",
              "          element.innerHTML = '';\n",
              "          dataTable['output_type'] = 'display_data';\n",
              "          await google.colab.output.renderOutput(dataTable, element);\n",
              "          const docLink = document.createElement('div');\n",
              "          docLink.innerHTML = docLinkHtml;\n",
              "          element.appendChild(docLink);\n",
              "        }\n",
              "      </script>\n",
              "    </div>\n",
              "  </div>\n",
              "  "
            ]
          },
          "metadata": {},
          "execution_count": 11
        }
      ],
      "source": [
        "x_test[x_test.columns]= scaler.fit_transform(x_test[x_train.columns])\n",
        "x_test.describe()"
      ]
    },
    {
      "cell_type": "code",
      "execution_count": 12,
      "metadata": {
        "id": "0nSWQjGBAV8D"
      },
      "outputs": [],
      "source": [
        "lr = LinearRegression()\n",
        "price_reg = lr.fit(x_train,y_train)"
      ]
    },
    {
      "cell_type": "markdown",
      "metadata": {
        "id": "IdaZCvvEAsBK"
      },
      "source": [
        "Let us check the R-Squared"
      ]
    },
    {
      "cell_type": "code",
      "execution_count": 13,
      "metadata": {
        "id": "8F5jK-pBA2eE",
        "colab": {
          "base_uri": "https://localhost:8080/"
        },
        "outputId": "4a783ab7-5e4c-4bbd-effb-f4bee4c3d02f"
      },
      "outputs": [
        {
          "output_type": "execute_result",
          "data": {
            "text/plain": [
              "0.9159599346646029"
            ]
          },
          "metadata": {},
          "execution_count": 13
        }
      ],
      "source": [
        "price_reg.score(x_train,y_train)"
      ]
    },
    {
      "cell_type": "code",
      "execution_count": 14,
      "metadata": {
        "id": "y2dDuV4tBIY7",
        "colab": {
          "base_uri": "https://localhost:8080/"
        },
        "outputId": "8e989389-37ee-48d3-cc0e-965f45d5230b"
      },
      "outputs": [
        {
          "output_type": "execute_result",
          "data": {
            "text/plain": [
              "0.8991360258305618"
            ]
          },
          "metadata": {},
          "execution_count": 14
        }
      ],
      "source": [
        "price_reg.score(x_test,y_test)"
      ]
    },
    {
      "cell_type": "code",
      "source": [
        "import statsmodels.api as sm"
      ],
      "metadata": {
        "id": "ZryMsyub1vLj"
      },
      "execution_count": 16,
      "outputs": []
    },
    {
      "cell_type": "code",
      "source": [
        "x_train_sm = sm.add_constant(x_train)"
      ],
      "metadata": {
        "colab": {
          "base_uri": "https://localhost:8080/"
        },
        "id": "0gY41HTn1vIs",
        "outputId": "f30aaf21-f29f-4c45-e8fc-0920df8fbda1"
      },
      "execution_count": 17,
      "outputs": [
        {
          "output_type": "stream",
          "name": "stderr",
          "text": [
            "/usr/local/lib/python3.7/dist-packages/statsmodels/tsa/tsatools.py:117: FutureWarning: In a future version of pandas all arguments of concat except for the argument 'objs' will be keyword-only\n",
            "  x = pd.concat(x[::order], 1)\n"
          ]
        }
      ]
    },
    {
      "cell_type": "code",
      "source": [
        "x_train_sm "
      ],
      "metadata": {
        "colab": {
          "base_uri": "https://localhost:8080/",
          "height": 424
        },
        "id": "ES9fp7BB1vFO",
        "outputId": "386a7dfa-e1b6-4505-857a-00dff4a73ae1"
      },
      "execution_count": 18,
      "outputs": [
        {
          "output_type": "execute_result",
          "data": {
            "text/plain": [
              "     const       ROM       RAM  display_size  num_rear_camera  \\\n",
              "402    1.0 -0.649044 -0.622171     -0.247814        -1.048991   \n",
              "118    1.0 -0.649044 -0.622171      0.306773         0.036048   \n",
              "114    1.0 -1.143320 -1.513949      0.306773        -2.134030   \n",
              "137    1.0  0.339506 -0.622171      0.306773         0.036048   \n",
              "318    1.0 -0.649044 -0.622171      0.306773         0.036048   \n",
              "..     ...       ...       ...           ...              ...   \n",
              "71     1.0  0.339506  0.269607      0.861360         1.121087   \n",
              "106    1.0  0.339506  0.269607      0.861360         1.121087   \n",
              "270    1.0  0.339506  0.269607      0.029480         1.121087   \n",
              "348    1.0  0.339506  1.161386      0.861360         1.121087   \n",
              "102    1.0  0.339506  0.269607      0.306773         1.121087   \n",
              "\n",
              "     num_front_camera  battery_capacity   ratings  num_of_ratings  \\\n",
              "402         -0.193736         -0.618180  1.121462        2.104442   \n",
              "118         -0.193736          0.434741  0.455663       -0.412116   \n",
              "114         -0.193736          0.434741 -0.210136       -0.338310   \n",
              "137         -0.193736          0.434741 -0.210136       -0.248665   \n",
              "318         -0.193736          0.434741 -0.875935       -0.424802   \n",
              "..                ...               ...       ...             ...   \n",
              "71          -0.193736          0.603208  0.455663       -0.241032   \n",
              "106         -0.193736          1.487662 -0.210136        0.054137   \n",
              "270         -0.193736          1.487662 -0.210136       -0.335103   \n",
              "348         -0.193736          0.434741 -0.210136       -0.422957   \n",
              "102         -0.193736          0.434741 -0.210136        1.333578   \n",
              "\n",
              "     sales_price  discount_percent  \n",
              "402    -0.457995         -1.089494  \n",
              "118    -0.434516         -0.666894  \n",
              "114    -0.763809         -0.385161  \n",
              "137    -0.370369         -1.230361  \n",
              "318    -0.545663         -1.089494  \n",
              "..           ...               ...  \n",
              "71     -0.263456          1.305241  \n",
              "106    -0.348986          1.164374  \n",
              "270    -0.323327         -1.371228  \n",
              "348     0.420788          0.741773  \n",
              "102    -0.584195          1.727841  \n",
              "\n",
              "[301 rows x 11 columns]"
            ],
            "text/html": [
              "\n",
              "  <div id=\"df-f80a1a6a-c5a5-469e-b656-d21d079c95b4\">\n",
              "    <div class=\"colab-df-container\">\n",
              "      <div>\n",
              "<style scoped>\n",
              "    .dataframe tbody tr th:only-of-type {\n",
              "        vertical-align: middle;\n",
              "    }\n",
              "\n",
              "    .dataframe tbody tr th {\n",
              "        vertical-align: top;\n",
              "    }\n",
              "\n",
              "    .dataframe thead th {\n",
              "        text-align: right;\n",
              "    }\n",
              "</style>\n",
              "<table border=\"1\" class=\"dataframe\">\n",
              "  <thead>\n",
              "    <tr style=\"text-align: right;\">\n",
              "      <th></th>\n",
              "      <th>const</th>\n",
              "      <th>ROM</th>\n",
              "      <th>RAM</th>\n",
              "      <th>display_size</th>\n",
              "      <th>num_rear_camera</th>\n",
              "      <th>num_front_camera</th>\n",
              "      <th>battery_capacity</th>\n",
              "      <th>ratings</th>\n",
              "      <th>num_of_ratings</th>\n",
              "      <th>sales_price</th>\n",
              "      <th>discount_percent</th>\n",
              "    </tr>\n",
              "  </thead>\n",
              "  <tbody>\n",
              "    <tr>\n",
              "      <th>402</th>\n",
              "      <td>1.0</td>\n",
              "      <td>-0.649044</td>\n",
              "      <td>-0.622171</td>\n",
              "      <td>-0.247814</td>\n",
              "      <td>-1.048991</td>\n",
              "      <td>-0.193736</td>\n",
              "      <td>-0.618180</td>\n",
              "      <td>1.121462</td>\n",
              "      <td>2.104442</td>\n",
              "      <td>-0.457995</td>\n",
              "      <td>-1.089494</td>\n",
              "    </tr>\n",
              "    <tr>\n",
              "      <th>118</th>\n",
              "      <td>1.0</td>\n",
              "      <td>-0.649044</td>\n",
              "      <td>-0.622171</td>\n",
              "      <td>0.306773</td>\n",
              "      <td>0.036048</td>\n",
              "      <td>-0.193736</td>\n",
              "      <td>0.434741</td>\n",
              "      <td>0.455663</td>\n",
              "      <td>-0.412116</td>\n",
              "      <td>-0.434516</td>\n",
              "      <td>-0.666894</td>\n",
              "    </tr>\n",
              "    <tr>\n",
              "      <th>114</th>\n",
              "      <td>1.0</td>\n",
              "      <td>-1.143320</td>\n",
              "      <td>-1.513949</td>\n",
              "      <td>0.306773</td>\n",
              "      <td>-2.134030</td>\n",
              "      <td>-0.193736</td>\n",
              "      <td>0.434741</td>\n",
              "      <td>-0.210136</td>\n",
              "      <td>-0.338310</td>\n",
              "      <td>-0.763809</td>\n",
              "      <td>-0.385161</td>\n",
              "    </tr>\n",
              "    <tr>\n",
              "      <th>137</th>\n",
              "      <td>1.0</td>\n",
              "      <td>0.339506</td>\n",
              "      <td>-0.622171</td>\n",
              "      <td>0.306773</td>\n",
              "      <td>0.036048</td>\n",
              "      <td>-0.193736</td>\n",
              "      <td>0.434741</td>\n",
              "      <td>-0.210136</td>\n",
              "      <td>-0.248665</td>\n",
              "      <td>-0.370369</td>\n",
              "      <td>-1.230361</td>\n",
              "    </tr>\n",
              "    <tr>\n",
              "      <th>318</th>\n",
              "      <td>1.0</td>\n",
              "      <td>-0.649044</td>\n",
              "      <td>-0.622171</td>\n",
              "      <td>0.306773</td>\n",
              "      <td>0.036048</td>\n",
              "      <td>-0.193736</td>\n",
              "      <td>0.434741</td>\n",
              "      <td>-0.875935</td>\n",
              "      <td>-0.424802</td>\n",
              "      <td>-0.545663</td>\n",
              "      <td>-1.089494</td>\n",
              "    </tr>\n",
              "    <tr>\n",
              "      <th>...</th>\n",
              "      <td>...</td>\n",
              "      <td>...</td>\n",
              "      <td>...</td>\n",
              "      <td>...</td>\n",
              "      <td>...</td>\n",
              "      <td>...</td>\n",
              "      <td>...</td>\n",
              "      <td>...</td>\n",
              "      <td>...</td>\n",
              "      <td>...</td>\n",
              "      <td>...</td>\n",
              "    </tr>\n",
              "    <tr>\n",
              "      <th>71</th>\n",
              "      <td>1.0</td>\n",
              "      <td>0.339506</td>\n",
              "      <td>0.269607</td>\n",
              "      <td>0.861360</td>\n",
              "      <td>1.121087</td>\n",
              "      <td>-0.193736</td>\n",
              "      <td>0.603208</td>\n",
              "      <td>0.455663</td>\n",
              "      <td>-0.241032</td>\n",
              "      <td>-0.263456</td>\n",
              "      <td>1.305241</td>\n",
              "    </tr>\n",
              "    <tr>\n",
              "      <th>106</th>\n",
              "      <td>1.0</td>\n",
              "      <td>0.339506</td>\n",
              "      <td>0.269607</td>\n",
              "      <td>0.861360</td>\n",
              "      <td>1.121087</td>\n",
              "      <td>-0.193736</td>\n",
              "      <td>1.487662</td>\n",
              "      <td>-0.210136</td>\n",
              "      <td>0.054137</td>\n",
              "      <td>-0.348986</td>\n",
              "      <td>1.164374</td>\n",
              "    </tr>\n",
              "    <tr>\n",
              "      <th>270</th>\n",
              "      <td>1.0</td>\n",
              "      <td>0.339506</td>\n",
              "      <td>0.269607</td>\n",
              "      <td>0.029480</td>\n",
              "      <td>1.121087</td>\n",
              "      <td>-0.193736</td>\n",
              "      <td>1.487662</td>\n",
              "      <td>-0.210136</td>\n",
              "      <td>-0.335103</td>\n",
              "      <td>-0.323327</td>\n",
              "      <td>-1.371228</td>\n",
              "    </tr>\n",
              "    <tr>\n",
              "      <th>348</th>\n",
              "      <td>1.0</td>\n",
              "      <td>0.339506</td>\n",
              "      <td>1.161386</td>\n",
              "      <td>0.861360</td>\n",
              "      <td>1.121087</td>\n",
              "      <td>-0.193736</td>\n",
              "      <td>0.434741</td>\n",
              "      <td>-0.210136</td>\n",
              "      <td>-0.422957</td>\n",
              "      <td>0.420788</td>\n",
              "      <td>0.741773</td>\n",
              "    </tr>\n",
              "    <tr>\n",
              "      <th>102</th>\n",
              "      <td>1.0</td>\n",
              "      <td>0.339506</td>\n",
              "      <td>0.269607</td>\n",
              "      <td>0.306773</td>\n",
              "      <td>1.121087</td>\n",
              "      <td>-0.193736</td>\n",
              "      <td>0.434741</td>\n",
              "      <td>-0.210136</td>\n",
              "      <td>1.333578</td>\n",
              "      <td>-0.584195</td>\n",
              "      <td>1.727841</td>\n",
              "    </tr>\n",
              "  </tbody>\n",
              "</table>\n",
              "<p>301 rows × 11 columns</p>\n",
              "</div>\n",
              "      <button class=\"colab-df-convert\" onclick=\"convertToInteractive('df-f80a1a6a-c5a5-469e-b656-d21d079c95b4')\"\n",
              "              title=\"Convert this dataframe to an interactive table.\"\n",
              "              style=\"display:none;\">\n",
              "        \n",
              "  <svg xmlns=\"http://www.w3.org/2000/svg\" height=\"24px\"viewBox=\"0 0 24 24\"\n",
              "       width=\"24px\">\n",
              "    <path d=\"M0 0h24v24H0V0z\" fill=\"none\"/>\n",
              "    <path d=\"M18.56 5.44l.94 2.06.94-2.06 2.06-.94-2.06-.94-.94-2.06-.94 2.06-2.06.94zm-11 1L8.5 8.5l.94-2.06 2.06-.94-2.06-.94L8.5 2.5l-.94 2.06-2.06.94zm10 10l.94 2.06.94-2.06 2.06-.94-2.06-.94-.94-2.06-.94 2.06-2.06.94z\"/><path d=\"M17.41 7.96l-1.37-1.37c-.4-.4-.92-.59-1.43-.59-.52 0-1.04.2-1.43.59L10.3 9.45l-7.72 7.72c-.78.78-.78 2.05 0 2.83L4 21.41c.39.39.9.59 1.41.59.51 0 1.02-.2 1.41-.59l7.78-7.78 2.81-2.81c.8-.78.8-2.07 0-2.86zM5.41 20L4 18.59l7.72-7.72 1.47 1.35L5.41 20z\"/>\n",
              "  </svg>\n",
              "      </button>\n",
              "      \n",
              "  <style>\n",
              "    .colab-df-container {\n",
              "      display:flex;\n",
              "      flex-wrap:wrap;\n",
              "      gap: 12px;\n",
              "    }\n",
              "\n",
              "    .colab-df-convert {\n",
              "      background-color: #E8F0FE;\n",
              "      border: none;\n",
              "      border-radius: 50%;\n",
              "      cursor: pointer;\n",
              "      display: none;\n",
              "      fill: #1967D2;\n",
              "      height: 32px;\n",
              "      padding: 0 0 0 0;\n",
              "      width: 32px;\n",
              "    }\n",
              "\n",
              "    .colab-df-convert:hover {\n",
              "      background-color: #E2EBFA;\n",
              "      box-shadow: 0px 1px 2px rgba(60, 64, 67, 0.3), 0px 1px 3px 1px rgba(60, 64, 67, 0.15);\n",
              "      fill: #174EA6;\n",
              "    }\n",
              "\n",
              "    [theme=dark] .colab-df-convert {\n",
              "      background-color: #3B4455;\n",
              "      fill: #D2E3FC;\n",
              "    }\n",
              "\n",
              "    [theme=dark] .colab-df-convert:hover {\n",
              "      background-color: #434B5C;\n",
              "      box-shadow: 0px 1px 3px 1px rgba(0, 0, 0, 0.15);\n",
              "      filter: drop-shadow(0px 1px 2px rgba(0, 0, 0, 0.3));\n",
              "      fill: #FFFFFF;\n",
              "    }\n",
              "  </style>\n",
              "\n",
              "      <script>\n",
              "        const buttonEl =\n",
              "          document.querySelector('#df-f80a1a6a-c5a5-469e-b656-d21d079c95b4 button.colab-df-convert');\n",
              "        buttonEl.style.display =\n",
              "          google.colab.kernel.accessAllowed ? 'block' : 'none';\n",
              "\n",
              "        async function convertToInteractive(key) {\n",
              "          const element = document.querySelector('#df-f80a1a6a-c5a5-469e-b656-d21d079c95b4');\n",
              "          const dataTable =\n",
              "            await google.colab.kernel.invokeFunction('convertToInteractive',\n",
              "                                                     [key], {});\n",
              "          if (!dataTable) return;\n",
              "\n",
              "          const docLinkHtml = 'Like what you see? Visit the ' +\n",
              "            '<a target=\"_blank\" href=https://colab.research.google.com/notebooks/data_table.ipynb>data table notebook</a>'\n",
              "            + ' to learn more about interactive tables.';\n",
              "          element.innerHTML = '';\n",
              "          dataTable['output_type'] = 'display_data';\n",
              "          await google.colab.output.renderOutput(dataTable, element);\n",
              "          const docLink = document.createElement('div');\n",
              "          docLink.innerHTML = docLinkHtml;\n",
              "          element.appendChild(docLink);\n",
              "        }\n",
              "      </script>\n",
              "    </div>\n",
              "  </div>\n",
              "  "
            ]
          },
          "metadata": {},
          "execution_count": 18
        }
      ]
    },
    {
      "cell_type": "code",
      "source": [
        "lr = sm.OLS(y_train,x_train_sm).fit()"
      ],
      "metadata": {
        "id": "D1YPSbN91vCo"
      },
      "execution_count": 19,
      "outputs": []
    },
    {
      "cell_type": "code",
      "source": [
        "lr"
      ],
      "metadata": {
        "colab": {
          "base_uri": "https://localhost:8080/"
        },
        "id": "8_7HglBm329A",
        "outputId": "87972703-7d5b-46ac-b5f1-4d72daaca408"
      },
      "execution_count": 20,
      "outputs": [
        {
          "output_type": "execute_result",
          "data": {
            "text/plain": [
              "<statsmodels.regression.linear_model.RegressionResultsWrapper at 0x7fea117f4ad0>"
            ]
          },
          "metadata": {},
          "execution_count": 20
        }
      ]
    },
    {
      "cell_type": "code",
      "source": [
        "print(lr.summary())"
      ],
      "metadata": {
        "colab": {
          "base_uri": "https://localhost:8080/"
        },
        "id": "rGctWIDS326d",
        "outputId": "26835645-f68a-42dc-b978-0c71837470f8"
      },
      "execution_count": 22,
      "outputs": [
        {
          "output_type": "stream",
          "name": "stdout",
          "text": [
            "                            OLS Regression Results                            \n",
            "==============================================================================\n",
            "Dep. Variable:                  sales   R-squared:                       0.916\n",
            "Model:                            OLS   Adj. R-squared:                  0.913\n",
            "Method:                 Least Squares   F-statistic:                     316.1\n",
            "Date:                Tue, 26 Apr 2022   Prob (F-statistic):          1.56e-149\n",
            "Time:                        12:37:38   Log-Likelihood:                -1258.5\n",
            "No. Observations:                 301   AIC:                             2539.\n",
            "Df Residuals:                     290   BIC:                             2580.\n",
            "Df Model:                          10                                         \n",
            "Covariance Type:            nonrobust                                         \n",
            "====================================================================================\n",
            "                       coef    std err          t      P>|t|      [0.025      0.975]\n",
            "------------------------------------------------------------------------------------\n",
            "const               29.0430      0.930     31.237      0.000      27.213      30.873\n",
            "ROM                 -1.6433      1.695     -0.969      0.333      -4.980       1.693\n",
            "RAM                  4.8486      1.642      2.952      0.003       1.616       8.081\n",
            "display_size        -4.4248      1.529     -2.894      0.004      -7.434      -1.415\n",
            "num_rear_camera     -0.0690      1.346     -0.051      0.959      -2.717       2.579\n",
            "num_front_camera     0.3429      1.035      0.331      0.741      -1.694       2.380\n",
            "battery_capacity     0.1075      1.664      0.065      0.949      -3.167       3.382\n",
            "ratings              3.7879      1.098      3.449      0.001       1.626       5.950\n",
            "num_of_ratings      50.9018      1.013     50.258      0.000      48.908      52.895\n",
            "sales_price         -1.5462      1.622     -0.953      0.341      -4.739       1.646\n",
            "discount_percent     2.9113      0.959      3.035      0.003       1.024       4.799\n",
            "==============================================================================\n",
            "Omnibus:                      138.223   Durbin-Watson:                   1.910\n",
            "Prob(Omnibus):                  0.000   Jarque-Bera (JB):             1728.582\n",
            "Skew:                           1.521   Prob(JB):                         0.00\n",
            "Kurtosis:                      14.339   Cond. No.                         4.59\n",
            "==============================================================================\n",
            "\n",
            "Warnings:\n",
            "[1] Standard Errors assume that the covariance matrix of the errors is correctly specified.\n"
          ]
        }
      ]
    },
    {
      "cell_type": "code",
      "source": [
        "df2_2copy = df2.copy()"
      ],
      "metadata": {
        "id": "E978hMVo324F"
      },
      "execution_count": 23,
      "outputs": []
    },
    {
      "cell_type": "code",
      "source": [
        "df2_copy.columns"
      ],
      "metadata": {
        "colab": {
          "base_uri": "https://localhost:8080/"
        },
        "id": "ginn3KVM321t",
        "outputId": "2a8316e2-700e-43f6-d919-4c83ce932cf4"
      },
      "execution_count": 24,
      "outputs": [
        {
          "output_type": "execute_result",
          "data": {
            "text/plain": [
              "Index(['ROM', 'RAM', 'display_size', 'num_rear_camera', 'num_front_camera',\n",
              "       'battery_capacity', 'ratings', 'num_of_ratings', 'sales_price',\n",
              "       'discount_percent', 'sales'],\n",
              "      dtype='object')"
            ]
          },
          "metadata": {},
          "execution_count": 24
        }
      ]
    },
    {
      "cell_type": "code",
      "source": [
        "df2_copy = df2_copy.drop(['ROM', 'num_rear_camera', 'num_front_camera','battery_capacity','sales_price'],axis= 1)\n",
        "df2_copy.info()"
      ],
      "metadata": {
        "colab": {
          "base_uri": "https://localhost:8080/"
        },
        "id": "ICVaUC1r32ze",
        "outputId": "f963b45d-e3dd-4bb2-edba-e1423b04c9df"
      },
      "execution_count": 25,
      "outputs": [
        {
          "output_type": "stream",
          "name": "stdout",
          "text": [
            "<class 'pandas.core.frame.DataFrame'>\n",
            "RangeIndex: 430 entries, 0 to 429\n",
            "Data columns (total 6 columns):\n",
            " #   Column            Non-Null Count  Dtype  \n",
            "---  ------            --------------  -----  \n",
            " 0   RAM               430 non-null    int64  \n",
            " 1   display_size      430 non-null    float64\n",
            " 2   ratings           430 non-null    float64\n",
            " 3   num_of_ratings    430 non-null    int64  \n",
            " 4   discount_percent  430 non-null    float64\n",
            " 5   sales             430 non-null    float64\n",
            "dtypes: float64(4), int64(2)\n",
            "memory usage: 20.3 KB\n"
          ]
        }
      ]
    },
    {
      "cell_type": "code",
      "source": [
        "# Train Test Split\n",
        "price_train, price_test = train_test_split(df2_copy,train_size = 0.7, random_state = 42)"
      ],
      "metadata": {
        "id": "RBz9NLAG32w8"
      },
      "execution_count": 26,
      "outputs": []
    },
    {
      "cell_type": "code",
      "source": [
        "print(price_train.shape)\n",
        "print(price_test.shape)"
      ],
      "metadata": {
        "colab": {
          "base_uri": "https://localhost:8080/"
        },
        "id": "xEsN0Nnm32un",
        "outputId": "82a0f717-ab58-4ce0-97a6-be580c5b24f0"
      },
      "execution_count": 27,
      "outputs": [
        {
          "output_type": "stream",
          "name": "stdout",
          "text": [
            "(301, 6)\n",
            "(129, 6)\n"
          ]
        }
      ]
    },
    {
      "cell_type": "code",
      "source": [
        "y_train = price_train.pop('sales')\n",
        "x_train = price_train\n",
        "\n",
        "y_test = price_test.pop('sales')\n",
        "x_test = price_test"
      ],
      "metadata": {
        "id": "fW4YCBsy6POx"
      },
      "execution_count": 28,
      "outputs": []
    },
    {
      "cell_type": "code",
      "source": [
        "#scaling\n",
        "scaler = StandardScaler()\n",
        "x_train[x_train.columns]= scaler.fit_transform(x_train[x_train.columns])\n",
        "x_train.describe()"
      ],
      "metadata": {
        "colab": {
          "base_uri": "https://localhost:8080/",
          "height": 300
        },
        "id": "NlN5qJIg6PMW",
        "outputId": "17b3a8bf-c952-419e-eeba-65acd7aff77a"
      },
      "execution_count": 29,
      "outputs": [
        {
          "output_type": "execute_result",
          "data": {
            "text/plain": [
              "                RAM  display_size       ratings  num_of_ratings  \\\n",
              "count  3.010000e+02  3.010000e+02  3.010000e+02    3.010000e+02   \n",
              "mean   1.148952e-16 -1.617200e-15  1.452142e-15   -2.360607e-17   \n",
              "std    1.001665e+00  1.001665e+00  1.001665e+00    1.001665e+00   \n",
              "min   -1.959839e+00 -4.684510e+00 -8.865521e+00   -4.251426e-01   \n",
              "25%   -6.221710e-01  2.947971e-02 -2.101359e-01   -4.152876e-01   \n",
              "50%    2.696074e-01  3.067732e-01 -2.101359e-01   -3.351030e-01   \n",
              "75%    2.696074e-01  3.067732e-01  4.556630e-01   -3.692403e-02   \n",
              "max    2.944943e+00  3.357001e+00  1.787261e+00    1.108504e+01   \n",
              "\n",
              "       discount_percent  \n",
              "count      3.010000e+02  \n",
              "mean      -5.458904e-17  \n",
              "std        1.001665e+00  \n",
              "min       -1.371228e+00  \n",
              "25%       -6.668941e-01  \n",
              "50%       -2.442939e-01  \n",
              "75%        7.417735e-01  \n",
              "max        3.981709e+00  "
            ],
            "text/html": [
              "\n",
              "  <div id=\"df-56d2091d-782b-45c3-b101-697e6c45b7af\">\n",
              "    <div class=\"colab-df-container\">\n",
              "      <div>\n",
              "<style scoped>\n",
              "    .dataframe tbody tr th:only-of-type {\n",
              "        vertical-align: middle;\n",
              "    }\n",
              "\n",
              "    .dataframe tbody tr th {\n",
              "        vertical-align: top;\n",
              "    }\n",
              "\n",
              "    .dataframe thead th {\n",
              "        text-align: right;\n",
              "    }\n",
              "</style>\n",
              "<table border=\"1\" class=\"dataframe\">\n",
              "  <thead>\n",
              "    <tr style=\"text-align: right;\">\n",
              "      <th></th>\n",
              "      <th>RAM</th>\n",
              "      <th>display_size</th>\n",
              "      <th>ratings</th>\n",
              "      <th>num_of_ratings</th>\n",
              "      <th>discount_percent</th>\n",
              "    </tr>\n",
              "  </thead>\n",
              "  <tbody>\n",
              "    <tr>\n",
              "      <th>count</th>\n",
              "      <td>3.010000e+02</td>\n",
              "      <td>3.010000e+02</td>\n",
              "      <td>3.010000e+02</td>\n",
              "      <td>3.010000e+02</td>\n",
              "      <td>3.010000e+02</td>\n",
              "    </tr>\n",
              "    <tr>\n",
              "      <th>mean</th>\n",
              "      <td>1.148952e-16</td>\n",
              "      <td>-1.617200e-15</td>\n",
              "      <td>1.452142e-15</td>\n",
              "      <td>-2.360607e-17</td>\n",
              "      <td>-5.458904e-17</td>\n",
              "    </tr>\n",
              "    <tr>\n",
              "      <th>std</th>\n",
              "      <td>1.001665e+00</td>\n",
              "      <td>1.001665e+00</td>\n",
              "      <td>1.001665e+00</td>\n",
              "      <td>1.001665e+00</td>\n",
              "      <td>1.001665e+00</td>\n",
              "    </tr>\n",
              "    <tr>\n",
              "      <th>min</th>\n",
              "      <td>-1.959839e+00</td>\n",
              "      <td>-4.684510e+00</td>\n",
              "      <td>-8.865521e+00</td>\n",
              "      <td>-4.251426e-01</td>\n",
              "      <td>-1.371228e+00</td>\n",
              "    </tr>\n",
              "    <tr>\n",
              "      <th>25%</th>\n",
              "      <td>-6.221710e-01</td>\n",
              "      <td>2.947971e-02</td>\n",
              "      <td>-2.101359e-01</td>\n",
              "      <td>-4.152876e-01</td>\n",
              "      <td>-6.668941e-01</td>\n",
              "    </tr>\n",
              "    <tr>\n",
              "      <th>50%</th>\n",
              "      <td>2.696074e-01</td>\n",
              "      <td>3.067732e-01</td>\n",
              "      <td>-2.101359e-01</td>\n",
              "      <td>-3.351030e-01</td>\n",
              "      <td>-2.442939e-01</td>\n",
              "    </tr>\n",
              "    <tr>\n",
              "      <th>75%</th>\n",
              "      <td>2.696074e-01</td>\n",
              "      <td>3.067732e-01</td>\n",
              "      <td>4.556630e-01</td>\n",
              "      <td>-3.692403e-02</td>\n",
              "      <td>7.417735e-01</td>\n",
              "    </tr>\n",
              "    <tr>\n",
              "      <th>max</th>\n",
              "      <td>2.944943e+00</td>\n",
              "      <td>3.357001e+00</td>\n",
              "      <td>1.787261e+00</td>\n",
              "      <td>1.108504e+01</td>\n",
              "      <td>3.981709e+00</td>\n",
              "    </tr>\n",
              "  </tbody>\n",
              "</table>\n",
              "</div>\n",
              "      <button class=\"colab-df-convert\" onclick=\"convertToInteractive('df-56d2091d-782b-45c3-b101-697e6c45b7af')\"\n",
              "              title=\"Convert this dataframe to an interactive table.\"\n",
              "              style=\"display:none;\">\n",
              "        \n",
              "  <svg xmlns=\"http://www.w3.org/2000/svg\" height=\"24px\"viewBox=\"0 0 24 24\"\n",
              "       width=\"24px\">\n",
              "    <path d=\"M0 0h24v24H0V0z\" fill=\"none\"/>\n",
              "    <path d=\"M18.56 5.44l.94 2.06.94-2.06 2.06-.94-2.06-.94-.94-2.06-.94 2.06-2.06.94zm-11 1L8.5 8.5l.94-2.06 2.06-.94-2.06-.94L8.5 2.5l-.94 2.06-2.06.94zm10 10l.94 2.06.94-2.06 2.06-.94-2.06-.94-.94-2.06-.94 2.06-2.06.94z\"/><path d=\"M17.41 7.96l-1.37-1.37c-.4-.4-.92-.59-1.43-.59-.52 0-1.04.2-1.43.59L10.3 9.45l-7.72 7.72c-.78.78-.78 2.05 0 2.83L4 21.41c.39.39.9.59 1.41.59.51 0 1.02-.2 1.41-.59l7.78-7.78 2.81-2.81c.8-.78.8-2.07 0-2.86zM5.41 20L4 18.59l7.72-7.72 1.47 1.35L5.41 20z\"/>\n",
              "  </svg>\n",
              "      </button>\n",
              "      \n",
              "  <style>\n",
              "    .colab-df-container {\n",
              "      display:flex;\n",
              "      flex-wrap:wrap;\n",
              "      gap: 12px;\n",
              "    }\n",
              "\n",
              "    .colab-df-convert {\n",
              "      background-color: #E8F0FE;\n",
              "      border: none;\n",
              "      border-radius: 50%;\n",
              "      cursor: pointer;\n",
              "      display: none;\n",
              "      fill: #1967D2;\n",
              "      height: 32px;\n",
              "      padding: 0 0 0 0;\n",
              "      width: 32px;\n",
              "    }\n",
              "\n",
              "    .colab-df-convert:hover {\n",
              "      background-color: #E2EBFA;\n",
              "      box-shadow: 0px 1px 2px rgba(60, 64, 67, 0.3), 0px 1px 3px 1px rgba(60, 64, 67, 0.15);\n",
              "      fill: #174EA6;\n",
              "    }\n",
              "\n",
              "    [theme=dark] .colab-df-convert {\n",
              "      background-color: #3B4455;\n",
              "      fill: #D2E3FC;\n",
              "    }\n",
              "\n",
              "    [theme=dark] .colab-df-convert:hover {\n",
              "      background-color: #434B5C;\n",
              "      box-shadow: 0px 1px 3px 1px rgba(0, 0, 0, 0.15);\n",
              "      filter: drop-shadow(0px 1px 2px rgba(0, 0, 0, 0.3));\n",
              "      fill: #FFFFFF;\n",
              "    }\n",
              "  </style>\n",
              "\n",
              "      <script>\n",
              "        const buttonEl =\n",
              "          document.querySelector('#df-56d2091d-782b-45c3-b101-697e6c45b7af button.colab-df-convert');\n",
              "        buttonEl.style.display =\n",
              "          google.colab.kernel.accessAllowed ? 'block' : 'none';\n",
              "\n",
              "        async function convertToInteractive(key) {\n",
              "          const element = document.querySelector('#df-56d2091d-782b-45c3-b101-697e6c45b7af');\n",
              "          const dataTable =\n",
              "            await google.colab.kernel.invokeFunction('convertToInteractive',\n",
              "                                                     [key], {});\n",
              "          if (!dataTable) return;\n",
              "\n",
              "          const docLinkHtml = 'Like what you see? Visit the ' +\n",
              "            '<a target=\"_blank\" href=https://colab.research.google.com/notebooks/data_table.ipynb>data table notebook</a>'\n",
              "            + ' to learn more about interactive tables.';\n",
              "          element.innerHTML = '';\n",
              "          dataTable['output_type'] = 'display_data';\n",
              "          await google.colab.output.renderOutput(dataTable, element);\n",
              "          const docLink = document.createElement('div');\n",
              "          docLink.innerHTML = docLinkHtml;\n",
              "          element.appendChild(docLink);\n",
              "        }\n",
              "      </script>\n",
              "    </div>\n",
              "  </div>\n",
              "  "
            ]
          },
          "metadata": {},
          "execution_count": 29
        }
      ]
    },
    {
      "cell_type": "code",
      "source": [
        "x_test[x_test.columns]= scaler.fit_transform(x_test[x_train.columns])\n",
        "x_test.describe()"
      ],
      "metadata": {
        "colab": {
          "base_uri": "https://localhost:8080/",
          "height": 300
        },
        "id": "vNEfLdqk6T3o",
        "outputId": "4cc83952-3637-4ed7-a90e-78b083a990ba"
      },
      "execution_count": 30,
      "outputs": [
        {
          "output_type": "execute_result",
          "data": {
            "text/plain": [
              "                RAM  display_size       ratings  num_of_ratings  \\\n",
              "count  1.290000e+02  1.290000e+02  1.290000e+02    1.290000e+02   \n",
              "mean  -9.983401e-17  1.292678e-15 -1.982910e-15    9.467018e-18   \n",
              "std    1.003899e+00  1.003899e+00  1.003899e+00    1.003899e+00   \n",
              "min   -2.057358e+00 -4.225508e+00 -3.001388e+00   -4.100181e-01   \n",
              "25%   -5.691382e-01 -5.828983e-01 -3.764453e-01   -3.936416e-01   \n",
              "50%   -5.691382e-01  4.578474e-01 -3.764453e-01   -3.151899e-01   \n",
              "75%    4.230081e-01  4.578474e-01  9.360262e-01   -9.845748e-02   \n",
              "max    3.399447e+00  9.782203e-01  1.592262e+00    7.917972e+00   \n",
              "\n",
              "       discount_percent  \n",
              "count      1.290000e+02  \n",
              "mean       4.303190e-17  \n",
              "std        1.003899e+00  \n",
              "min       -1.267130e+00  \n",
              "25%       -7.579097e-01  \n",
              "50%       -2.486891e-01  \n",
              "75%        6.424469e-01  \n",
              "max        4.206991e+00  "
            ],
            "text/html": [
              "\n",
              "  <div id=\"df-aa48c40b-38aa-41ae-8ebc-f4aec12bef19\">\n",
              "    <div class=\"colab-df-container\">\n",
              "      <div>\n",
              "<style scoped>\n",
              "    .dataframe tbody tr th:only-of-type {\n",
              "        vertical-align: middle;\n",
              "    }\n",
              "\n",
              "    .dataframe tbody tr th {\n",
              "        vertical-align: top;\n",
              "    }\n",
              "\n",
              "    .dataframe thead th {\n",
              "        text-align: right;\n",
              "    }\n",
              "</style>\n",
              "<table border=\"1\" class=\"dataframe\">\n",
              "  <thead>\n",
              "    <tr style=\"text-align: right;\">\n",
              "      <th></th>\n",
              "      <th>RAM</th>\n",
              "      <th>display_size</th>\n",
              "      <th>ratings</th>\n",
              "      <th>num_of_ratings</th>\n",
              "      <th>discount_percent</th>\n",
              "    </tr>\n",
              "  </thead>\n",
              "  <tbody>\n",
              "    <tr>\n",
              "      <th>count</th>\n",
              "      <td>1.290000e+02</td>\n",
              "      <td>1.290000e+02</td>\n",
              "      <td>1.290000e+02</td>\n",
              "      <td>1.290000e+02</td>\n",
              "      <td>1.290000e+02</td>\n",
              "    </tr>\n",
              "    <tr>\n",
              "      <th>mean</th>\n",
              "      <td>-9.983401e-17</td>\n",
              "      <td>1.292678e-15</td>\n",
              "      <td>-1.982910e-15</td>\n",
              "      <td>9.467018e-18</td>\n",
              "      <td>4.303190e-17</td>\n",
              "    </tr>\n",
              "    <tr>\n",
              "      <th>std</th>\n",
              "      <td>1.003899e+00</td>\n",
              "      <td>1.003899e+00</td>\n",
              "      <td>1.003899e+00</td>\n",
              "      <td>1.003899e+00</td>\n",
              "      <td>1.003899e+00</td>\n",
              "    </tr>\n",
              "    <tr>\n",
              "      <th>min</th>\n",
              "      <td>-2.057358e+00</td>\n",
              "      <td>-4.225508e+00</td>\n",
              "      <td>-3.001388e+00</td>\n",
              "      <td>-4.100181e-01</td>\n",
              "      <td>-1.267130e+00</td>\n",
              "    </tr>\n",
              "    <tr>\n",
              "      <th>25%</th>\n",
              "      <td>-5.691382e-01</td>\n",
              "      <td>-5.828983e-01</td>\n",
              "      <td>-3.764453e-01</td>\n",
              "      <td>-3.936416e-01</td>\n",
              "      <td>-7.579097e-01</td>\n",
              "    </tr>\n",
              "    <tr>\n",
              "      <th>50%</th>\n",
              "      <td>-5.691382e-01</td>\n",
              "      <td>4.578474e-01</td>\n",
              "      <td>-3.764453e-01</td>\n",
              "      <td>-3.151899e-01</td>\n",
              "      <td>-2.486891e-01</td>\n",
              "    </tr>\n",
              "    <tr>\n",
              "      <th>75%</th>\n",
              "      <td>4.230081e-01</td>\n",
              "      <td>4.578474e-01</td>\n",
              "      <td>9.360262e-01</td>\n",
              "      <td>-9.845748e-02</td>\n",
              "      <td>6.424469e-01</td>\n",
              "    </tr>\n",
              "    <tr>\n",
              "      <th>max</th>\n",
              "      <td>3.399447e+00</td>\n",
              "      <td>9.782203e-01</td>\n",
              "      <td>1.592262e+00</td>\n",
              "      <td>7.917972e+00</td>\n",
              "      <td>4.206991e+00</td>\n",
              "    </tr>\n",
              "  </tbody>\n",
              "</table>\n",
              "</div>\n",
              "      <button class=\"colab-df-convert\" onclick=\"convertToInteractive('df-aa48c40b-38aa-41ae-8ebc-f4aec12bef19')\"\n",
              "              title=\"Convert this dataframe to an interactive table.\"\n",
              "              style=\"display:none;\">\n",
              "        \n",
              "  <svg xmlns=\"http://www.w3.org/2000/svg\" height=\"24px\"viewBox=\"0 0 24 24\"\n",
              "       width=\"24px\">\n",
              "    <path d=\"M0 0h24v24H0V0z\" fill=\"none\"/>\n",
              "    <path d=\"M18.56 5.44l.94 2.06.94-2.06 2.06-.94-2.06-.94-.94-2.06-.94 2.06-2.06.94zm-11 1L8.5 8.5l.94-2.06 2.06-.94-2.06-.94L8.5 2.5l-.94 2.06-2.06.94zm10 10l.94 2.06.94-2.06 2.06-.94-2.06-.94-.94-2.06-.94 2.06-2.06.94z\"/><path d=\"M17.41 7.96l-1.37-1.37c-.4-.4-.92-.59-1.43-.59-.52 0-1.04.2-1.43.59L10.3 9.45l-7.72 7.72c-.78.78-.78 2.05 0 2.83L4 21.41c.39.39.9.59 1.41.59.51 0 1.02-.2 1.41-.59l7.78-7.78 2.81-2.81c.8-.78.8-2.07 0-2.86zM5.41 20L4 18.59l7.72-7.72 1.47 1.35L5.41 20z\"/>\n",
              "  </svg>\n",
              "      </button>\n",
              "      \n",
              "  <style>\n",
              "    .colab-df-container {\n",
              "      display:flex;\n",
              "      flex-wrap:wrap;\n",
              "      gap: 12px;\n",
              "    }\n",
              "\n",
              "    .colab-df-convert {\n",
              "      background-color: #E8F0FE;\n",
              "      border: none;\n",
              "      border-radius: 50%;\n",
              "      cursor: pointer;\n",
              "      display: none;\n",
              "      fill: #1967D2;\n",
              "      height: 32px;\n",
              "      padding: 0 0 0 0;\n",
              "      width: 32px;\n",
              "    }\n",
              "\n",
              "    .colab-df-convert:hover {\n",
              "      background-color: #E2EBFA;\n",
              "      box-shadow: 0px 1px 2px rgba(60, 64, 67, 0.3), 0px 1px 3px 1px rgba(60, 64, 67, 0.15);\n",
              "      fill: #174EA6;\n",
              "    }\n",
              "\n",
              "    [theme=dark] .colab-df-convert {\n",
              "      background-color: #3B4455;\n",
              "      fill: #D2E3FC;\n",
              "    }\n",
              "\n",
              "    [theme=dark] .colab-df-convert:hover {\n",
              "      background-color: #434B5C;\n",
              "      box-shadow: 0px 1px 3px 1px rgba(0, 0, 0, 0.15);\n",
              "      filter: drop-shadow(0px 1px 2px rgba(0, 0, 0, 0.3));\n",
              "      fill: #FFFFFF;\n",
              "    }\n",
              "  </style>\n",
              "\n",
              "      <script>\n",
              "        const buttonEl =\n",
              "          document.querySelector('#df-aa48c40b-38aa-41ae-8ebc-f4aec12bef19 button.colab-df-convert');\n",
              "        buttonEl.style.display =\n",
              "          google.colab.kernel.accessAllowed ? 'block' : 'none';\n",
              "\n",
              "        async function convertToInteractive(key) {\n",
              "          const element = document.querySelector('#df-aa48c40b-38aa-41ae-8ebc-f4aec12bef19');\n",
              "          const dataTable =\n",
              "            await google.colab.kernel.invokeFunction('convertToInteractive',\n",
              "                                                     [key], {});\n",
              "          if (!dataTable) return;\n",
              "\n",
              "          const docLinkHtml = 'Like what you see? Visit the ' +\n",
              "            '<a target=\"_blank\" href=https://colab.research.google.com/notebooks/data_table.ipynb>data table notebook</a>'\n",
              "            + ' to learn more about interactive tables.';\n",
              "          element.innerHTML = '';\n",
              "          dataTable['output_type'] = 'display_data';\n",
              "          await google.colab.output.renderOutput(dataTable, element);\n",
              "          const docLink = document.createElement('div');\n",
              "          docLink.innerHTML = docLinkHtml;\n",
              "          element.appendChild(docLink);\n",
              "        }\n",
              "      </script>\n",
              "    </div>\n",
              "  </div>\n",
              "  "
            ]
          },
          "metadata": {},
          "execution_count": 30
        }
      ]
    },
    {
      "cell_type": "code",
      "source": [
        "lr = LinearRegression()\n",
        "price_reg = lr.fit(x_train,y_train)"
      ],
      "metadata": {
        "id": "ka5ri1sC6PJ9"
      },
      "execution_count": 31,
      "outputs": []
    },
    {
      "cell_type": "code",
      "source": [
        "price_reg.score(x_train,y_train)"
      ],
      "metadata": {
        "colab": {
          "base_uri": "https://localhost:8080/"
        },
        "id": "BQ7BRBUL6PHO",
        "outputId": "15bcde83-e47a-4067-e060-d28e6e409b0d"
      },
      "execution_count": 32,
      "outputs": [
        {
          "output_type": "execute_result",
          "data": {
            "text/plain": [
              "0.9143660673178863"
            ]
          },
          "metadata": {},
          "execution_count": 32
        }
      ]
    },
    {
      "cell_type": "code",
      "source": [
        "price_reg.score(x_test,y_test)"
      ],
      "metadata": {
        "colab": {
          "base_uri": "https://localhost:8080/"
        },
        "id": "S0o6y_s66PEn",
        "outputId": "df359863-44b3-4a40-a310-813c398d789c"
      },
      "execution_count": 33,
      "outputs": [
        {
          "output_type": "execute_result",
          "data": {
            "text/plain": [
              "0.8983285002504878"
            ]
          },
          "metadata": {},
          "execution_count": 33
        }
      ]
    },
    {
      "cell_type": "code",
      "source": [
        "x_train_sm = sm.add_constant(x_train)"
      ],
      "metadata": {
        "colab": {
          "base_uri": "https://localhost:8080/"
        },
        "id": "vY1fmf5Z6PBp",
        "outputId": "436c2e34-4151-4ffe-8d6f-0f40155eb9ee"
      },
      "execution_count": 34,
      "outputs": [
        {
          "output_type": "stream",
          "name": "stderr",
          "text": [
            "/usr/local/lib/python3.7/dist-packages/statsmodels/tsa/tsatools.py:117: FutureWarning: In a future version of pandas all arguments of concat except for the argument 'objs' will be keyword-only\n",
            "  x = pd.concat(x[::order], 1)\n"
          ]
        }
      ]
    },
    {
      "cell_type": "code",
      "source": [
        "x_train_sm "
      ],
      "metadata": {
        "colab": {
          "base_uri": "https://localhost:8080/",
          "height": 424
        },
        "id": "JP4Brfkv6O-0",
        "outputId": "c42ed83d-b686-4d00-c10e-f508550522bd"
      },
      "execution_count": 35,
      "outputs": [
        {
          "output_type": "execute_result",
          "data": {
            "text/plain": [
              "     const       RAM  display_size   ratings  num_of_ratings  discount_percent\n",
              "402    1.0 -0.622171     -0.247814  1.121462        2.104442         -1.089494\n",
              "118    1.0 -0.622171      0.306773  0.455663       -0.412116         -0.666894\n",
              "114    1.0 -1.513949      0.306773 -0.210136       -0.338310         -0.385161\n",
              "137    1.0 -0.622171      0.306773 -0.210136       -0.248665         -1.230361\n",
              "318    1.0 -0.622171      0.306773 -0.875935       -0.424802         -1.089494\n",
              "..     ...       ...           ...       ...             ...               ...\n",
              "71     1.0  0.269607      0.861360  0.455663       -0.241032          1.305241\n",
              "106    1.0  0.269607      0.861360 -0.210136        0.054137          1.164374\n",
              "270    1.0  0.269607      0.029480 -0.210136       -0.335103         -1.371228\n",
              "348    1.0  1.161386      0.861360 -0.210136       -0.422957          0.741773\n",
              "102    1.0  0.269607      0.306773 -0.210136        1.333578          1.727841\n",
              "\n",
              "[301 rows x 6 columns]"
            ],
            "text/html": [
              "\n",
              "  <div id=\"df-1f22ba98-dd52-4d67-9733-9aaf748e2e73\">\n",
              "    <div class=\"colab-df-container\">\n",
              "      <div>\n",
              "<style scoped>\n",
              "    .dataframe tbody tr th:only-of-type {\n",
              "        vertical-align: middle;\n",
              "    }\n",
              "\n",
              "    .dataframe tbody tr th {\n",
              "        vertical-align: top;\n",
              "    }\n",
              "\n",
              "    .dataframe thead th {\n",
              "        text-align: right;\n",
              "    }\n",
              "</style>\n",
              "<table border=\"1\" class=\"dataframe\">\n",
              "  <thead>\n",
              "    <tr style=\"text-align: right;\">\n",
              "      <th></th>\n",
              "      <th>const</th>\n",
              "      <th>RAM</th>\n",
              "      <th>display_size</th>\n",
              "      <th>ratings</th>\n",
              "      <th>num_of_ratings</th>\n",
              "      <th>discount_percent</th>\n",
              "    </tr>\n",
              "  </thead>\n",
              "  <tbody>\n",
              "    <tr>\n",
              "      <th>402</th>\n",
              "      <td>1.0</td>\n",
              "      <td>-0.622171</td>\n",
              "      <td>-0.247814</td>\n",
              "      <td>1.121462</td>\n",
              "      <td>2.104442</td>\n",
              "      <td>-1.089494</td>\n",
              "    </tr>\n",
              "    <tr>\n",
              "      <th>118</th>\n",
              "      <td>1.0</td>\n",
              "      <td>-0.622171</td>\n",
              "      <td>0.306773</td>\n",
              "      <td>0.455663</td>\n",
              "      <td>-0.412116</td>\n",
              "      <td>-0.666894</td>\n",
              "    </tr>\n",
              "    <tr>\n",
              "      <th>114</th>\n",
              "      <td>1.0</td>\n",
              "      <td>-1.513949</td>\n",
              "      <td>0.306773</td>\n",
              "      <td>-0.210136</td>\n",
              "      <td>-0.338310</td>\n",
              "      <td>-0.385161</td>\n",
              "    </tr>\n",
              "    <tr>\n",
              "      <th>137</th>\n",
              "      <td>1.0</td>\n",
              "      <td>-0.622171</td>\n",
              "      <td>0.306773</td>\n",
              "      <td>-0.210136</td>\n",
              "      <td>-0.248665</td>\n",
              "      <td>-1.230361</td>\n",
              "    </tr>\n",
              "    <tr>\n",
              "      <th>318</th>\n",
              "      <td>1.0</td>\n",
              "      <td>-0.622171</td>\n",
              "      <td>0.306773</td>\n",
              "      <td>-0.875935</td>\n",
              "      <td>-0.424802</td>\n",
              "      <td>-1.089494</td>\n",
              "    </tr>\n",
              "    <tr>\n",
              "      <th>...</th>\n",
              "      <td>...</td>\n",
              "      <td>...</td>\n",
              "      <td>...</td>\n",
              "      <td>...</td>\n",
              "      <td>...</td>\n",
              "      <td>...</td>\n",
              "    </tr>\n",
              "    <tr>\n",
              "      <th>71</th>\n",
              "      <td>1.0</td>\n",
              "      <td>0.269607</td>\n",
              "      <td>0.861360</td>\n",
              "      <td>0.455663</td>\n",
              "      <td>-0.241032</td>\n",
              "      <td>1.305241</td>\n",
              "    </tr>\n",
              "    <tr>\n",
              "      <th>106</th>\n",
              "      <td>1.0</td>\n",
              "      <td>0.269607</td>\n",
              "      <td>0.861360</td>\n",
              "      <td>-0.210136</td>\n",
              "      <td>0.054137</td>\n",
              "      <td>1.164374</td>\n",
              "    </tr>\n",
              "    <tr>\n",
              "      <th>270</th>\n",
              "      <td>1.0</td>\n",
              "      <td>0.269607</td>\n",
              "      <td>0.029480</td>\n",
              "      <td>-0.210136</td>\n",
              "      <td>-0.335103</td>\n",
              "      <td>-1.371228</td>\n",
              "    </tr>\n",
              "    <tr>\n",
              "      <th>348</th>\n",
              "      <td>1.0</td>\n",
              "      <td>1.161386</td>\n",
              "      <td>0.861360</td>\n",
              "      <td>-0.210136</td>\n",
              "      <td>-0.422957</td>\n",
              "      <td>0.741773</td>\n",
              "    </tr>\n",
              "    <tr>\n",
              "      <th>102</th>\n",
              "      <td>1.0</td>\n",
              "      <td>0.269607</td>\n",
              "      <td>0.306773</td>\n",
              "      <td>-0.210136</td>\n",
              "      <td>1.333578</td>\n",
              "      <td>1.727841</td>\n",
              "    </tr>\n",
              "  </tbody>\n",
              "</table>\n",
              "<p>301 rows × 6 columns</p>\n",
              "</div>\n",
              "      <button class=\"colab-df-convert\" onclick=\"convertToInteractive('df-1f22ba98-dd52-4d67-9733-9aaf748e2e73')\"\n",
              "              title=\"Convert this dataframe to an interactive table.\"\n",
              "              style=\"display:none;\">\n",
              "        \n",
              "  <svg xmlns=\"http://www.w3.org/2000/svg\" height=\"24px\"viewBox=\"0 0 24 24\"\n",
              "       width=\"24px\">\n",
              "    <path d=\"M0 0h24v24H0V0z\" fill=\"none\"/>\n",
              "    <path d=\"M18.56 5.44l.94 2.06.94-2.06 2.06-.94-2.06-.94-.94-2.06-.94 2.06-2.06.94zm-11 1L8.5 8.5l.94-2.06 2.06-.94-2.06-.94L8.5 2.5l-.94 2.06-2.06.94zm10 10l.94 2.06.94-2.06 2.06-.94-2.06-.94-.94-2.06-.94 2.06-2.06.94z\"/><path d=\"M17.41 7.96l-1.37-1.37c-.4-.4-.92-.59-1.43-.59-.52 0-1.04.2-1.43.59L10.3 9.45l-7.72 7.72c-.78.78-.78 2.05 0 2.83L4 21.41c.39.39.9.59 1.41.59.51 0 1.02-.2 1.41-.59l7.78-7.78 2.81-2.81c.8-.78.8-2.07 0-2.86zM5.41 20L4 18.59l7.72-7.72 1.47 1.35L5.41 20z\"/>\n",
              "  </svg>\n",
              "      </button>\n",
              "      \n",
              "  <style>\n",
              "    .colab-df-container {\n",
              "      display:flex;\n",
              "      flex-wrap:wrap;\n",
              "      gap: 12px;\n",
              "    }\n",
              "\n",
              "    .colab-df-convert {\n",
              "      background-color: #E8F0FE;\n",
              "      border: none;\n",
              "      border-radius: 50%;\n",
              "      cursor: pointer;\n",
              "      display: none;\n",
              "      fill: #1967D2;\n",
              "      height: 32px;\n",
              "      padding: 0 0 0 0;\n",
              "      width: 32px;\n",
              "    }\n",
              "\n",
              "    .colab-df-convert:hover {\n",
              "      background-color: #E2EBFA;\n",
              "      box-shadow: 0px 1px 2px rgba(60, 64, 67, 0.3), 0px 1px 3px 1px rgba(60, 64, 67, 0.15);\n",
              "      fill: #174EA6;\n",
              "    }\n",
              "\n",
              "    [theme=dark] .colab-df-convert {\n",
              "      background-color: #3B4455;\n",
              "      fill: #D2E3FC;\n",
              "    }\n",
              "\n",
              "    [theme=dark] .colab-df-convert:hover {\n",
              "      background-color: #434B5C;\n",
              "      box-shadow: 0px 1px 3px 1px rgba(0, 0, 0, 0.15);\n",
              "      filter: drop-shadow(0px 1px 2px rgba(0, 0, 0, 0.3));\n",
              "      fill: #FFFFFF;\n",
              "    }\n",
              "  </style>\n",
              "\n",
              "      <script>\n",
              "        const buttonEl =\n",
              "          document.querySelector('#df-1f22ba98-dd52-4d67-9733-9aaf748e2e73 button.colab-df-convert');\n",
              "        buttonEl.style.display =\n",
              "          google.colab.kernel.accessAllowed ? 'block' : 'none';\n",
              "\n",
              "        async function convertToInteractive(key) {\n",
              "          const element = document.querySelector('#df-1f22ba98-dd52-4d67-9733-9aaf748e2e73');\n",
              "          const dataTable =\n",
              "            await google.colab.kernel.invokeFunction('convertToInteractive',\n",
              "                                                     [key], {});\n",
              "          if (!dataTable) return;\n",
              "\n",
              "          const docLinkHtml = 'Like what you see? Visit the ' +\n",
              "            '<a target=\"_blank\" href=https://colab.research.google.com/notebooks/data_table.ipynb>data table notebook</a>'\n",
              "            + ' to learn more about interactive tables.';\n",
              "          element.innerHTML = '';\n",
              "          dataTable['output_type'] = 'display_data';\n",
              "          await google.colab.output.renderOutput(dataTable, element);\n",
              "          const docLink = document.createElement('div');\n",
              "          docLink.innerHTML = docLinkHtml;\n",
              "          element.appendChild(docLink);\n",
              "        }\n",
              "      </script>\n",
              "    </div>\n",
              "  </div>\n",
              "  "
            ]
          },
          "metadata": {},
          "execution_count": 35
        }
      ]
    },
    {
      "cell_type": "code",
      "source": [
        "lr = sm.OLS(y_train,x_train_sm).fit()"
      ],
      "metadata": {
        "id": "WfnedjD962D6"
      },
      "execution_count": 36,
      "outputs": []
    },
    {
      "cell_type": "code",
      "source": [
        "lr"
      ],
      "metadata": {
        "colab": {
          "base_uri": "https://localhost:8080/"
        },
        "id": "g8kDXFU063F3",
        "outputId": "ef91f046-c012-437e-e4cb-b7b3d17bdb97"
      },
      "execution_count": 37,
      "outputs": [
        {
          "output_type": "execute_result",
          "data": {
            "text/plain": [
              "<statsmodels.regression.linear_model.RegressionResultsWrapper at 0x7fea0ef2d7d0>"
            ]
          },
          "metadata": {},
          "execution_count": 37
        }
      ]
    },
    {
      "cell_type": "code",
      "source": [
        "print(lr.summary())"
      ],
      "metadata": {
        "colab": {
          "base_uri": "https://localhost:8080/"
        },
        "id": "GKzFhAKQ671p",
        "outputId": "c9e0cdb5-303d-4875-f760-e07c07c47e6b"
      },
      "execution_count": 38,
      "outputs": [
        {
          "output_type": "stream",
          "name": "stdout",
          "text": [
            "                            OLS Regression Results                            \n",
            "==============================================================================\n",
            "Dep. Variable:                  sales   R-squared:                       0.914\n",
            "Model:                            OLS   Adj. R-squared:                  0.913\n",
            "Method:                 Least Squares   F-statistic:                     630.0\n",
            "Date:                Tue, 26 Apr 2022   Prob (F-statistic):          4.39e-155\n",
            "Time:                        12:49:52   Log-Likelihood:                -1261.3\n",
            "No. Observations:                 301   AIC:                             2535.\n",
            "Df Residuals:                     295   BIC:                             2557.\n",
            "Df Model:                           5                                         \n",
            "Covariance Type:            nonrobust                                         \n",
            "====================================================================================\n",
            "                       coef    std err          t      P>|t|      [0.025      0.975]\n",
            "------------------------------------------------------------------------------------\n",
            "const               29.0430      0.931     31.210      0.000      27.212      30.874\n",
            "RAM                  2.8367      1.113      2.548      0.011       0.646       5.028\n",
            "display_size        -3.8867      1.171     -3.320      0.001      -6.191      -1.583\n",
            "ratings              3.2704      1.021      3.205      0.002       1.262       5.279\n",
            "num_of_ratings      51.3475      0.970     52.929      0.000      49.438      53.257\n",
            "discount_percent     2.8927      0.952      3.037      0.003       1.018       4.767\n",
            "==============================================================================\n",
            "Omnibus:                      134.277   Durbin-Watson:                   1.923\n",
            "Prob(Omnibus):                  0.000   Jarque-Bera (JB):             1680.119\n",
            "Skew:                           1.462   Prob(JB):                         0.00\n",
            "Kurtosis:                      14.199   Cond. No.                         2.12\n",
            "==============================================================================\n",
            "\n",
            "Warnings:\n",
            "[1] Standard Errors assume that the covariance matrix of the errors is correctly specified.\n"
          ]
        }
      ]
    }
  ],
  "metadata": {
    "colab": {
      "collapsed_sections": [],
      "name": "MLR_sales_p-value.ipynb",
      "provenance": []
    },
    "kernelspec": {
      "display_name": "Python 3",
      "name": "python3"
    },
    "language_info": {
      "name": "python"
    }
  },
  "nbformat": 4,
  "nbformat_minor": 0
}