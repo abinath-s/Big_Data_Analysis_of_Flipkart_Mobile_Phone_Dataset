{
  "nbformat": 4,
  "nbformat_minor": 0,
  "metadata": {
    "colab": {
      "name": "Big Data Analysis of Flipkart Mobile Phone Dataset.ipynb",
      "provenance": [],
      "collapsed_sections": []
    },
    "kernelspec": {
      "name": "python3",
      "display_name": "Python 3"
    },
    "language_info": {
      "name": "python"
    }
  },
  "cells": [
    {
      "cell_type": "markdown",
      "metadata": {
        "id": "B5FBLRz48BCQ"
      },
      "source": [
        "***Flipkart Mobile Analysis***"
      ]
    },
    {
      "cell_type": "markdown",
      "metadata": {
        "id": "zyuggBMk8bvr"
      },
      "source": [
        "\n",
        "\n",
        "---\n",
        "\n"
      ]
    },
    {
      "cell_type": "markdown",
      "metadata": {
        "id": "JlMMSXn2_jbX"
      },
      "source": [
        "Flipkart\n",
        "\n",
        "Flipkart is an Indian e-commerce company, headquartered in Bangalore, Karnataka, India. It is the largest e-commerce company in India and was founded by Sachin and Binny Bansal. The company has wide variety of products electronics like laptops, tablets, smartphones, and mobile accessories to in-vogue fashion staples like shoes, clothing and lifestyle accessories; from modern furniture like sofa sets, dining tables, and wardrobes to appliances that make your life easy like washing machines, TVs, ACs, mixer grinder juicers and other time-saving kitchen and small appliances; from home furnishings like cushion covers, mattresses and bedsheets to toys and musical instruments."
      ]
    },
    {
      "cell_type": "markdown",
      "metadata": {
        "id": "R-YJ4Q4c-U1F"
      },
      "source": [
        "\n",
        "\n",
        "---\n",
        "\n"
      ]
    },
    {
      "cell_type": "markdown",
      "metadata": {
        "id": "MO-B5Uo4_ppt"
      },
      "source": [
        "Mobile phones\n",
        "\n",
        "Mobile phones are one of the most rapidly rising industries, as well as one of the most prominent industries in the technology sector. The rate of increase has been exponential, with the number of mobile phone customers increasing fivefold in the last decade. Globally, the number of smartphones sold to end users climbed from 300 million in 2010 to 1.5 billion by 2020."
      ]
    },
    {
      "cell_type": "markdown",
      "metadata": {
        "id": "j6uyu3yY_8Gv"
      },
      "source": [
        "\n",
        "\n",
        "---\n",
        "\n"
      ]
    },
    {
      "cell_type": "markdown",
      "metadata": {
        "id": "40z6ikS2_3Dw"
      },
      "source": [
        "Flipkart and Mobile Phones\n",
        "\n",
        "As previously stated, mobile phones are in high demand and are one of the ideal products for a novice to sell. Flipkart will be the ideal spot for a vendor to market their stuff because its reach."
      ]
    },
    {
      "cell_type": "markdown",
      "metadata": {
        "id": "G76Iq73mAG5T"
      },
      "source": [
        "\n",
        "\n",
        "---\n",
        "\n"
      ]
    },
    {
      "cell_type": "markdown",
      "metadata": {
        "id": "HiLsu2FgAHn1"
      },
      "source": [
        "Content\n",
        "\n",
        "The dataset contains description of top 5 most popular mobile brand in India.\n",
        "Columns : There are 16 columns each having a title which is self explanatory.\n",
        "Rows : There are 430 rows each having a mobile with at least a distinct feature."
      ]
    },
    {
      "cell_type": "markdown",
      "metadata": {
        "id": "sPs3DIm6ARqG"
      },
      "source": [
        "\n",
        "\n",
        "---\n",
        "\n"
      ]
    },
    {
      "cell_type": "markdown",
      "metadata": {
        "id": "fkJaRGJNATPI"
      },
      "source": [
        "Acknowledgements\n",
        "\n",
        "The data was retrieved directly from Flipkart website using some web crawling techniques"
      ]
    },
    {
      "cell_type": "markdown",
      "metadata": {
        "id": "p-iCllNFARxI"
      },
      "source": [
        "\n",
        "\n",
        "---\n",
        "\n"
      ]
    },
    {
      "cell_type": "markdown",
      "metadata": {
        "id": "mXhGs2D1AYIP"
      },
      "source": [
        "Assumption\n",
        "\n",
        "We don’t have direct sales report of how many units of a mobile model was sold. In general, number of people rating a product is directly proportional to number of units sold. So, for the purpose of the solution, we are using number of people rating the product as the equivalent units sold."
      ]
    },
    {
      "cell_type": "markdown",
      "metadata": {
        "id": "n5A409fmASGD"
      },
      "source": [
        "\n",
        "\n",
        "---\n",
        "\n"
      ]
    },
    {
      "cell_type": "markdown",
      "metadata": {
        "id": "3T07r9rgAzpU"
      },
      "source": [
        "Inspiration\n",
        "\n",
        "The objective is to address a hypothetical business problem for a Flipkart Authorized Seller. According to the hypothesis the individual is looking to sell mobile phones on Flipkart. For this, the individual is looking for the best product, brand, specification and deals that can generate the most revenue with the least amount of investment and budget constraints.\n",
        "\n",
        "Questions to be answered:\n",
        "\n",
        "Whether he should sell product for a particular brand only or try to focus on model from different brands?\n",
        "Using EDA and Data Visualization find out insights and relation between different features\n",
        "Perform detailed analysis of each brand.\n",
        "Assuming a budget for the problem come to a solution with maximum return."
      ]
    },
    {
      "cell_type": "markdown",
      "metadata": {
        "id": "b62GGe90Aye6"
      },
      "source": [
        "\n",
        "\n",
        "---\n",
        "\n"
      ]
    },
    {
      "cell_type": "markdown",
      "metadata": {
        "id": "dc3yoo3h86sz"
      },
      "source": [
        "# ***DATA ANALYSIS***"
      ]
    },
    {
      "cell_type": "markdown",
      "metadata": {
        "id": "WSh52MNJ8oIP"
      },
      "source": [
        "# Importing all the required libraries and packages."
      ]
    },
    {
      "cell_type": "code",
      "metadata": {
        "id": "jtgA0pu96VE7"
      },
      "source": [
        "import pandas as pd\n",
        "import numpy as np\n",
        "from matplotlib import pyplot as plt\n",
        "from matplotlib.gridspec import GridSpec\n",
        "import seaborn as sns\n",
        "from sklearn.preprocessing import LabelEncoder\n",
        "from matplotlib.pyplot import figure\n",
        "import matplotlib.pyplot as plt"
      ],
      "execution_count": 3,
      "outputs": []
    },
    {
      "cell_type": "markdown",
      "metadata": {
        "id": "Py-yOYkkDcE-"
      },
      "source": [
        "# Importing CSV file as dataframes using file.upload() method from a local drive. "
      ]
    },
    {
      "cell_type": "code",
      "metadata": {
        "colab": {
          "resources": {
            "http://localhost:8080/nbextensions/google.colab/files.js": {
              "data": "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",
              "ok": true,
              "headers": [
                [
                  "content-type",
                  "application/javascript"
                ]
              ],
              "status": 200,
              "status_text": ""
            }
          },
          "base_uri": "https://localhost:8080/",
          "height": 72
        },
        "id": "aOTx38RWEvJA",
        "outputId": "38e295f9-0e27-4526-ef62-1a878079da12"
      },
      "source": [
        "from google.colab import files\n",
        "uploaded = files.upload()"
      ],
      "execution_count": 4,
      "outputs": [
        {
          "output_type": "display_data",
          "data": {
            "text/html": [
              "\n",
              "     <input type=\"file\" id=\"files-c474af34-a4c2-4b47-b9f6-244a9df046ea\" name=\"files[]\" multiple disabled\n",
              "        style=\"border:none\" />\n",
              "     <output id=\"result-c474af34-a4c2-4b47-b9f6-244a9df046ea\">\n",
              "      Upload widget is only available when the cell has been executed in the\n",
              "      current browser session. Please rerun this cell to enable.\n",
              "      </output>\n",
              "      <script src=\"/nbextensions/google.colab/files.js\"></script> "
            ],
            "text/plain": [
              "<IPython.core.display.HTML object>"
            ]
          },
          "metadata": {}
        },
        {
          "output_type": "stream",
          "name": "stdout",
          "text": [
            "Saving Flipkart Mobile - 2.csv to Flipkart Mobile - 2 (1).csv\n"
          ]
        }
      ]
    },
    {
      "cell_type": "markdown",
      "metadata": {
        "id": "mz5-VVwkIIRz"
      },
      "source": [
        "**----------------------------------------------------------------------------------------------------------------------------------------------------------------**"
      ]
    },
    {
      "cell_type": "markdown",
      "metadata": {
        "id": "N1QpirStGUAU"
      },
      "source": [
        "# ***Aanalyzing***"
      ]
    },
    {
      "cell_type": "markdown",
      "metadata": {
        "id": "xfeWK0DAFA2c"
      },
      "source": [
        " Import it into a dataframe"
      ]
    },
    {
      "cell_type": "code",
      "metadata": {
        "id": "Q9gitbznE6VI"
      },
      "source": [
        "import io\n",
        "df2 = pd.read_csv(io.BytesIO(uploaded['Flipkart Mobile - 2.csv']))"
      ],
      "execution_count": 5,
      "outputs": []
    },
    {
      "cell_type": "code",
      "metadata": {
        "colab": {
          "base_uri": "https://localhost:8080/",
          "height": 643
        },
        "id": "jHqWTTB7i2Nq",
        "outputId": "39ba24b1-1c48-4fed-e0bf-e40a49e86efa"
      },
      "source": [
        "df2\n"
      ],
      "execution_count": 47,
      "outputs": [
        {
          "output_type": "execute_result",
          "data": {
            "text/html": [
              "<div>\n",
              "<style scoped>\n",
              "    .dataframe tbody tr th:only-of-type {\n",
              "        vertical-align: middle;\n",
              "    }\n",
              "\n",
              "    .dataframe tbody tr th {\n",
              "        vertical-align: top;\n",
              "    }\n",
              "\n",
              "    .dataframe thead th {\n",
              "        text-align: right;\n",
              "    }\n",
              "</style>\n",
              "<table border=\"1\" class=\"dataframe\">\n",
              "  <thead>\n",
              "    <tr style=\"text-align: right;\">\n",
              "      <th></th>\n",
              "      <th>brand</th>\n",
              "      <th>model</th>\n",
              "      <th>base_color</th>\n",
              "      <th>processor</th>\n",
              "      <th>screen_size</th>\n",
              "      <th>ROM</th>\n",
              "      <th>RAM</th>\n",
              "      <th>display_size</th>\n",
              "      <th>num_rear_camera</th>\n",
              "      <th>num_front_camera</th>\n",
              "      <th>battery_capacity</th>\n",
              "      <th>ratings</th>\n",
              "      <th>num_of_ratings</th>\n",
              "      <th>sales_price</th>\n",
              "      <th>discount_percent</th>\n",
              "      <th>sales</th>\n",
              "    </tr>\n",
              "  </thead>\n",
              "  <tbody>\n",
              "    <tr>\n",
              "      <th>0</th>\n",
              "      <td>Apple</td>\n",
              "      <td>iPhone SE</td>\n",
              "      <td>Black</td>\n",
              "      <td>Water</td>\n",
              "      <td>Very Small</td>\n",
              "      <td>64</td>\n",
              "      <td>2</td>\n",
              "      <td>4.7</td>\n",
              "      <td>1</td>\n",
              "      <td>1</td>\n",
              "      <td>1800</td>\n",
              "      <td>4.5</td>\n",
              "      <td>38645</td>\n",
              "      <td>32999</td>\n",
              "      <td>0.17</td>\n",
              "      <td>127.52</td>\n",
              "    </tr>\n",
              "    <tr>\n",
              "      <th>1</th>\n",
              "      <td>Apple</td>\n",
              "      <td>iPhone 12 Mini</td>\n",
              "      <td>Red</td>\n",
              "      <td>Ceramic</td>\n",
              "      <td>Small</td>\n",
              "      <td>64</td>\n",
              "      <td>4</td>\n",
              "      <td>5.4</td>\n",
              "      <td>2</td>\n",
              "      <td>1</td>\n",
              "      <td>2815</td>\n",
              "      <td>4.5</td>\n",
              "      <td>244</td>\n",
              "      <td>57149</td>\n",
              "      <td>0.04</td>\n",
              "      <td>1.39</td>\n",
              "    </tr>\n",
              "    <tr>\n",
              "      <th>2</th>\n",
              "      <td>Apple</td>\n",
              "      <td>iPhone SE</td>\n",
              "      <td>Red</td>\n",
              "      <td>Water</td>\n",
              "      <td>Very Small</td>\n",
              "      <td>64</td>\n",
              "      <td>2</td>\n",
              "      <td>4.7</td>\n",
              "      <td>1</td>\n",
              "      <td>1</td>\n",
              "      <td>1800</td>\n",
              "      <td>4.5</td>\n",
              "      <td>38645</td>\n",
              "      <td>32999</td>\n",
              "      <td>0.17</td>\n",
              "      <td>127.52</td>\n",
              "    </tr>\n",
              "    <tr>\n",
              "      <th>3</th>\n",
              "      <td>Apple</td>\n",
              "      <td>iPhone XR</td>\n",
              "      <td>Others</td>\n",
              "      <td>iOS</td>\n",
              "      <td>Medium</td>\n",
              "      <td>64</td>\n",
              "      <td>3</td>\n",
              "      <td>6.1</td>\n",
              "      <td>1</td>\n",
              "      <td>1</td>\n",
              "      <td>2942</td>\n",
              "      <td>4.6</td>\n",
              "      <td>5366</td>\n",
              "      <td>42999</td>\n",
              "      <td>0.10</td>\n",
              "      <td>23.07</td>\n",
              "    </tr>\n",
              "    <tr>\n",
              "      <th>4</th>\n",
              "      <td>Apple</td>\n",
              "      <td>iPhone 12</td>\n",
              "      <td>Red</td>\n",
              "      <td>Ceramic</td>\n",
              "      <td>Medium</td>\n",
              "      <td>128</td>\n",
              "      <td>4</td>\n",
              "      <td>6.1</td>\n",
              "      <td>2</td>\n",
              "      <td>1</td>\n",
              "      <td>2815</td>\n",
              "      <td>4.6</td>\n",
              "      <td>745</td>\n",
              "      <td>69149</td>\n",
              "      <td>0.02</td>\n",
              "      <td>5.15</td>\n",
              "    </tr>\n",
              "    <tr>\n",
              "      <th>...</th>\n",
              "      <td>...</td>\n",
              "      <td>...</td>\n",
              "      <td>...</td>\n",
              "      <td>...</td>\n",
              "      <td>...</td>\n",
              "      <td>...</td>\n",
              "      <td>...</td>\n",
              "      <td>...</td>\n",
              "      <td>...</td>\n",
              "      <td>...</td>\n",
              "      <td>...</td>\n",
              "      <td>...</td>\n",
              "      <td>...</td>\n",
              "      <td>...</td>\n",
              "      <td>...</td>\n",
              "      <td>...</td>\n",
              "    </tr>\n",
              "    <tr>\n",
              "      <th>425</th>\n",
              "      <td>Xiaomi</td>\n",
              "      <td>Redmi 6 Pro</td>\n",
              "      <td>Black</td>\n",
              "      <td>Qualcomm</td>\n",
              "      <td>Small</td>\n",
              "      <td>32</td>\n",
              "      <td>3</td>\n",
              "      <td>5.8</td>\n",
              "      <td>2</td>\n",
              "      <td>1</td>\n",
              "      <td>4000</td>\n",
              "      <td>4.3</td>\n",
              "      <td>1870</td>\n",
              "      <td>7999</td>\n",
              "      <td>0.30</td>\n",
              "      <td>1.50</td>\n",
              "    </tr>\n",
              "    <tr>\n",
              "      <th>426</th>\n",
              "      <td>Xiaomi</td>\n",
              "      <td>Redmi 6 Pro</td>\n",
              "      <td>Red</td>\n",
              "      <td>Qualcomm</td>\n",
              "      <td>Small</td>\n",
              "      <td>64</td>\n",
              "      <td>4</td>\n",
              "      <td>5.8</td>\n",
              "      <td>2</td>\n",
              "      <td>1</td>\n",
              "      <td>4000</td>\n",
              "      <td>4.3</td>\n",
              "      <td>1783</td>\n",
              "      <td>9699</td>\n",
              "      <td>0.28</td>\n",
              "      <td>1.73</td>\n",
              "    </tr>\n",
              "    <tr>\n",
              "      <th>427</th>\n",
              "      <td>Xiaomi</td>\n",
              "      <td>Mi 11 Lite</td>\n",
              "      <td>Others</td>\n",
              "      <td>Qualcomm</td>\n",
              "      <td>Large</td>\n",
              "      <td>128</td>\n",
              "      <td>6</td>\n",
              "      <td>6.5</td>\n",
              "      <td>3</td>\n",
              "      <td>1</td>\n",
              "      <td>4250</td>\n",
              "      <td>4.2</td>\n",
              "      <td>1554</td>\n",
              "      <td>21999</td>\n",
              "      <td>0.12</td>\n",
              "      <td>3.42</td>\n",
              "    </tr>\n",
              "    <tr>\n",
              "      <th>428</th>\n",
              "      <td>Xiaomi</td>\n",
              "      <td>Redmi 8A Dual</td>\n",
              "      <td>Blue</td>\n",
              "      <td>Qualcomm</td>\n",
              "      <td>Medium</td>\n",
              "      <td>32</td>\n",
              "      <td>3</td>\n",
              "      <td>6.2</td>\n",
              "      <td>2</td>\n",
              "      <td>1</td>\n",
              "      <td>5000</td>\n",
              "      <td>4.2</td>\n",
              "      <td>8161</td>\n",
              "      <td>8299</td>\n",
              "      <td>0.07</td>\n",
              "      <td>6.77</td>\n",
              "    </tr>\n",
              "    <tr>\n",
              "      <th>429</th>\n",
              "      <td>Xiaomi</td>\n",
              "      <td>Redmi 6 Pro</td>\n",
              "      <td>Blue</td>\n",
              "      <td>Qualcomm</td>\n",
              "      <td>Small</td>\n",
              "      <td>32</td>\n",
              "      <td>3</td>\n",
              "      <td>5.8</td>\n",
              "      <td>2</td>\n",
              "      <td>1</td>\n",
              "      <td>4000</td>\n",
              "      <td>4.3</td>\n",
              "      <td>1870</td>\n",
              "      <td>8190</td>\n",
              "      <td>0.36</td>\n",
              "      <td>1.53</td>\n",
              "    </tr>\n",
              "  </tbody>\n",
              "</table>\n",
              "<p>430 rows × 16 columns</p>\n",
              "</div>"
            ],
            "text/plain": [
              "      brand           model base_color  ... sales_price discount_percent   sales\n",
              "0     Apple       iPhone SE      Black  ...       32999             0.17  127.52\n",
              "1     Apple  iPhone 12 Mini        Red  ...       57149             0.04    1.39\n",
              "2     Apple       iPhone SE        Red  ...       32999             0.17  127.52\n",
              "3     Apple       iPhone XR     Others  ...       42999             0.10   23.07\n",
              "4     Apple       iPhone 12        Red  ...       69149             0.02    5.15\n",
              "..      ...             ...        ...  ...         ...              ...     ...\n",
              "425  Xiaomi     Redmi 6 Pro      Black  ...        7999             0.30    1.50\n",
              "426  Xiaomi     Redmi 6 Pro        Red  ...        9699             0.28    1.73\n",
              "427  Xiaomi      Mi 11 Lite     Others  ...       21999             0.12    3.42\n",
              "428  Xiaomi   Redmi 8A Dual       Blue  ...        8299             0.07    6.77\n",
              "429  Xiaomi     Redmi 6 Pro       Blue  ...        8190             0.36    1.53\n",
              "\n",
              "[430 rows x 16 columns]"
            ]
          },
          "metadata": {},
          "execution_count": 47
        }
      ]
    },
    {
      "cell_type": "code",
      "metadata": {
        "id": "_ra4bihfGwcv"
      },
      "source": [
        "Flipkart_Mobile_df = pd.read_csv('Flipkart Mobile - 2.csv')"
      ],
      "execution_count": 6,
      "outputs": []
    },
    {
      "cell_type": "code",
      "metadata": {
        "colab": {
          "base_uri": "https://localhost:8080/",
          "height": 326
        },
        "id": "EOJzGJl9HIFM",
        "outputId": "d78651f6-210d-4b4a-86b6-eddb23155445"
      },
      "source": [
        "Flipkart_Mobile_df.head()"
      ],
      "execution_count": 7,
      "outputs": [
        {
          "output_type": "execute_result",
          "data": {
            "text/html": [
              "<div>\n",
              "<style scoped>\n",
              "    .dataframe tbody tr th:only-of-type {\n",
              "        vertical-align: middle;\n",
              "    }\n",
              "\n",
              "    .dataframe tbody tr th {\n",
              "        vertical-align: top;\n",
              "    }\n",
              "\n",
              "    .dataframe thead th {\n",
              "        text-align: right;\n",
              "    }\n",
              "</style>\n",
              "<table border=\"1\" class=\"dataframe\">\n",
              "  <thead>\n",
              "    <tr style=\"text-align: right;\">\n",
              "      <th></th>\n",
              "      <th>brand</th>\n",
              "      <th>model</th>\n",
              "      <th>base_color</th>\n",
              "      <th>processor</th>\n",
              "      <th>screen_size</th>\n",
              "      <th>ROM</th>\n",
              "      <th>RAM</th>\n",
              "      <th>display_size</th>\n",
              "      <th>num_rear_camera</th>\n",
              "      <th>num_front_camera</th>\n",
              "      <th>battery_capacity</th>\n",
              "      <th>ratings</th>\n",
              "      <th>num_of_ratings</th>\n",
              "      <th>sales_price</th>\n",
              "      <th>discount_percent</th>\n",
              "      <th>sales</th>\n",
              "    </tr>\n",
              "  </thead>\n",
              "  <tbody>\n",
              "    <tr>\n",
              "      <th>0</th>\n",
              "      <td>Apple</td>\n",
              "      <td>iPhone SE</td>\n",
              "      <td>Black</td>\n",
              "      <td>Water</td>\n",
              "      <td>Very Small</td>\n",
              "      <td>64</td>\n",
              "      <td>2</td>\n",
              "      <td>4.7</td>\n",
              "      <td>1</td>\n",
              "      <td>1</td>\n",
              "      <td>1800</td>\n",
              "      <td>4.5</td>\n",
              "      <td>38645</td>\n",
              "      <td>32999</td>\n",
              "      <td>0.17</td>\n",
              "      <td>127.52</td>\n",
              "    </tr>\n",
              "    <tr>\n",
              "      <th>1</th>\n",
              "      <td>Apple</td>\n",
              "      <td>iPhone 12 Mini</td>\n",
              "      <td>Red</td>\n",
              "      <td>Ceramic</td>\n",
              "      <td>Small</td>\n",
              "      <td>64</td>\n",
              "      <td>4</td>\n",
              "      <td>5.4</td>\n",
              "      <td>2</td>\n",
              "      <td>1</td>\n",
              "      <td>2815</td>\n",
              "      <td>4.5</td>\n",
              "      <td>244</td>\n",
              "      <td>57149</td>\n",
              "      <td>0.04</td>\n",
              "      <td>1.39</td>\n",
              "    </tr>\n",
              "    <tr>\n",
              "      <th>2</th>\n",
              "      <td>Apple</td>\n",
              "      <td>iPhone SE</td>\n",
              "      <td>Red</td>\n",
              "      <td>Water</td>\n",
              "      <td>Very Small</td>\n",
              "      <td>64</td>\n",
              "      <td>2</td>\n",
              "      <td>4.7</td>\n",
              "      <td>1</td>\n",
              "      <td>1</td>\n",
              "      <td>1800</td>\n",
              "      <td>4.5</td>\n",
              "      <td>38645</td>\n",
              "      <td>32999</td>\n",
              "      <td>0.17</td>\n",
              "      <td>127.52</td>\n",
              "    </tr>\n",
              "    <tr>\n",
              "      <th>3</th>\n",
              "      <td>Apple</td>\n",
              "      <td>iPhone XR</td>\n",
              "      <td>Others</td>\n",
              "      <td>iOS</td>\n",
              "      <td>Medium</td>\n",
              "      <td>64</td>\n",
              "      <td>3</td>\n",
              "      <td>6.1</td>\n",
              "      <td>1</td>\n",
              "      <td>1</td>\n",
              "      <td>2942</td>\n",
              "      <td>4.6</td>\n",
              "      <td>5366</td>\n",
              "      <td>42999</td>\n",
              "      <td>0.10</td>\n",
              "      <td>23.07</td>\n",
              "    </tr>\n",
              "    <tr>\n",
              "      <th>4</th>\n",
              "      <td>Apple</td>\n",
              "      <td>iPhone 12</td>\n",
              "      <td>Red</td>\n",
              "      <td>Ceramic</td>\n",
              "      <td>Medium</td>\n",
              "      <td>128</td>\n",
              "      <td>4</td>\n",
              "      <td>6.1</td>\n",
              "      <td>2</td>\n",
              "      <td>1</td>\n",
              "      <td>2815</td>\n",
              "      <td>4.6</td>\n",
              "      <td>745</td>\n",
              "      <td>69149</td>\n",
              "      <td>0.02</td>\n",
              "      <td>5.15</td>\n",
              "    </tr>\n",
              "  </tbody>\n",
              "</table>\n",
              "</div>"
            ],
            "text/plain": [
              "   brand           model base_color  ... sales_price discount_percent   sales\n",
              "0  Apple       iPhone SE      Black  ...       32999             0.17  127.52\n",
              "1  Apple  iPhone 12 Mini        Red  ...       57149             0.04    1.39\n",
              "2  Apple       iPhone SE        Red  ...       32999             0.17  127.52\n",
              "3  Apple       iPhone XR     Others  ...       42999             0.10   23.07\n",
              "4  Apple       iPhone 12        Red  ...       69149             0.02    5.15\n",
              "\n",
              "[5 rows x 16 columns]"
            ]
          },
          "metadata": {},
          "execution_count": 7
        }
      ]
    },
    {
      "cell_type": "markdown",
      "metadata": {
        "id": "3neMhx10jUED"
      },
      "source": [
        "using .head() function we can able to see first 5 columns  "
      ]
    },
    {
      "cell_type": "code",
      "metadata": {
        "colab": {
          "base_uri": "https://localhost:8080/",
          "height": 326
        },
        "id": "zOIW4qbIGhP3",
        "outputId": "c6f8f60f-7565-4e0a-b3f7-af73b9b69bec"
      },
      "source": [
        "Flipkart_Mobile_df.tail()"
      ],
      "execution_count": 8,
      "outputs": [
        {
          "output_type": "execute_result",
          "data": {
            "text/html": [
              "<div>\n",
              "<style scoped>\n",
              "    .dataframe tbody tr th:only-of-type {\n",
              "        vertical-align: middle;\n",
              "    }\n",
              "\n",
              "    .dataframe tbody tr th {\n",
              "        vertical-align: top;\n",
              "    }\n",
              "\n",
              "    .dataframe thead th {\n",
              "        text-align: right;\n",
              "    }\n",
              "</style>\n",
              "<table border=\"1\" class=\"dataframe\">\n",
              "  <thead>\n",
              "    <tr style=\"text-align: right;\">\n",
              "      <th></th>\n",
              "      <th>brand</th>\n",
              "      <th>model</th>\n",
              "      <th>base_color</th>\n",
              "      <th>processor</th>\n",
              "      <th>screen_size</th>\n",
              "      <th>ROM</th>\n",
              "      <th>RAM</th>\n",
              "      <th>display_size</th>\n",
              "      <th>num_rear_camera</th>\n",
              "      <th>num_front_camera</th>\n",
              "      <th>battery_capacity</th>\n",
              "      <th>ratings</th>\n",
              "      <th>num_of_ratings</th>\n",
              "      <th>sales_price</th>\n",
              "      <th>discount_percent</th>\n",
              "      <th>sales</th>\n",
              "    </tr>\n",
              "  </thead>\n",
              "  <tbody>\n",
              "    <tr>\n",
              "      <th>425</th>\n",
              "      <td>Xiaomi</td>\n",
              "      <td>Redmi 6 Pro</td>\n",
              "      <td>Black</td>\n",
              "      <td>Qualcomm</td>\n",
              "      <td>Small</td>\n",
              "      <td>32</td>\n",
              "      <td>3</td>\n",
              "      <td>5.8</td>\n",
              "      <td>2</td>\n",
              "      <td>1</td>\n",
              "      <td>4000</td>\n",
              "      <td>4.3</td>\n",
              "      <td>1870</td>\n",
              "      <td>7999</td>\n",
              "      <td>0.30</td>\n",
              "      <td>1.50</td>\n",
              "    </tr>\n",
              "    <tr>\n",
              "      <th>426</th>\n",
              "      <td>Xiaomi</td>\n",
              "      <td>Redmi 6 Pro</td>\n",
              "      <td>Red</td>\n",
              "      <td>Qualcomm</td>\n",
              "      <td>Small</td>\n",
              "      <td>64</td>\n",
              "      <td>4</td>\n",
              "      <td>5.8</td>\n",
              "      <td>2</td>\n",
              "      <td>1</td>\n",
              "      <td>4000</td>\n",
              "      <td>4.3</td>\n",
              "      <td>1783</td>\n",
              "      <td>9699</td>\n",
              "      <td>0.28</td>\n",
              "      <td>1.73</td>\n",
              "    </tr>\n",
              "    <tr>\n",
              "      <th>427</th>\n",
              "      <td>Xiaomi</td>\n",
              "      <td>Mi 11 Lite</td>\n",
              "      <td>Others</td>\n",
              "      <td>Qualcomm</td>\n",
              "      <td>Large</td>\n",
              "      <td>128</td>\n",
              "      <td>6</td>\n",
              "      <td>6.5</td>\n",
              "      <td>3</td>\n",
              "      <td>1</td>\n",
              "      <td>4250</td>\n",
              "      <td>4.2</td>\n",
              "      <td>1554</td>\n",
              "      <td>21999</td>\n",
              "      <td>0.12</td>\n",
              "      <td>3.42</td>\n",
              "    </tr>\n",
              "    <tr>\n",
              "      <th>428</th>\n",
              "      <td>Xiaomi</td>\n",
              "      <td>Redmi 8A Dual</td>\n",
              "      <td>Blue</td>\n",
              "      <td>Qualcomm</td>\n",
              "      <td>Medium</td>\n",
              "      <td>32</td>\n",
              "      <td>3</td>\n",
              "      <td>6.2</td>\n",
              "      <td>2</td>\n",
              "      <td>1</td>\n",
              "      <td>5000</td>\n",
              "      <td>4.2</td>\n",
              "      <td>8161</td>\n",
              "      <td>8299</td>\n",
              "      <td>0.07</td>\n",
              "      <td>6.77</td>\n",
              "    </tr>\n",
              "    <tr>\n",
              "      <th>429</th>\n",
              "      <td>Xiaomi</td>\n",
              "      <td>Redmi 6 Pro</td>\n",
              "      <td>Blue</td>\n",
              "      <td>Qualcomm</td>\n",
              "      <td>Small</td>\n",
              "      <td>32</td>\n",
              "      <td>3</td>\n",
              "      <td>5.8</td>\n",
              "      <td>2</td>\n",
              "      <td>1</td>\n",
              "      <td>4000</td>\n",
              "      <td>4.3</td>\n",
              "      <td>1870</td>\n",
              "      <td>8190</td>\n",
              "      <td>0.36</td>\n",
              "      <td>1.53</td>\n",
              "    </tr>\n",
              "  </tbody>\n",
              "</table>\n",
              "</div>"
            ],
            "text/plain": [
              "      brand          model base_color  ... sales_price discount_percent  sales\n",
              "425  Xiaomi    Redmi 6 Pro      Black  ...        7999             0.30   1.50\n",
              "426  Xiaomi    Redmi 6 Pro        Red  ...        9699             0.28   1.73\n",
              "427  Xiaomi     Mi 11 Lite     Others  ...       21999             0.12   3.42\n",
              "428  Xiaomi  Redmi 8A Dual       Blue  ...        8299             0.07   6.77\n",
              "429  Xiaomi    Redmi 6 Pro       Blue  ...        8190             0.36   1.53\n",
              "\n",
              "[5 rows x 16 columns]"
            ]
          },
          "metadata": {},
          "execution_count": 8
        }
      ]
    },
    {
      "cell_type": "markdown",
      "metadata": {
        "id": "bG8tOGEvqRrN"
      },
      "source": [
        "using .tail() function we can able to see last 5 columns"
      ]
    },
    {
      "cell_type": "markdown",
      "metadata": {
        "id": "dSl7M0RzHVCN"
      },
      "source": [
        "This shows how many null values each column in the data frame has."
      ]
    },
    {
      "cell_type": "code",
      "metadata": {
        "colab": {
          "base_uri": "https://localhost:8080/"
        },
        "id": "Q11HASVmHZTz",
        "outputId": "29539e8b-512e-4273-a066-0bcd8e7091db"
      },
      "source": [
        "Flipkart_Mobile_df.isnull().sum()"
      ],
      "execution_count": 9,
      "outputs": [
        {
          "output_type": "execute_result",
          "data": {
            "text/plain": [
              "brand               0\n",
              "model               0\n",
              "base_color          0\n",
              "processor           0\n",
              "screen_size         0\n",
              "ROM                 0\n",
              "RAM                 0\n",
              "display_size        0\n",
              "num_rear_camera     0\n",
              "num_front_camera    0\n",
              "battery_capacity    0\n",
              "ratings             0\n",
              "num_of_ratings      0\n",
              "sales_price         0\n",
              "discount_percent    0\n",
              "sales               0\n",
              "dtype: int64"
            ]
          },
          "metadata": {},
          "execution_count": 9
        }
      ]
    },
    {
      "cell_type": "markdown",
      "metadata": {
        "id": "IloiJgQ9HnIH"
      },
      "source": [
        "we can see that there are no null values in any columns of the data frame."
      ]
    },
    {
      "cell_type": "markdown",
      "metadata": {
        "id": "L-aUSFb9IXg-"
      },
      "source": [
        "**----------------------------------------------------------------------------------------------------------------------------------------------------------------**"
      ]
    },
    {
      "cell_type": "markdown",
      "metadata": {
        "id": "Y3yVa4-3IaMp"
      },
      "source": [
        "# ***VISUALIZATIONS***"
      ]
    },
    {
      "cell_type": "code",
      "metadata": {
        "id": "kSAWit4TwsIt"
      },
      "source": [
        "def scatter(Flipkart_Mobile_df, column):\n",
        "    #plot the figure\n",
        "    plt.figure()\n",
        "    #plot the scatter plot with data from the specified column in x axis and weekly sales in y axis\n",
        "    plt.scatter(Flipkart_Mobile_df[column], Flipkart_Mobile_df['sales_price'])\n",
        "    #give y label as weekly_sales\n",
        "    plt.ylabel('sales_price')\n",
        "    #Give the xlabel as the column specified as parameter in the function\n",
        "    plt.xlabel(column)"
      ],
      "execution_count": 10,
      "outputs": []
    },
    {
      "cell_type": "code",
      "metadata": {
        "colab": {
          "base_uri": "https://localhost:8080/",
          "height": 541
        },
        "id": "TWr2gbWAzZUt",
        "outputId": "ac18fd60-bcd8-4b3e-9703-80340af5a329"
      },
      "source": [
        "scatter(Flipkart_Mobile_df, 'brand')\n",
        "#plot a scatter plot using the scatter function a scatter plot of weekly sales with respect to Department\n",
        "scatter(Flipkart_Mobile_df, 'model')"
      ],
      "execution_count": 11,
      "outputs": [
        {
          "output_type": "display_data",
          "data": {
            "image/png": "[encoded data removed]",
            "text/plain": [
              "<Figure size 432x288 with 1 Axes>"
            ]
          },
          "metadata": {
            "needs_background": "light"
          }
        },
        {
          "output_type": "display_data",
          "data": {
            "image/png": "[encoded data removed]",
            "text/plain": [
              "<Figure size 432x288 with 1 Axes>"
            ]
          },
          "metadata": {
            "needs_background": "light"
          }
        }
      ]
    },
    {
      "cell_type": "markdown",
      "metadata": {
        "id": "Gp1hHYo5rPA_"
      },
      "source": [
        "from this plotting we understand only 3 mobiles cost above 1 lak and that 3 mobiles belongs to Samsung."
      ]
    },
    {
      "cell_type": "code",
      "metadata": {
        "colab": {
          "base_uri": "https://localhost:8080/",
          "height": 550
        },
        "id": "lPGRnZq_07V5",
        "outputId": "7fc96f34-0d26-4e84-f980-edb59e5e60c1"
      },
      "source": [
        "grouped_brand = Flipkart_Mobile_df.groupby(['brand'],as_index=False).model.count()\n",
        "figure(figsize=(10, 8), dpi=80)\n",
        "plt.bar(grouped_brand['brand'], grouped_brand['model'],color ='g')"
      ],
      "execution_count": 81,
      "outputs": [
        {
          "output_type": "execute_result",
          "data": {
            "text/plain": [
              "<BarContainer object of 5 artists>"
            ]
          },
          "metadata": {},
          "execution_count": 81
        },
        {
          "output_type": "display_data",
          "data": {
            "image/png": "[encoded data removed]",
            "text/plain": [
              "<Figure size 800x640 with 1 Axes>"
            ]
          },
          "metadata": {
            "needs_background": "light"
          }
        }
      ]
    },
    {
      "cell_type": "markdown",
      "metadata": {
        "id": "tlp54PZEsH1L"
      },
      "source": [
        "It clearly shows that Realme have the most models."
      ]
    },
    {
      "cell_type": "code",
      "metadata": {
        "id": "vE8tdmhHtcEH"
      },
      "source": [
        "x = Flipkart_Mobile_df['base_color'].value_counts().sort_values(ascending=False)[:10]"
      ],
      "execution_count": 14,
      "outputs": []
    },
    {
      "cell_type": "code",
      "metadata": {
        "colab": {
          "base_uri": "https://localhost:8080/",
          "height": 542
        },
        "id": "wdof8WvVtuze",
        "outputId": "7cdcd1f0-e006-473a-8d20-8dde798ee29d"
      },
      "source": [
        "import plotly.express as px\n",
        "fig = px.bar(x= x.index, y= x.values)\n",
        "fig.update_layout(title_text= \"Sales based on color  \", xaxis_title= \"Color\", yaxis_title=\"Number of item sold\")\n",
        "fig.show()\n"
      ],
      "execution_count": 65,
      "outputs": [
        {
          "output_type": "display_data",
          "data": {
            "text/html": [
              "<html>\n",
              "<head><meta charset=\"utf-8\" /></head>\n",
              "<body>\n",
              "    <div>\n",
              "            <script src=\"https://cdnjs.cloudflare.com/ajax/libs/mathjax/2.7.5/MathJax.js?config=TeX-AMS-MML_SVG\"></script><script type=\"text/javascript\">if (window.MathJax) {MathJax.Hub.Config({SVG: {font: \"STIX-Web\"}});}</script>\n",
              "                <script type=\"text/javascript\">window.PlotlyConfig = {MathJaxConfig: 'local'};</script>\n",
              "        <script src=\"https://cdn.plot.ly/plotly-latest.min.js\"></script>    \n",
              "            <div id=\"36e1215b-7817-4754-ad30-7650892923d2\" class=\"plotly-graph-div\" style=\"height:525px; width:100%;\"></div>\n",
              "            <script type=\"text/javascript\">\n",
              "                \n",
              "                    window.PLOTLYENV=window.PLOTLYENV || {};\n",
              "                    \n",
              "                if (document.getElementById(\"36e1215b-7817-4754-ad30-7650892923d2\")) {\n",
              "                    Plotly.newPlot(\n",
              "                        '36e1215b-7817-4754-ad30-7650892923d2',\n",
              "                        [{\"alignmentgroup\": \"True\", \"hoverlabel\": {\"namelength\": 0}, \"hovertemplate\": \"x=%{x}<br>y=%{y}\", \"legendgroup\": \"\", \"marker\": {\"color\": \"#636efa\"}, \"name\": \"\", \"offsetgroup\": \"\", \"orientation\": \"v\", \"showlegend\": false, \"textposition\": \"auto\", \"type\": \"bar\", \"x\": [\"Blue\", \"Black\", \"White\", \"Silver\", \"Others\", \"Green\", \"Red\", \"Gray\", \"Yellow\", \"Gold\"], \"xaxis\": \"x\", \"y\": [117, 112, 44, 32, 28, 24, 21, 20, 11, 11], \"yaxis\": \"y\"}],\n",
              "                        {\"barmode\": \"relative\", \"legend\": {\"tracegroupgap\": 0}, \"margin\": {\"t\": 60}, \"template\": {\"data\": {\"bar\": [{\"error_x\": {\"color\": \"#2a3f5f\"}, \"error_y\": {\"color\": \"#2a3f5f\"}, \"marker\": {\"line\": {\"color\": \"#E5ECF6\", \"width\": 0.5}}, \"type\": \"bar\"}], \"barpolar\": [{\"marker\": {\"line\": {\"color\": \"#E5ECF6\", \"width\": 0.5}}, \"type\": \"barpolar\"}], \"carpet\": [{\"aaxis\": {\"endlinecolor\": \"#2a3f5f\", \"gridcolor\": \"white\", \"linecolor\": \"white\", \"minorgridcolor\": \"white\", \"startlinecolor\": \"#2a3f5f\"}, \"baxis\": {\"endlinecolor\": \"#2a3f5f\", \"gridcolor\": \"white\", \"linecolor\": \"white\", \"minorgridcolor\": \"white\", \"startlinecolor\": \"#2a3f5f\"}, \"type\": \"carpet\"}], \"choropleth\": [{\"colorbar\": {\"outlinewidth\": 0, \"ticks\": \"\"}, \"type\": \"choropleth\"}], \"contour\": [{\"colorbar\": {\"outlinewidth\": 0, \"ticks\": \"\"}, \"colorscale\": [[0.0, \"#0d0887\"], [0.1111111111111111, \"#46039f\"], [0.2222222222222222, \"#7201a8\"], [0.3333333333333333, \"#9c179e\"], [0.4444444444444444, \"#bd3786\"], [0.5555555555555556, \"#d8576b\"], [0.6666666666666666, \"#ed7953\"], [0.7777777777777778, \"#fb9f3a\"], [0.8888888888888888, \"#fdca26\"], [1.0, \"#f0f921\"]], \"type\": \"contour\"}], \"contourcarpet\": [{\"colorbar\": {\"outlinewidth\": 0, \"ticks\": \"\"}, \"type\": \"contourcarpet\"}], \"heatmap\": [{\"colorbar\": {\"outlinewidth\": 0, \"ticks\": \"\"}, \"colorscale\": [[0.0, \"#0d0887\"], [0.1111111111111111, \"#46039f\"], [0.2222222222222222, \"#7201a8\"], [0.3333333333333333, \"#9c179e\"], [0.4444444444444444, \"#bd3786\"], [0.5555555555555556, \"#d8576b\"], [0.6666666666666666, \"#ed7953\"], [0.7777777777777778, \"#fb9f3a\"], [0.8888888888888888, \"#fdca26\"], [1.0, \"#f0f921\"]], \"type\": \"heatmap\"}], \"heatmapgl\": [{\"colorbar\": {\"outlinewidth\": 0, \"ticks\": \"\"}, \"colorscale\": [[0.0, \"#0d0887\"], [0.1111111111111111, \"#46039f\"], [0.2222222222222222, \"#7201a8\"], [0.3333333333333333, \"#9c179e\"], [0.4444444444444444, \"#bd3786\"], [0.5555555555555556, \"#d8576b\"], [0.6666666666666666, \"#ed7953\"], [0.7777777777777778, \"#fb9f3a\"], [0.8888888888888888, \"#fdca26\"], [1.0, \"#f0f921\"]], \"type\": \"heatmapgl\"}], \"histogram\": [{\"marker\": {\"colorbar\": {\"outlinewidth\": 0, \"ticks\": \"\"}}, \"type\": \"histogram\"}], \"histogram2d\": [{\"colorbar\": {\"outlinewidth\": 0, \"ticks\": \"\"}, \"colorscale\": [[0.0, \"#0d0887\"], [0.1111111111111111, \"#46039f\"], [0.2222222222222222, \"#7201a8\"], [0.3333333333333333, \"#9c179e\"], [0.4444444444444444, \"#bd3786\"], [0.5555555555555556, \"#d8576b\"], [0.6666666666666666, \"#ed7953\"], [0.7777777777777778, \"#fb9f3a\"], [0.8888888888888888, \"#fdca26\"], [1.0, \"#f0f921\"]], \"type\": \"histogram2d\"}], \"histogram2dcontour\": [{\"colorbar\": {\"outlinewidth\": 0, \"ticks\": \"\"}, \"colorscale\": [[0.0, \"#0d0887\"], [0.1111111111111111, \"#46039f\"], [0.2222222222222222, \"#7201a8\"], [0.3333333333333333, \"#9c179e\"], [0.4444444444444444, \"#bd3786\"], [0.5555555555555556, \"#d8576b\"], [0.6666666666666666, \"#ed7953\"], [0.7777777777777778, \"#fb9f3a\"], [0.8888888888888888, \"#fdca26\"], [1.0, \"#f0f921\"]], \"type\": \"histogram2dcontour\"}], \"mesh3d\": [{\"colorbar\": {\"outlinewidth\": 0, \"ticks\": \"\"}, \"type\": \"mesh3d\"}], \"parcoords\": [{\"line\": {\"colorbar\": {\"outlinewidth\": 0, \"ticks\": \"\"}}, \"type\": \"parcoords\"}], \"pie\": [{\"automargin\": true, \"type\": \"pie\"}], \"scatter\": [{\"marker\": {\"colorbar\": {\"outlinewidth\": 0, \"ticks\": \"\"}}, \"type\": \"scatter\"}], \"scatter3d\": [{\"line\": {\"colorbar\": {\"outlinewidth\": 0, \"ticks\": \"\"}}, \"marker\": {\"colorbar\": {\"outlinewidth\": 0, \"ticks\": \"\"}}, \"type\": \"scatter3d\"}], \"scattercarpet\": [{\"marker\": {\"colorbar\": {\"outlinewidth\": 0, \"ticks\": \"\"}}, \"type\": \"scattercarpet\"}], \"scattergeo\": [{\"marker\": {\"colorbar\": {\"outlinewidth\": 0, \"ticks\": \"\"}}, \"type\": \"scattergeo\"}], \"scattergl\": [{\"marker\": {\"colorbar\": {\"outlinewidth\": 0, \"ticks\": \"\"}}, \"type\": \"scattergl\"}], \"scattermapbox\": [{\"marker\": {\"colorbar\": {\"outlinewidth\": 0, \"ticks\": \"\"}}, \"type\": \"scattermapbox\"}], \"scatterpolar\": [{\"marker\": {\"colorbar\": {\"outlinewidth\": 0, \"ticks\": \"\"}}, \"type\": \"scatterpolar\"}], \"scatterpolargl\": [{\"marker\": {\"colorbar\": {\"outlinewidth\": 0, \"ticks\": \"\"}}, \"type\": \"scatterpolargl\"}], \"scatterternary\": [{\"marker\": {\"colorbar\": {\"outlinewidth\": 0, \"ticks\": \"\"}}, \"type\": \"scatterternary\"}], \"surface\": [{\"colorbar\": {\"outlinewidth\": 0, \"ticks\": \"\"}, \"colorscale\": [[0.0, \"#0d0887\"], [0.1111111111111111, \"#46039f\"], [0.2222222222222222, \"#7201a8\"], [0.3333333333333333, \"#9c179e\"], [0.4444444444444444, \"#bd3786\"], [0.5555555555555556, \"#d8576b\"], [0.6666666666666666, \"#ed7953\"], [0.7777777777777778, \"#fb9f3a\"], [0.8888888888888888, \"#fdca26\"], [1.0, \"#f0f921\"]], \"type\": \"surface\"}], \"table\": [{\"cells\": {\"fill\": {\"color\": \"#EBF0F8\"}, \"line\": {\"color\": \"white\"}}, \"header\": {\"fill\": {\"color\": \"#C8D4E3\"}, \"line\": {\"color\": \"white\"}}, \"type\": \"table\"}]}, \"layout\": {\"annotationdefaults\": {\"arrowcolor\": \"#2a3f5f\", \"arrowhead\": 0, \"arrowwidth\": 1}, \"coloraxis\": {\"colorbar\": {\"outlinewidth\": 0, \"ticks\": \"\"}}, \"colorscale\": {\"diverging\": [[0, \"#8e0152\"], [0.1, \"#c51b7d\"], [0.2, \"#de77ae\"], [0.3, \"#f1b6da\"], [0.4, \"#fde0ef\"], [0.5, \"#f7f7f7\"], [0.6, \"#e6f5d0\"], [0.7, \"#b8e186\"], [0.8, \"#7fbc41\"], [0.9, \"#4d9221\"], [1, \"#276419\"]], \"sequential\": [[0.0, \"#0d0887\"], [0.1111111111111111, \"#46039f\"], [0.2222222222222222, \"#7201a8\"], [0.3333333333333333, \"#9c179e\"], [0.4444444444444444, \"#bd3786\"], [0.5555555555555556, \"#d8576b\"], [0.6666666666666666, \"#ed7953\"], [0.7777777777777778, \"#fb9f3a\"], [0.8888888888888888, \"#fdca26\"], [1.0, \"#f0f921\"]], \"sequentialminus\": [[0.0, \"#0d0887\"], [0.1111111111111111, \"#46039f\"], [0.2222222222222222, \"#7201a8\"], [0.3333333333333333, \"#9c179e\"], [0.4444444444444444, \"#bd3786\"], [0.5555555555555556, \"#d8576b\"], [0.6666666666666666, \"#ed7953\"], [0.7777777777777778, \"#fb9f3a\"], [0.8888888888888888, \"#fdca26\"], [1.0, \"#f0f921\"]]}, \"colorway\": [\"#636efa\", \"#EF553B\", \"#00cc96\", \"#ab63fa\", \"#FFA15A\", \"#19d3f3\", \"#FF6692\", \"#B6E880\", \"#FF97FF\", \"#FECB52\"], \"font\": {\"color\": \"#2a3f5f\"}, \"geo\": {\"bgcolor\": \"white\", \"lakecolor\": \"white\", \"landcolor\": \"#E5ECF6\", \"showlakes\": true, \"showland\": true, \"subunitcolor\": \"white\"}, \"hoverlabel\": {\"align\": \"left\"}, \"hovermode\": \"closest\", \"mapbox\": {\"style\": \"light\"}, \"paper_bgcolor\": \"white\", \"plot_bgcolor\": \"#E5ECF6\", \"polar\": {\"angularaxis\": {\"gridcolor\": \"white\", \"linecolor\": \"white\", \"ticks\": \"\"}, \"bgcolor\": \"#E5ECF6\", \"radialaxis\": {\"gridcolor\": \"white\", \"linecolor\": \"white\", \"ticks\": \"\"}}, \"scene\": {\"xaxis\": {\"backgroundcolor\": \"#E5ECF6\", \"gridcolor\": \"white\", \"gridwidth\": 2, \"linecolor\": \"white\", \"showbackground\": true, \"ticks\": \"\", \"zerolinecolor\": \"white\"}, \"yaxis\": {\"backgroundcolor\": \"#E5ECF6\", \"gridcolor\": \"white\", \"gridwidth\": 2, \"linecolor\": \"white\", \"showbackground\": true, \"ticks\": \"\", \"zerolinecolor\": \"white\"}, \"zaxis\": {\"backgroundcolor\": \"#E5ECF6\", \"gridcolor\": \"white\", \"gridwidth\": 2, \"linecolor\": \"white\", \"showbackground\": true, \"ticks\": \"\", \"zerolinecolor\": \"white\"}}, \"shapedefaults\": {\"line\": {\"color\": \"#2a3f5f\"}}, \"ternary\": {\"aaxis\": {\"gridcolor\": \"white\", \"linecolor\": \"white\", \"ticks\": \"\"}, \"baxis\": {\"gridcolor\": \"white\", \"linecolor\": \"white\", \"ticks\": \"\"}, \"bgcolor\": \"#E5ECF6\", \"caxis\": {\"gridcolor\": \"white\", \"linecolor\": \"white\", \"ticks\": \"\"}}, \"title\": {\"x\": 0.05}, \"xaxis\": {\"automargin\": true, \"gridcolor\": \"white\", \"linecolor\": \"white\", \"ticks\": \"\", \"title\": {\"standoff\": 15}, \"zerolinecolor\": \"white\", \"zerolinewidth\": 2}, \"yaxis\": {\"automargin\": true, \"gridcolor\": \"white\", \"linecolor\": \"white\", \"ticks\": \"\", \"title\": {\"standoff\": 15}, \"zerolinecolor\": \"white\", \"zerolinewidth\": 2}}}, \"title\": {\"text\": \"Sales based on color  \"}, \"xaxis\": {\"anchor\": \"y\", \"domain\": [0.0, 1.0], \"title\": {\"text\": \"Color\"}}, \"yaxis\": {\"anchor\": \"x\", \"domain\": [0.0, 1.0], \"title\": {\"text\": \"Number of item sold\"}}},\n",
              "                        {\"responsive\": true}\n",
              "                    ).then(function(){\n",
              "                            \n",
              "var gd = document.getElementById('36e1215b-7817-4754-ad30-7650892923d2');\n",
              "var x = new MutationObserver(function (mutations, observer) {{\n",
              "        var display = window.getComputedStyle(gd).display;\n",
              "        if (!display || display === 'none') {{\n",
              "            console.log([gd, 'removed!']);\n",
              "            Plotly.purge(gd);\n",
              "            observer.disconnect();\n",
              "        }}\n",
              "}});\n",
              "\n",
              "// Listen for the removal of the full notebook cells\n",
              "var notebookContainer = gd.closest('#notebook-container');\n",
              "if (notebookContainer) {{\n",
              "    x.observe(notebookContainer, {childList: true});\n",
              "}}\n",
              "\n",
              "// Listen for the clearing of the current output cell\n",
              "var outputEl = gd.closest('.output');\n",
              "if (outputEl) {{\n",
              "    x.observe(outputEl, {childList: true});\n",
              "}}\n",
              "\n",
              "                        })\n",
              "                };\n",
              "                \n",
              "            </script>\n",
              "        </div>\n",
              "</body>\n",
              "</html>"
            ]
          },
          "metadata": {}
        }
      ]
    },
    {
      "cell_type": "markdown",
      "metadata": {
        "id": "vyGrIQP2sWp5"
      },
      "source": [
        "Blue followed by Black are more purchased by customers."
      ]
    },
    {
      "cell_type": "code",
      "metadata": {
        "colab": {
          "base_uri": "https://localhost:8080/",
          "height": 496
        },
        "id": "26-XLOc82aCY",
        "outputId": "f07c0a73-9799-4f73-9c09-c60ca0e15310"
      },
      "source": [
        "plt.figure(figsize = (10,6))\n",
        "sns.countplot(Flipkart_Mobile_df['processor'], palette = 'viridis')\n",
        "plt.title(\"Processor\")\n",
        "# Generate a countplot for the passed feature_name\n",
        "ax1 = sns.countplot(x='processor', data=Flipkart_Mobile_df, palette='Set2')        \n",
        "# set title, xlabel, ylabel, legend\n",
        "plt.xlabel('Wine Quality',fontsize  = 14)\n",
        "plt.ylabel('Count',fontsize  = 14)\n",
        "\n",
        "# Make twin axis\n",
        "ax2=ax1.twinx()\n",
        "\n",
        "# Switch so count axis is on right, frequency on left\n",
        "ax2.yaxis.tick_left()\n",
        "ax1.yaxis.tick_right()\n",
        "\n",
        "# Also switch the labels over\n",
        "ax1.yaxis.set_label_position('right')\n",
        "ax2.yaxis.set_label_position('left')\n",
        "\n",
        "ax2.set_ylabel('Frequency [%]')\n",
        "\n",
        "for p in ax1.patches:\n",
        "    x=p.get_bbox().get_points()[:,0]\n",
        "    y=p.get_bbox().get_points()[1,1]\n",
        "    ax1.annotate('{:.1f}%'.format(100.*y/len(Flipkart_Mobile_df)), (x.mean(), y), ha='center', va='bottom')\n",
        "plt.show()"
      ],
      "execution_count": 84,
      "outputs": [
        {
          "output_type": "stream",
          "name": "stderr",
          "text": [
            "/usr/local/lib/python3.7/dist-packages/seaborn/_decorators.py:43: FutureWarning:\n",
            "\n",
            "Pass the following variable as a keyword arg: x. From version 0.12, the only valid positional argument will be `data`, and passing other arguments without an explicit keyword will result in an error or misinterpretation.\n",
            "\n"
          ]
        },
        {
          "output_type": "display_data",
          "data": {
            "image/png": "[encoded data removed]",
            "text/plain": [
              "<Figure size 720x432 with 2 Axes>"
            ]
          },
          "metadata": {
            "needs_background": "light"
          }
        }
      ]
    },
    {
      "cell_type": "markdown",
      "metadata": {
        "id": "iYuDpWQ7xjht"
      },
      "source": [
        "Qualcomm is used in most of the models as a processor"
      ]
    },
    {
      "cell_type": "code",
      "metadata": {
        "colab": {
          "base_uri": "https://localhost:8080/",
          "height": 565
        },
        "id": "3t6du4S03li3",
        "outputId": "7b480c5f-f2b7-471e-fd88-00abe28e48d0"
      },
      "source": [
        "grouped_screen =  Flipkart_Mobile_df.groupby(['screen_size'],as_index=False).model.count()\n",
        "from matplotlib.pyplot import figure\n",
        "figure(figsize=(10, 8), dpi=80)\n",
        "import matplotlib.pyplot as plt\n",
        "import seaborn as sns\n",
        "plt.bar(grouped_screen['screen_size'], grouped_screen['model'])\n",
        "plt.xlabel('screen size')\n",
        "plt.ylabel('model ')"
      ],
      "execution_count": 69,
      "outputs": [
        {
          "output_type": "execute_result",
          "data": {
            "text/plain": [
              "Text(0, 0.5, 'model ')"
            ]
          },
          "metadata": {},
          "execution_count": 69
        },
        {
          "output_type": "display_data",
          "data": {
            "image/png": "[encoded data removed]",
            "text/plain": [
              "<Figure size 800x640 with 1 Axes>"
            ]
          },
          "metadata": {
            "needs_background": "light"
          }
        }
      ]
    },
    {
      "cell_type": "markdown",
      "metadata": {
        "id": "TdQ-SG56x5Xo"
      },
      "source": [
        "Large screen size is higher"
      ]
    },
    {
      "cell_type": "code",
      "metadata": {
        "colab": {
          "base_uri": "https://localhost:8080/",
          "height": 566
        },
        "id": "Iy-iqPfF3n_M",
        "outputId": "6ba97cc4-86c5-4fa9-ee88-1b3bd8d061bf"
      },
      "source": [
        "import seaborn as sns\n",
        "figure(figsize=(10, 8), dpi=80)\n",
        "sns.kdeplot(Flipkart_Mobile_df['battery_capacity'],color='red')"
      ],
      "execution_count": 18,
      "outputs": [
        {
          "output_type": "execute_result",
          "data": {
            "text/plain": [
              "<matplotlib.axes._subplots.AxesSubplot at 0x7f996af41910>"
            ]
          },
          "metadata": {},
          "execution_count": 18
        },
        {
          "output_type": "display_data",
          "data": {
            "image/png": "[encoded data removed]",
            "text/plain": [
              "<Figure size 800x640 with 1 Axes>"
            ]
          },
          "metadata": {
            "needs_background": "light"
          }
        }
      ]
    },
    {
      "cell_type": "markdown",
      "metadata": {
        "id": "KprQucQGyR14"
      },
      "source": [
        "battery capacity-5000 mAh is higher"
      ]
    },
    {
      "cell_type": "code",
      "metadata": {
        "colab": {
          "base_uri": "https://localhost:8080/",
          "height": 495
        },
        "id": "x2jhDFAAgWFf",
        "outputId": "640fa01e-5bea-4596-8a00-7cf67fd448b4"
      },
      "source": [
        "plt.figure(figsize=(18,7))\n",
        "ax = sns.countplot(x='ratings',data=Flipkart_Mobile_df, palette='Set2')\n",
        "ax.set(xticks=[0,1,2,3,4,5,6,7,8,9], xticklabels=['3.0','3.8','3.9','4.0','4.1','4.2','4.3','4.4','4.5','4.6'])\n",
        "\n",
        "# set title, xlabel, ylabel\n",
        "plt.title('Total ratings', fontsize=14)\n",
        "ax.set_xlabel('Ratings',fontsize=12)\n",
        "ax.set_ylabel('Count',fontsize=12)\n",
        "\n",
        "get_bars = ax.patches\n",
        "half_bar_length = int(len(get_bars)/2)\n",
        "bar_left = get_bars[:half_bar_length]\n",
        "bar_right = get_bars[half_bar_length:]\n",
        "\n",
        "for L, R in zip(bar_left, bar_right):\n",
        "        left_height = L.get_height()\n",
        "        right_height = R.get_height()\n",
        "        length_total = left_height + right_height\n",
        "        ax.text(L.get_x() + L.get_width()/2., left_height + 30, '{0:.0%}'.format(left_height/length_total), ha=\"center\")\n",
        "        ax.text(R.get_x() + R.get_width()/2., right_height + 30, '{0:.0%}'.format(right_height/length_total), ha=\"center\")   \n",
        "plt.show()"
      ],
      "execution_count": 75,
      "outputs": [
        {
          "output_type": "display_data",
          "data": {
            "image/png": "[encoded data removed]",
            "text/plain": [
              "<Figure size 1296x504 with 1 Axes>"
            ]
          },
          "metadata": {
            "needs_background": "light"
          }
        }
      ]
    },
    {
      "cell_type": "markdown",
      "metadata": {
        "id": "NQcZo5QSzHLe"
      },
      "source": [
        "4.3 is the rating mostly given by the customers"
      ]
    },
    {
      "cell_type": "code",
      "metadata": {
        "id": "pBPWXBQm4_S_"
      },
      "source": [
        "label = Flipkart_Mobile_df['sales_price']\n",
        "feature = Flipkart_Mobile_df.drop(['sales_price'],axis=1)"
      ],
      "execution_count": 21,
      "outputs": []
    },
    {
      "cell_type": "code",
      "metadata": {
        "id": "reyUrk3s5HoP"
      },
      "source": [
        "from sklearn.preprocessing import LabelEncoder\n",
        "from sklearn.preprocessing import LabelEncoder\n",
        "li = ['brand','model','base_color','processor','screen_size']\n",
        "for i in li:\n",
        "  feature[i] = LabelEncoder().fit_transform(feature[i])"
      ],
      "execution_count": 22,
      "outputs": []
    },
    {
      "cell_type": "code",
      "metadata": {
        "colab": {
          "base_uri": "https://localhost:8080/",
          "height": 1000
        },
        "id": "pVjK8qJW4zGq",
        "outputId": "e498e3e9-9e04-4e6a-a391-9843aa69be06"
      },
      "source": [
        "import seaborn as sns\n",
        "for i in feature.columns:\n",
        "  sns.countplot(feature[i])\n",
        "  plt.show()\n",
        "  #density is measuring medium"
      ],
      "execution_count": 23,
      "outputs": [
        {
          "output_type": "stream",
          "name": "stderr",
          "text": [
            "/usr/local/lib/python3.7/dist-packages/seaborn/_decorators.py:43: FutureWarning:\n",
            "\n",
            "Pass the following variable as a keyword arg: x. From version 0.12, the only valid positional argument will be `data`, and passing other arguments without an explicit keyword will result in an error or misinterpretation.\n",
            "\n"
          ]
        },
        {
          "output_type": "display_data",
          "data": {
            "image/png": "[encoded data removed]",
            "text/plain": [
              "<Figure size 432x288 with 1 Axes>"
            ]
          },
          "metadata": {
            "needs_background": "light"
          }
        },
        {
          "output_type": "stream",
          "name": "stderr",
          "text": [
            "/usr/local/lib/python3.7/dist-packages/seaborn/_decorators.py:43: FutureWarning:\n",
            "\n",
            "Pass the following variable as a keyword arg: x. From version 0.12, the only valid positional argument will be `data`, and passing other arguments without an explicit keyword will result in an error or misinterpretation.\n",
            "\n"
          ]
        },
        {
          "output_type": "display_data",
          "data": {
            "image/png": "[encoded data removed]",
            "text/plain": [
              "<Figure size 432x288 with 1 Axes>"
            ]
          },
          "metadata": {
            "needs_background": "light"
          }
        },
        {
          "output_type": "stream",
          "name": "stderr",
          "text": [
            "/usr/local/lib/python3.7/dist-packages/seaborn/_decorators.py:43: FutureWarning:\n",
            "\n",
            "Pass the following variable as a keyword arg: x. From version 0.12, the only valid positional argument will be `data`, and passing other arguments without an explicit keyword will result in an error or misinterpretation.\n",
            "\n"
          ]
        },
        {
          "output_type": "display_data",
          "data": {
            "image/png": "[encoded data removed]",
            "text/plain": [
              "<Figure size 432x288 with 1 Axes>"
            ]
          },
          "metadata": {
            "needs_background": "light"
          }
        },
        {
          "output_type": "stream",
          "name": "stderr",
          "text": [
            "/usr/local/lib/python3.7/dist-packages/seaborn/_decorators.py:43: FutureWarning:\n",
            "\n",
            "Pass the following variable as a keyword arg: x. From version 0.12, the only valid positional argument will be `data`, and passing other arguments without an explicit keyword will result in an error or misinterpretation.\n",
            "\n"
          ]
        },
        {
          "output_type": "display_data",
          "data": {
            "image/png": "[encoded data removed]",
            "text/plain": [
              "<Figure size 432x288 with 1 Axes>"
            ]
          },
          "metadata": {
            "needs_background": "light"
          }
        },
        {
          "output_type": "stream",
          "name": "stderr",
          "text": [
            "/usr/local/lib/python3.7/dist-packages/seaborn/_decorators.py:43: FutureWarning:\n",
            "\n",
            "Pass the following variable as a keyword arg: x. From version 0.12, the only valid positional argument will be `data`, and passing other arguments without an explicit keyword will result in an error or misinterpretation.\n",
            "\n"
          ]
        },
        {
          "output_type": "display_data",
          "data": {
            "image/png": "[encoded data removed]",
            "text/plain": [
              "<Figure size 432x288 with 1 Axes>"
            ]
          },
          "metadata": {
            "needs_background": "light"
          }
        },
        {
          "output_type": "stream",
          "name": "stderr",
          "text": [
            "/usr/local/lib/python3.7/dist-packages/seaborn/_decorators.py:43: FutureWarning:\n",
            "\n",
            "Pass the following variable as a keyword arg: x. From version 0.12, the only valid positional argument will be `data`, and passing other arguments without an explicit keyword will result in an error or misinterpretation.\n",
            "\n"
          ]
        },
        {
          "output_type": "display_data",
          "data": {
            "image/png": "[encoded data removed]",
            "text/plain": [
              "<Figure size 432x288 with 1 Axes>"
            ]
          },
          "metadata": {
            "needs_background": "light"
          }
        },
        {
          "output_type": "stream",
          "name": "stderr",
          "text": [
            "/usr/local/lib/python3.7/dist-packages/seaborn/_decorators.py:43: FutureWarning:\n",
            "\n",
            "Pass the following variable as a keyword arg: x. From version 0.12, the only valid positional argument will be `data`, and passing other arguments without an explicit keyword will result in an error or misinterpretation.\n",
            "\n"
          ]
        },
        {
          "output_type": "display_data",
          "data": {
            "image/png": "[encoded data removed]",
            "text/plain": [
              "<Figure size 432x288 with 1 Axes>"
            ]
          },
          "metadata": {
            "needs_background": "light"
          }
        },
        {
          "output_type": "stream",
          "name": "stderr",
          "text": [
            "/usr/local/lib/python3.7/dist-packages/seaborn/_decorators.py:43: FutureWarning:\n",
            "\n",
            "Pass the following variable as a keyword arg: x. From version 0.12, the only valid positional argument will be `data`, and passing other arguments without an explicit keyword will result in an error or misinterpretation.\n",
            "\n"
          ]
        },
        {
          "output_type": "display_data",
          "data": {
            "image/png": "[encoded data removed]",
            "text/plain": [
              "<Figure size 432x288 with 1 Axes>"
            ]
          },
          "metadata": {
            "needs_background": "light"
          }
        },
        {
          "output_type": "stream",
          "name": "stderr",
          "text": [
            "/usr/local/lib/python3.7/dist-packages/seaborn/_decorators.py:43: FutureWarning:\n",
            "\n",
            "Pass the following variable as a keyword arg: x. From version 0.12, the only valid positional argument will be `data`, and passing other arguments without an explicit keyword will result in an error or misinterpretation.\n",
            "\n"
          ]
        },
        {
          "output_type": "display_data",
          "data": {
            "image/png": "[encoded data removed]",
            "text/plain": [
              "<Figure size 432x288 with 1 Axes>"
            ]
          },
          "metadata": {
            "needs_background": "light"
          }
        },
        {
          "output_type": "stream",
          "name": "stderr",
          "text": [
            "/usr/local/lib/python3.7/dist-packages/seaborn/_decorators.py:43: FutureWarning:\n",
            "\n",
            "Pass the following variable as a keyword arg: x. From version 0.12, the only valid positional argument will be `data`, and passing other arguments without an explicit keyword will result in an error or misinterpretation.\n",
            "\n"
          ]
        },
        {
          "output_type": "display_data",
          "data": {
            "image/png": "[encoded data removed]",
            "text/plain": [
              "<Figure size 432x288 with 1 Axes>"
            ]
          },
          "metadata": {
            "needs_background": "light"
          }
        },
        {
          "output_type": "stream",
          "name": "stderr",
          "text": [
            "/usr/local/lib/python3.7/dist-packages/seaborn/_decorators.py:43: FutureWarning:\n",
            "\n",
            "Pass the following variable as a keyword arg: x. From version 0.12, the only valid positional argument will be `data`, and passing other arguments without an explicit keyword will result in an error or misinterpretation.\n",
            "\n"
          ]
        },
        {
          "output_type": "display_data",
          "data": {
            "image/png": "[encoded data removed]",
            "text/plain": [
              "<Figure size 432x288 with 1 Axes>"
            ]
          },
          "metadata": {
            "needs_background": "light"
          }
        },
        {
          "output_type": "stream",
          "name": "stderr",
          "text": [
            "/usr/local/lib/python3.7/dist-packages/seaborn/_decorators.py:43: FutureWarning:\n",
            "\n",
            "Pass the following variable as a keyword arg: x. From version 0.12, the only valid positional argument will be `data`, and passing other arguments without an explicit keyword will result in an error or misinterpretation.\n",
            "\n"
          ]
        },
        {
          "output_type": "display_data",
          "data": {
            "image/png": "[encoded data removed]",
            "text/plain": [
              "<Figure size 432x288 with 1 Axes>"
            ]
          },
          "metadata": {
            "needs_background": "light"
          }
        },
        {
          "output_type": "stream",
          "name": "stderr",
          "text": [
            "/usr/local/lib/python3.7/dist-packages/seaborn/_decorators.py:43: FutureWarning:\n",
            "\n",
            "Pass the following variable as a keyword arg: x. From version 0.12, the only valid positional argument will be `data`, and passing other arguments without an explicit keyword will result in an error or misinterpretation.\n",
            "\n"
          ]
        },
        {
          "output_type": "display_data",
          "data": {
            "image/png": "[encoded data removed]",
            "text/plain": [
              "<Figure size 432x288 with 1 Axes>"
            ]
          },
          "metadata": {
            "needs_background": "light"
          }
        },
        {
          "output_type": "stream",
          "name": "stderr",
          "text": [
            "/usr/local/lib/python3.7/dist-packages/seaborn/_decorators.py:43: FutureWarning:\n",
            "\n",
            "Pass the following variable as a keyword arg: x. From version 0.12, the only valid positional argument will be `data`, and passing other arguments without an explicit keyword will result in an error or misinterpretation.\n",
            "\n"
          ]
        },
        {
          "output_type": "display_data",
          "data": {
            "image/png": "[encoded data removed]",
            "text/plain": [
              "<Figure size 432x288 with 1 Axes>"
            ]
          },
          "metadata": {
            "needs_background": "light"
          }
        },
        {
          "output_type": "stream",
          "name": "stderr",
          "text": [
            "/usr/local/lib/python3.7/dist-packages/seaborn/_decorators.py:43: FutureWarning:\n",
            "\n",
            "Pass the following variable as a keyword arg: x. From version 0.12, the only valid positional argument will be `data`, and passing other arguments without an explicit keyword will result in an error or misinterpretation.\n",
            "\n"
          ]
        },
        {
          "output_type": "display_data",
          "data": {
            "image/png": "[encoded data removed]",
            "text/plain": [
              "<Figure size 432x288 with 1 Axes>"
            ]
          },
          "metadata": {
            "needs_background": "light"
          }
        }
      ]
    },
    {
      "cell_type": "code",
      "metadata": {
        "colab": {
          "base_uri": "https://localhost:8080/",
          "height": 602
        },
        "id": "Yl28dwz21kyp",
        "outputId": "34d3ebfb-4122-4fdc-da8d-f66cb5941d81"
      },
      "source": [
        "plt.figure(figsize = (15,8))\n",
        "sns.countplot(Flipkart_Mobile_df['discount_percent'], palette = 'Set2')\n",
        "plt.title(\"Discount_percent\")\n",
        "plt.show()"
      ],
      "execution_count": 78,
      "outputs": [
        {
          "output_type": "stream",
          "name": "stderr",
          "text": [
            "/usr/local/lib/python3.7/dist-packages/seaborn/_decorators.py:43: FutureWarning:\n",
            "\n",
            "Pass the following variable as a keyword arg: x. From version 0.12, the only valid positional argument will be `data`, and passing other arguments without an explicit keyword will result in an error or misinterpretation.\n",
            "\n"
          ]
        },
        {
          "output_type": "display_data",
          "data": {
            "image/png": "[encoded data removed]",
            "text/plain": [
              "<Figure size 1080x576 with 1 Axes>"
            ]
          },
          "metadata": {
            "needs_background": "light"
          }
        }
      ]
    },
    {
      "cell_type": "markdown",
      "metadata": {
        "id": "_qnFrtoL1yv5"
      },
      "source": [
        "0.9% disc is given most"
      ]
    },
    {
      "cell_type": "code",
      "metadata": {
        "colab": {
          "base_uri": "https://localhost:8080/",
          "height": 492
        },
        "id": "4xQcqYjz6SxH",
        "outputId": "097f5d49-0faa-49d0-f4e3-0337120a6281"
      },
      "source": [
        "plt.figure(figsize = (10,6))\n",
        "sns.countplot(Flipkart_Mobile_df['brand'], palette = 'Set2')\n",
        "plt.title(\"Brand\")\n",
        "plt.show()"
      ],
      "execution_count": 24,
      "outputs": [
        {
          "output_type": "stream",
          "name": "stderr",
          "text": [
            "/usr/local/lib/python3.7/dist-packages/seaborn/_decorators.py:43: FutureWarning:\n",
            "\n",
            "Pass the following variable as a keyword arg: x. From version 0.12, the only valid positional argument will be `data`, and passing other arguments without an explicit keyword will result in an error or misinterpretation.\n",
            "\n"
          ]
        },
        {
          "output_type": "display_data",
          "data": {
            "image/png": "[encoded data removed]",
            "text/plain": [
              "<Figure size 720x432 with 1 Axes>"
            ]
          },
          "metadata": {
            "needs_background": "light"
          }
        }
      ]
    },
    {
      "cell_type": "markdown",
      "metadata": {
        "id": "3UJHrmmU2AI_"
      },
      "source": [
        "Realme gives the most sales"
      ]
    },
    {
      "cell_type": "code",
      "metadata": {
        "colab": {
          "base_uri": "https://localhost:8080/"
        },
        "id": "mS3xMKaw7jHt",
        "outputId": "2120faec-94a5-4c59-8597-a8e30ca69c26"
      },
      "source": [
        "brand_color = Flipkart_Mobile_df.groupby(['brand', 'base_color']).size().reset_index(name = 'Count')\n",
        "print(brand_color)"
      ],
      "execution_count": 29,
      "outputs": [
        {
          "output_type": "stream",
          "name": "stdout",
          "text": [
            "      brand base_color  Count\n",
            "0     Apple      Black     12\n",
            "1     Apple       Blue      8\n",
            "2     Apple       Gold      1\n",
            "3     Apple      Green      6\n",
            "4     Apple     Others      4\n",
            "5     Apple     Purple      4\n",
            "6     Apple        Red      7\n",
            "7     Apple      White     11\n",
            "8     Apple     Yellow      3\n",
            "9      Poco      Black     17\n",
            "10     Poco       Blue     18\n",
            "11     Poco     Bronze      2\n",
            "12     Poco       Gray      3\n",
            "13     Poco      Green      2\n",
            "14     Poco     Others      3\n",
            "15     Poco        Red      3\n",
            "16     Poco     Silver      3\n",
            "17     Poco     Yellow      5\n",
            "18   Realme      Black     26\n",
            "19   Realme       Blue     43\n",
            "20   Realme       Gray      9\n",
            "21   Realme      Green      5\n",
            "22   Realme     Others      9\n",
            "23   Realme     Purple      1\n",
            "24   Realme        Red      2\n",
            "25   Realme     Silver     24\n",
            "26   Realme      White     16\n",
            "27   Realme     Yellow      3\n",
            "28  Samsung      Black     38\n",
            "29  Samsung       Blue     33\n",
            "30  Samsung     Bronze      3\n",
            "31  Samsung       Gold      2\n",
            "32  Samsung       Gray      7\n",
            "33  Samsung      Green     10\n",
            "34  Samsung     Others      9\n",
            "35  Samsung        Red      4\n",
            "36  Samsung     Silver      3\n",
            "37  Samsung      White     10\n",
            "38   Xiaomi      Black     19\n",
            "39   Xiaomi       Blue     15\n",
            "40   Xiaomi       Gold      8\n",
            "41   Xiaomi       Gray      1\n",
            "42   Xiaomi      Green      1\n",
            "43   Xiaomi     Others      3\n",
            "44   Xiaomi        Red      5\n",
            "45   Xiaomi     Silver      2\n",
            "46   Xiaomi      White      7\n"
          ]
        }
      ]
    },
    {
      "cell_type": "markdown",
      "metadata": {
        "id": "sLMYndcx3apz"
      },
      "source": [
        "counting of mobile with brand and color same. in that case realme-blue-43 is the most"
      ]
    },
    {
      "cell_type": "code",
      "metadata": {
        "colab": {
          "base_uri": "https://localhost:8080/",
          "height": 404
        },
        "id": "YPMh5sed7zhD",
        "outputId": "01418a90-a7f3-491d-8425-427e2ab7cd06"
      },
      "source": [
        "plt.figure(figsize = (12,6))\n",
        "sns.barplot(x = 'brand', y = 'Count', hue = 'base_color', data = brand_color, palette = 'Set1')\n",
        "plt.title(\"Brand ~ Color\")\n",
        "plt.legend(bbox_to_anchor = (1.04,1), borderaxespad = 0)\n",
        "plt.show()"
      ],
      "execution_count": 30,
      "outputs": [
        {
          "output_type": "display_data",
          "data": {
            "image/png": "[encoded data removed]",
            "text/plain": [
              "<Figure size 864x432 with 1 Axes>"
            ]
          },
          "metadata": {
            "needs_background": "light"
          }
        }
      ]
    },
    {
      "cell_type": "code",
      "metadata": {
        "colab": {
          "base_uri": "https://localhost:8080/"
        },
        "id": "OkdSj76Y8Ku1",
        "outputId": "ce54e2b1-e68e-4e0c-a5c5-507b864f6624"
      },
      "source": [
        "brand_size = Flipkart_Mobile_df.groupby(['brand', 'screen_size']).size().reset_index(name = 'Count')\n",
        "print(brand_size)"
      ],
      "execution_count": 31,
      "outputs": [
        {
          "output_type": "stream",
          "name": "stdout",
          "text": [
            "      brand screen_size  Count\n",
            "0     Apple      Medium     35\n",
            "1     Apple       Small     17\n",
            "2     Apple  Very Small      4\n",
            "3      Poco       Large     54\n",
            "4      Poco      Medium      2\n",
            "5    Realme       Large     82\n",
            "6    Realme      Medium     56\n",
            "7   Samsung       Large     82\n",
            "8   Samsung      Medium     26\n",
            "9   Samsung       Small      7\n",
            "10  Samsung  Very Large      4\n",
            "11   Xiaomi       Large     24\n",
            "12   Xiaomi      Medium     27\n",
            "13   Xiaomi       Small     10\n"
          ]
        }
      ]
    },
    {
      "cell_type": "markdown",
      "metadata": {
        "id": "fMAIAB9Z31YC"
      },
      "source": [
        "counting of mobile with brand and screen size same. in that realme and samsung with large screen has 82 each."
      ]
    },
    {
      "cell_type": "code",
      "metadata": {
        "colab": {
          "base_uri": "https://localhost:8080/",
          "height": 404
        },
        "id": "D0RQe0VS8YyP",
        "outputId": "c26377bc-800a-4b79-89c2-c6aef130c3cc"
      },
      "source": [
        "plt.figure(figsize = (12,6))\n",
        "sns.barplot(x = 'brand', y = 'Count', hue = 'screen_size', data = brand_size, palette = 'Set1')\n",
        "plt.title(\"Brand ~ Screen Size\")\n",
        "plt.legend(bbox_to_anchor = (1.04,1), borderaxespad = 0)\n",
        "plt.show()"
      ],
      "execution_count": 32,
      "outputs": [
        {
          "output_type": "display_data",
          "data": {
            "image/png": "[encoded data removed]",
            "text/plain": [
              "<Figure size 864x432 with 1 Axes>"
            ]
          },
          "metadata": {
            "needs_background": "light"
          }
        }
      ]
    },
    {
      "cell_type": "code",
      "metadata": {
        "colab": {
          "base_uri": "https://localhost:8080/",
          "height": 404
        },
        "id": "oPymjlN28fd7",
        "outputId": "9fc1dfb8-f050-497c-c884-412097917157"
      },
      "source": [
        "plt.figure(figsize = (10,6))\n",
        "sns.boxplot(x = 'brand',y = 'sales_price', data = Flipkart_Mobile_df)\n",
        "plt.title(\"Brand ~ Sales Price\")\n",
        "plt.show()"
      ],
      "execution_count": 33,
      "outputs": [
        {
          "output_type": "display_data",
          "data": {
            "image/png": "[encoded data removed]",
            "text/plain": [
              "<Figure size 720x432 with 1 Axes>"
            ]
          },
          "metadata": {
            "needs_background": "light"
          }
        }
      ]
    },
    {
      "cell_type": "markdown",
      "metadata": {
        "id": "-xuIRa1u4K-s"
      },
      "source": [
        "in comparing to all the avg.sales price of Apple is higher than all(50000-70000)"
      ]
    },
    {
      "cell_type": "code",
      "metadata": {
        "id": "KX3hSrSFULwq"
      },
      "source": [
        "sales_of_each_prod = Flipkart_Mobile_df['sales'].groupby(Flipkart_Mobile_df['model']).mean()"
      ],
      "execution_count": 36,
      "outputs": []
    },
    {
      "cell_type": "code",
      "metadata": {
        "colab": {
          "base_uri": "https://localhost:8080/"
        },
        "id": "kE3erBj0XpZL",
        "outputId": "ebef3814-f70a-4edc-d6a7-243f011827e7"
      },
      "source": [
        "sales_of_each_prod.head()"
      ],
      "execution_count": 37,
      "outputs": [
        {
          "output_type": "execute_result",
          "data": {
            "text/plain": [
              "model\n",
              "3i       28.195000\n",
              "5 Pro    27.838333\n",
              "6        72.176667\n",
              "6i       78.020000\n",
              "7        67.975000\n",
              "Name: sales, dtype: float64"
            ]
          },
          "metadata": {},
          "execution_count": 37
        }
      ]
    },
    {
      "cell_type": "code",
      "metadata": {
        "id": "ukRy979DXuDE"
      },
      "source": [
        "sales_of_each_prod_df=pd.DataFrame(sales_of_each_prod)"
      ],
      "execution_count": 38,
      "outputs": []
    },
    {
      "cell_type": "code",
      "metadata": {
        "colab": {
          "base_uri": "https://localhost:8080/",
          "height": 1000
        },
        "id": "YAyGNChiXy8Y",
        "outputId": "7b473f2b-2f90-4268-912d-4b6f0b258bad"
      },
      "source": [
        "sales_of_each_prod_df.sort_values(\"sales\",ascending=False).style.bar(align='left',width=98,color='#FFD200')"
      ],
      "execution_count": 39,
      "outputs": [
        {
          "output_type": "execute_result",
          "data": {
            "text/html": [
              "<style  type=\"text/css\" >\n",
              "#T_f3dd647a_3879_11ec_aa35_0242ac1c0002row0_col0{\n",
              "            width:  10em;\n",
              "             height:  80%;\n",
              "            background:  linear-gradient(90deg,#FFD200 98.0%, transparent 98.0%);\n",
              "        }#T_f3dd647a_3879_11ec_aa35_0242ac1c0002row1_col0{\n",
              "            width:  10em;\n",
              "             height:  80%;\n",
              "            background:  linear-gradient(90deg,#FFD200 88.0%, transparent 88.0%);\n",
              "        }#T_f3dd647a_3879_11ec_aa35_0242ac1c0002row2_col0{\n",
              "            width:  10em;\n",
              "             height:  80%;\n",
              "            background:  linear-gradient(90deg,#FFD200 76.1%, transparent 76.1%);\n",
              "        }#T_f3dd647a_3879_11ec_aa35_0242ac1c0002row3_col0{\n",
              "            width:  10em;\n",
              "             height:  80%;\n",
              "            background:  linear-gradient(90deg,#FFD200 70.0%, transparent 70.0%);\n",
              "        }#T_f3dd647a_3879_11ec_aa35_0242ac1c0002row4_col0{\n",
              "            width:  10em;\n",
              "             height:  80%;\n",
              "            background:  linear-gradient(90deg,#FFD200 31.1%, transparent 31.1%);\n",
              "        }#T_f3dd647a_3879_11ec_aa35_0242ac1c0002row5_col0{\n",
              "            width:  10em;\n",
              "             height:  80%;\n",
              "            background:  linear-gradient(90deg,#FFD200 29.9%, transparent 29.9%);\n",
              "        }#T_f3dd647a_3879_11ec_aa35_0242ac1c0002row6_col0{\n",
              "            width:  10em;\n",
              "             height:  80%;\n",
              "            background:  linear-gradient(90deg,#FFD200 24.9%, transparent 24.9%);\n",
              "        }#T_f3dd647a_3879_11ec_aa35_0242ac1c0002row7_col0{\n",
              "            width:  10em;\n",
              "             height:  80%;\n",
              "            background:  linear-gradient(90deg,#FFD200 24.3%, transparent 24.3%);\n",
              "        }#T_f3dd647a_3879_11ec_aa35_0242ac1c0002row8_col0{\n",
              "            width:  10em;\n",
              "             height:  80%;\n",
              "            background:  linear-gradient(90deg,#FFD200 23.4%, transparent 23.4%);\n",
              "        }#T_f3dd647a_3879_11ec_aa35_0242ac1c0002row9_col0{\n",
              "            width:  10em;\n",
              "             height:  80%;\n",
              "            background:  linear-gradient(90deg,#FFD200 22.7%, transparent 22.7%);\n",
              "        }#T_f3dd647a_3879_11ec_aa35_0242ac1c0002row10_col0{\n",
              "            width:  10em;\n",
              "             height:  80%;\n",
              "            background:  linear-gradient(90deg,#FFD200 21.4%, transparent 21.4%);\n",
              "        }#T_f3dd647a_3879_11ec_aa35_0242ac1c0002row11_col0{\n",
              "            width:  10em;\n",
              "             height:  80%;\n",
              "            background:  linear-gradient(90deg,#FFD200 21.2%, transparent 21.2%);\n",
              "        }#T_f3dd647a_3879_11ec_aa35_0242ac1c0002row12_col0{\n",
              "            width:  10em;\n",
              "             height:  80%;\n",
              "            background:  linear-gradient(90deg,#FFD200 20.4%, transparent 20.4%);\n",
              "        }#T_f3dd647a_3879_11ec_aa35_0242ac1c0002row13_col0{\n",
              "            width:  10em;\n",
              "             height:  80%;\n",
              "            background:  linear-gradient(90deg,#FFD200 20.0%, transparent 20.0%);\n",
              "        }#T_f3dd647a_3879_11ec_aa35_0242ac1c0002row14_col0{\n",
              "            width:  10em;\n",
              "             height:  80%;\n",
              "            background:  linear-gradient(90deg,#FFD200 19.7%, transparent 19.7%);\n",
              "        }#T_f3dd647a_3879_11ec_aa35_0242ac1c0002row15_col0{\n",
              "            width:  10em;\n",
              "             height:  80%;\n",
              "            background:  linear-gradient(90deg,#FFD200 19.6%, transparent 19.6%);\n",
              "        }#T_f3dd647a_3879_11ec_aa35_0242ac1c0002row16_col0{\n",
              "            width:  10em;\n",
              "             height:  80%;\n",
              "            background:  linear-gradient(90deg,#FFD200 19.3%, transparent 19.3%);\n",
              "        }#T_f3dd647a_3879_11ec_aa35_0242ac1c0002row17_col0{\n",
              "            width:  10em;\n",
              "             height:  80%;\n",
              "            background:  linear-gradient(90deg,#FFD200 19.2%, transparent 19.2%);\n",
              "        }#T_f3dd647a_3879_11ec_aa35_0242ac1c0002row18_col0{\n",
              "            width:  10em;\n",
              "             height:  80%;\n",
              "            background:  linear-gradient(90deg,#FFD200 16.8%, transparent 16.8%);\n",
              "        }#T_f3dd647a_3879_11ec_aa35_0242ac1c0002row19_col0{\n",
              "            width:  10em;\n",
              "             height:  80%;\n",
              "            background:  linear-gradient(90deg,#FFD200 13.9%, transparent 13.9%);\n",
              "        }#T_f3dd647a_3879_11ec_aa35_0242ac1c0002row20_col0{\n",
              "            width:  10em;\n",
              "             height:  80%;\n",
              "            background:  linear-gradient(90deg,#FFD200 13.1%, transparent 13.1%);\n",
              "        }#T_f3dd647a_3879_11ec_aa35_0242ac1c0002row21_col0{\n",
              "            width:  10em;\n",
              "             height:  80%;\n",
              "            background:  linear-gradient(90deg,#FFD200 12.9%, transparent 12.9%);\n",
              "        }#T_f3dd647a_3879_11ec_aa35_0242ac1c0002row22_col0{\n",
              "            width:  10em;\n",
              "             height:  80%;\n",
              "            background:  linear-gradient(90deg,#FFD200 12.1%, transparent 12.1%);\n",
              "        }#T_f3dd647a_3879_11ec_aa35_0242ac1c0002row23_col0{\n",
              "            width:  10em;\n",
              "             height:  80%;\n",
              "            background:  linear-gradient(90deg,#FFD200 11.6%, transparent 11.6%);\n",
              "        }#T_f3dd647a_3879_11ec_aa35_0242ac1c0002row24_col0{\n",
              "            width:  10em;\n",
              "             height:  80%;\n",
              "            background:  linear-gradient(90deg,#FFD200 10.8%, transparent 10.8%);\n",
              "        }#T_f3dd647a_3879_11ec_aa35_0242ac1c0002row25_col0{\n",
              "            width:  10em;\n",
              "             height:  80%;\n",
              "            background:  linear-gradient(90deg,#FFD200 10.1%, transparent 10.1%);\n",
              "        }#T_f3dd647a_3879_11ec_aa35_0242ac1c0002row26_col0{\n",
              "            width:  10em;\n",
              "             height:  80%;\n",
              "            background:  linear-gradient(90deg,#FFD200 9.5%, transparent 9.5%);\n",
              "        }#T_f3dd647a_3879_11ec_aa35_0242ac1c0002row27_col0{\n",
              "            width:  10em;\n",
              "             height:  80%;\n",
              "            background:  linear-gradient(90deg,#FFD200 8.1%, transparent 8.1%);\n",
              "        }#T_f3dd647a_3879_11ec_aa35_0242ac1c0002row28_col0{\n",
              "            width:  10em;\n",
              "             height:  80%;\n",
              "            background:  linear-gradient(90deg,#FFD200 7.8%, transparent 7.8%);\n",
              "        }#T_f3dd647a_3879_11ec_aa35_0242ac1c0002row29_col0{\n",
              "            width:  10em;\n",
              "             height:  80%;\n",
              "            background:  linear-gradient(90deg,#FFD200 7.1%, transparent 7.1%);\n",
              "        }#T_f3dd647a_3879_11ec_aa35_0242ac1c0002row30_col0{\n",
              "            width:  10em;\n",
              "             height:  80%;\n",
              "            background:  linear-gradient(90deg,#FFD200 7.0%, transparent 7.0%);\n",
              "        }#T_f3dd647a_3879_11ec_aa35_0242ac1c0002row31_col0{\n",
              "            width:  10em;\n",
              "             height:  80%;\n",
              "            background:  linear-gradient(90deg,#FFD200 6.4%, transparent 6.4%);\n",
              "        }#T_f3dd647a_3879_11ec_aa35_0242ac1c0002row32_col0{\n",
              "            width:  10em;\n",
              "             height:  80%;\n",
              "            background:  linear-gradient(90deg,#FFD200 6.2%, transparent 6.2%);\n",
              "        }#T_f3dd647a_3879_11ec_aa35_0242ac1c0002row33_col0{\n",
              "            width:  10em;\n",
              "             height:  80%;\n",
              "            background:  linear-gradient(90deg,#FFD200 5.7%, transparent 5.7%);\n",
              "        }#T_f3dd647a_3879_11ec_aa35_0242ac1c0002row34_col0{\n",
              "            width:  10em;\n",
              "             height:  80%;\n",
              "            background:  linear-gradient(90deg,#FFD200 5.1%, transparent 5.1%);\n",
              "        }#T_f3dd647a_3879_11ec_aa35_0242ac1c0002row35_col0,#T_f3dd647a_3879_11ec_aa35_0242ac1c0002row36_col0{\n",
              "            width:  10em;\n",
              "             height:  80%;\n",
              "            background:  linear-gradient(90deg,#FFD200 5.0%, transparent 5.0%);\n",
              "        }#T_f3dd647a_3879_11ec_aa35_0242ac1c0002row37_col0,#T_f3dd647a_3879_11ec_aa35_0242ac1c0002row38_col0{\n",
              "            width:  10em;\n",
              "             height:  80%;\n",
              "            background:  linear-gradient(90deg,#FFD200 4.3%, transparent 4.3%);\n",
              "        }#T_f3dd647a_3879_11ec_aa35_0242ac1c0002row39_col0{\n",
              "            width:  10em;\n",
              "             height:  80%;\n",
              "            background:  linear-gradient(90deg,#FFD200 4.2%, transparent 4.2%);\n",
              "        }#T_f3dd647a_3879_11ec_aa35_0242ac1c0002row40_col0{\n",
              "            width:  10em;\n",
              "             height:  80%;\n",
              "            background:  linear-gradient(90deg,#FFD200 4.1%, transparent 4.1%);\n",
              "        }#T_f3dd647a_3879_11ec_aa35_0242ac1c0002row41_col0{\n",
              "            width:  10em;\n",
              "             height:  80%;\n",
              "            background:  linear-gradient(90deg,#FFD200 3.9%, transparent 3.9%);\n",
              "        }#T_f3dd647a_3879_11ec_aa35_0242ac1c0002row42_col0{\n",
              "            width:  10em;\n",
              "             height:  80%;\n",
              "            background:  linear-gradient(90deg,#FFD200 3.6%, transparent 3.6%);\n",
              "        }#T_f3dd647a_3879_11ec_aa35_0242ac1c0002row43_col0{\n",
              "            width:  10em;\n",
              "             height:  80%;\n",
              "            background:  linear-gradient(90deg,#FFD200 3.5%, transparent 3.5%);\n",
              "        }#T_f3dd647a_3879_11ec_aa35_0242ac1c0002row44_col0{\n",
              "            width:  10em;\n",
              "             height:  80%;\n",
              "            background:  linear-gradient(90deg,#FFD200 3.4%, transparent 3.4%);\n",
              "        }#T_f3dd647a_3879_11ec_aa35_0242ac1c0002row45_col0,#T_f3dd647a_3879_11ec_aa35_0242ac1c0002row46_col0,#T_f3dd647a_3879_11ec_aa35_0242ac1c0002row47_col0{\n",
              "            width:  10em;\n",
              "             height:  80%;\n",
              "            background:  linear-gradient(90deg,#FFD200 3.2%, transparent 3.2%);\n",
              "        }#T_f3dd647a_3879_11ec_aa35_0242ac1c0002row48_col0{\n",
              "            width:  10em;\n",
              "             height:  80%;\n",
              "            background:  linear-gradient(90deg,#FFD200 3.0%, transparent 3.0%);\n",
              "        }#T_f3dd647a_3879_11ec_aa35_0242ac1c0002row49_col0,#T_f3dd647a_3879_11ec_aa35_0242ac1c0002row50_col0{\n",
              "            width:  10em;\n",
              "             height:  80%;\n",
              "            background:  linear-gradient(90deg,#FFD200 2.9%, transparent 2.9%);\n",
              "        }#T_f3dd647a_3879_11ec_aa35_0242ac1c0002row51_col0{\n",
              "            width:  10em;\n",
              "             height:  80%;\n",
              "            background:  linear-gradient(90deg,#FFD200 2.7%, transparent 2.7%);\n",
              "        }#T_f3dd647a_3879_11ec_aa35_0242ac1c0002row52_col0,#T_f3dd647a_3879_11ec_aa35_0242ac1c0002row53_col0,#T_f3dd647a_3879_11ec_aa35_0242ac1c0002row54_col0{\n",
              "            width:  10em;\n",
              "             height:  80%;\n",
              "            background:  linear-gradient(90deg,#FFD200 2.6%, transparent 2.6%);\n",
              "        }#T_f3dd647a_3879_11ec_aa35_0242ac1c0002row55_col0,#T_f3dd647a_3879_11ec_aa35_0242ac1c0002row56_col0{\n",
              "            width:  10em;\n",
              "             height:  80%;\n",
              "            background:  linear-gradient(90deg,#FFD200 2.5%, transparent 2.5%);\n",
              "        }#T_f3dd647a_3879_11ec_aa35_0242ac1c0002row57_col0,#T_f3dd647a_3879_11ec_aa35_0242ac1c0002row58_col0{\n",
              "            width:  10em;\n",
              "             height:  80%;\n",
              "            background:  linear-gradient(90deg,#FFD200 2.4%, transparent 2.4%);\n",
              "        }#T_f3dd647a_3879_11ec_aa35_0242ac1c0002row59_col0,#T_f3dd647a_3879_11ec_aa35_0242ac1c0002row60_col0{\n",
              "            width:  10em;\n",
              "             height:  80%;\n",
              "            background:  linear-gradient(90deg,#FFD200 1.9%, transparent 1.9%);\n",
              "        }#T_f3dd647a_3879_11ec_aa35_0242ac1c0002row61_col0{\n",
              "            width:  10em;\n",
              "             height:  80%;\n",
              "            background:  linear-gradient(90deg,#FFD200 1.8%, transparent 1.8%);\n",
              "        }#T_f3dd647a_3879_11ec_aa35_0242ac1c0002row62_col0,#T_f3dd647a_3879_11ec_aa35_0242ac1c0002row63_col0,#T_f3dd647a_3879_11ec_aa35_0242ac1c0002row64_col0{\n",
              "            width:  10em;\n",
              "             height:  80%;\n",
              "            background:  linear-gradient(90deg,#FFD200 1.7%, transparent 1.7%);\n",
              "        }#T_f3dd647a_3879_11ec_aa35_0242ac1c0002row65_col0{\n",
              "            width:  10em;\n",
              "             height:  80%;\n",
              "            background:  linear-gradient(90deg,#FFD200 1.4%, transparent 1.4%);\n",
              "        }#T_f3dd647a_3879_11ec_aa35_0242ac1c0002row66_col0,#T_f3dd647a_3879_11ec_aa35_0242ac1c0002row67_col0{\n",
              "            width:  10em;\n",
              "             height:  80%;\n",
              "            background:  linear-gradient(90deg,#FFD200 1.3%, transparent 1.3%);\n",
              "        }#T_f3dd647a_3879_11ec_aa35_0242ac1c0002row68_col0,#T_f3dd647a_3879_11ec_aa35_0242ac1c0002row69_col0,#T_f3dd647a_3879_11ec_aa35_0242ac1c0002row70_col0{\n",
              "            width:  10em;\n",
              "             height:  80%;\n",
              "            background:  linear-gradient(90deg,#FFD200 1.2%, transparent 1.2%);\n",
              "        }#T_f3dd647a_3879_11ec_aa35_0242ac1c0002row71_col0,#T_f3dd647a_3879_11ec_aa35_0242ac1c0002row72_col0{\n",
              "            width:  10em;\n",
              "             height:  80%;\n",
              "            background:  linear-gradient(90deg,#FFD200 1.1%, transparent 1.1%);\n",
              "        }#T_f3dd647a_3879_11ec_aa35_0242ac1c0002row73_col0,#T_f3dd647a_3879_11ec_aa35_0242ac1c0002row74_col0,#T_f3dd647a_3879_11ec_aa35_0242ac1c0002row75_col0,#T_f3dd647a_3879_11ec_aa35_0242ac1c0002row76_col0{\n",
              "            width:  10em;\n",
              "             height:  80%;\n",
              "            background:  linear-gradient(90deg,#FFD200 0.9%, transparent 0.9%);\n",
              "        }#T_f3dd647a_3879_11ec_aa35_0242ac1c0002row77_col0{\n",
              "            width:  10em;\n",
              "             height:  80%;\n",
              "            background:  linear-gradient(90deg,#FFD200 0.8%, transparent 0.8%);\n",
              "        }#T_f3dd647a_3879_11ec_aa35_0242ac1c0002row78_col0,#T_f3dd647a_3879_11ec_aa35_0242ac1c0002row79_col0,#T_f3dd647a_3879_11ec_aa35_0242ac1c0002row80_col0{\n",
              "            width:  10em;\n",
              "             height:  80%;\n",
              "            background:  linear-gradient(90deg,#FFD200 0.7%, transparent 0.7%);\n",
              "        }#T_f3dd647a_3879_11ec_aa35_0242ac1c0002row81_col0,#T_f3dd647a_3879_11ec_aa35_0242ac1c0002row82_col0,#T_f3dd647a_3879_11ec_aa35_0242ac1c0002row83_col0{\n",
              "            width:  10em;\n",
              "             height:  80%;\n",
              "            background:  linear-gradient(90deg,#FFD200 0.6%, transparent 0.6%);\n",
              "        }#T_f3dd647a_3879_11ec_aa35_0242ac1c0002row84_col0,#T_f3dd647a_3879_11ec_aa35_0242ac1c0002row85_col0,#T_f3dd647a_3879_11ec_aa35_0242ac1c0002row86_col0{\n",
              "            width:  10em;\n",
              "             height:  80%;\n",
              "            background:  linear-gradient(90deg,#FFD200 0.5%, transparent 0.5%);\n",
              "        }#T_f3dd647a_3879_11ec_aa35_0242ac1c0002row87_col0,#T_f3dd647a_3879_11ec_aa35_0242ac1c0002row88_col0,#T_f3dd647a_3879_11ec_aa35_0242ac1c0002row89_col0,#T_f3dd647a_3879_11ec_aa35_0242ac1c0002row90_col0,#T_f3dd647a_3879_11ec_aa35_0242ac1c0002row91_col0{\n",
              "            width:  10em;\n",
              "             height:  80%;\n",
              "            background:  linear-gradient(90deg,#FFD200 0.4%, transparent 0.4%);\n",
              "        }#T_f3dd647a_3879_11ec_aa35_0242ac1c0002row92_col0,#T_f3dd647a_3879_11ec_aa35_0242ac1c0002row93_col0,#T_f3dd647a_3879_11ec_aa35_0242ac1c0002row94_col0,#T_f3dd647a_3879_11ec_aa35_0242ac1c0002row95_col0{\n",
              "            width:  10em;\n",
              "             height:  80%;\n",
              "            background:  linear-gradient(90deg,#FFD200 0.3%, transparent 0.3%);\n",
              "        }#T_f3dd647a_3879_11ec_aa35_0242ac1c0002row96_col0,#T_f3dd647a_3879_11ec_aa35_0242ac1c0002row97_col0{\n",
              "            width:  10em;\n",
              "             height:  80%;\n",
              "            background:  linear-gradient(90deg,#FFD200 0.2%, transparent 0.2%);\n",
              "        }#T_f3dd647a_3879_11ec_aa35_0242ac1c0002row98_col0,#T_f3dd647a_3879_11ec_aa35_0242ac1c0002row99_col0,#T_f3dd647a_3879_11ec_aa35_0242ac1c0002row100_col0,#T_f3dd647a_3879_11ec_aa35_0242ac1c0002row101_col0,#T_f3dd647a_3879_11ec_aa35_0242ac1c0002row102_col0,#T_f3dd647a_3879_11ec_aa35_0242ac1c0002row103_col0,#T_f3dd647a_3879_11ec_aa35_0242ac1c0002row104_col0{\n",
              "            width:  10em;\n",
              "             height:  80%;\n",
              "            background:  linear-gradient(90deg,#FFD200 0.1%, transparent 0.1%);\n",
              "        }#T_f3dd647a_3879_11ec_aa35_0242ac1c0002row105_col0,#T_f3dd647a_3879_11ec_aa35_0242ac1c0002row106_col0,#T_f3dd647a_3879_11ec_aa35_0242ac1c0002row107_col0,#T_f3dd647a_3879_11ec_aa35_0242ac1c0002row108_col0,#T_f3dd647a_3879_11ec_aa35_0242ac1c0002row109_col0,#T_f3dd647a_3879_11ec_aa35_0242ac1c0002row110_col0,#T_f3dd647a_3879_11ec_aa35_0242ac1c0002row111_col0,#T_f3dd647a_3879_11ec_aa35_0242ac1c0002row112_col0,#T_f3dd647a_3879_11ec_aa35_0242ac1c0002row113_col0,#T_f3dd647a_3879_11ec_aa35_0242ac1c0002row114_col0,#T_f3dd647a_3879_11ec_aa35_0242ac1c0002row115_col0,#T_f3dd647a_3879_11ec_aa35_0242ac1c0002row116_col0,#T_f3dd647a_3879_11ec_aa35_0242ac1c0002row117_col0{\n",
              "            width:  10em;\n",
              "             height:  80%;\n",
              "            background:  linear-gradient(90deg,#FFD200 0.0%, transparent 0.0%);\n",
              "        }#T_f3dd647a_3879_11ec_aa35_0242ac1c0002row118_col0{\n",
              "            width:  10em;\n",
              "             height:  80%;\n",
              "        }</style><table id=\"T_f3dd647a_3879_11ec_aa35_0242ac1c0002\" class=\"dataframe\"><thead>    <tr>        <th class=\"blank level0\" ></th>        <th class=\"col_heading level0 col0\" >sales</th>    </tr>    <tr>        <th class=\"index_name level0\" >model</th>        <th class=\"blank\" ></th>    </tr></thead><tbody>\n",
              "                <tr>\n",
              "                        <th id=\"T_f3dd647a_3879_11ec_aa35_0242ac1c0002level0_row0\" class=\"row_heading level0 row0\" >Redmi Note 4</th>\n",
              "                        <td id=\"T_f3dd647a_3879_11ec_aa35_0242ac1c0002row0_col0\" class=\"data row0 col0\" >550.190000</td>\n",
              "            </tr>\n",
              "            <tr>\n",
              "                        <th id=\"T_f3dd647a_3879_11ec_aa35_0242ac1c0002level0_row1\" class=\"row_heading level0 row1\" >Mi A1</th>\n",
              "                        <td id=\"T_f3dd647a_3879_11ec_aa35_0242ac1c0002row1_col0\" class=\"data row1 col0\" >493.980000</td>\n",
              "            </tr>\n",
              "            <tr>\n",
              "                        <th id=\"T_f3dd647a_3879_11ec_aa35_0242ac1c0002level0_row2\" class=\"row_heading level0 row2\" >X2</th>\n",
              "                        <td id=\"T_f3dd647a_3879_11ec_aa35_0242ac1c0002row2_col0\" class=\"data row2 col0\" >427.220000</td>\n",
              "            </tr>\n",
              "            <tr>\n",
              "                        <th id=\"T_f3dd647a_3879_11ec_aa35_0242ac1c0002level0_row3\" class=\"row_heading level0 row3\" >Redmi Note 5</th>\n",
              "                        <td id=\"T_f3dd647a_3879_11ec_aa35_0242ac1c0002row3_col0\" class=\"data row3 col0\" >392.730000</td>\n",
              "            </tr>\n",
              "            <tr>\n",
              "                        <th id=\"T_f3dd647a_3879_11ec_aa35_0242ac1c0002level0_row4\" class=\"row_heading level0 row4\" >Redmi Note 5 Pro</th>\n",
              "                        <td id=\"T_f3dd647a_3879_11ec_aa35_0242ac1c0002row4_col0\" class=\"data row4 col0\" >174.395000</td>\n",
              "            </tr>\n",
              "            <tr>\n",
              "                        <th id=\"T_f3dd647a_3879_11ec_aa35_0242ac1c0002level0_row5\" class=\"row_heading level0 row5\" >C11</th>\n",
              "                        <td id=\"T_f3dd647a_3879_11ec_aa35_0242ac1c0002row5_col0\" class=\"data row5 col0\" >167.730000</td>\n",
              "            </tr>\n",
              "            <tr>\n",
              "                        <th id=\"T_f3dd647a_3879_11ec_aa35_0242ac1c0002level0_row6\" class=\"row_heading level0 row6\" >C12</th>\n",
              "                        <td id=\"T_f3dd647a_3879_11ec_aa35_0242ac1c0002row6_col0\" class=\"data row6 col0\" >139.700000</td>\n",
              "            </tr>\n",
              "            <tr>\n",
              "                        <th id=\"T_f3dd647a_3879_11ec_aa35_0242ac1c0002level0_row7\" class=\"row_heading level0 row7\" >Narzo 20</th>\n",
              "                        <td id=\"T_f3dd647a_3879_11ec_aa35_0242ac1c0002row7_col0\" class=\"data row7 col0\" >136.495000</td>\n",
              "            </tr>\n",
              "            <tr>\n",
              "                        <th id=\"T_f3dd647a_3879_11ec_aa35_0242ac1c0002level0_row8\" class=\"row_heading level0 row8\" >F1</th>\n",
              "                        <td id=\"T_f3dd647a_3879_11ec_aa35_0242ac1c0002row8_col0\" class=\"data row8 col0\" >131.320000</td>\n",
              "            </tr>\n",
              "            <tr>\n",
              "                        <th id=\"T_f3dd647a_3879_11ec_aa35_0242ac1c0002level0_row9\" class=\"row_heading level0 row9\" >iPhone SE</th>\n",
              "                        <td id=\"T_f3dd647a_3879_11ec_aa35_0242ac1c0002row9_col0\" class=\"data row9 col0\" >127.520000</td>\n",
              "            </tr>\n",
              "            <tr>\n",
              "                        <th id=\"T_f3dd647a_3879_11ec_aa35_0242ac1c0002level0_row10\" class=\"row_heading level0 row10\" >C2</th>\n",
              "                        <td id=\"T_f3dd647a_3879_11ec_aa35_0242ac1c0002row10_col0\" class=\"data row10 col0\" >120.217500</td>\n",
              "            </tr>\n",
              "            <tr>\n",
              "                        <th id=\"T_f3dd647a_3879_11ec_aa35_0242ac1c0002level0_row11\" class=\"row_heading level0 row11\" >Redmi Note 7 Pro</th>\n",
              "                        <td id=\"T_f3dd647a_3879_11ec_aa35_0242ac1c0002row11_col0\" class=\"data row11 col0\" >119.250000</td>\n",
              "            </tr>\n",
              "            <tr>\n",
              "                        <th id=\"T_f3dd647a_3879_11ec_aa35_0242ac1c0002level0_row12\" class=\"row_heading level0 row12\" >Redmi Y2</th>\n",
              "                        <td id=\"T_f3dd647a_3879_11ec_aa35_0242ac1c0002row12_col0\" class=\"data row12 col0\" >114.480000</td>\n",
              "            </tr>\n",
              "            <tr>\n",
              "                        <th id=\"T_f3dd647a_3879_11ec_aa35_0242ac1c0002level0_row13\" class=\"row_heading level0 row13\" >Redmi Note 7</th>\n",
              "                        <td id=\"T_f3dd647a_3879_11ec_aa35_0242ac1c0002row13_col0\" class=\"data row13 col0\" >112.345000</td>\n",
              "            </tr>\n",
              "            <tr>\n",
              "                        <th id=\"T_f3dd647a_3879_11ec_aa35_0242ac1c0002level0_row14\" class=\"row_heading level0 row14\" >M2</th>\n",
              "                        <td id=\"T_f3dd647a_3879_11ec_aa35_0242ac1c0002row14_col0\" class=\"data row14 col0\" >110.415000</td>\n",
              "            </tr>\n",
              "            <tr>\n",
              "                        <th id=\"T_f3dd647a_3879_11ec_aa35_0242ac1c0002level0_row15\" class=\"row_heading level0 row15\" >iPhone 7 Plus</th>\n",
              "                        <td id=\"T_f3dd647a_3879_11ec_aa35_0242ac1c0002row15_col0\" class=\"data row15 col0\" >109.940000</td>\n",
              "            </tr>\n",
              "            <tr>\n",
              "                        <th id=\"T_f3dd647a_3879_11ec_aa35_0242ac1c0002level0_row16\" class=\"row_heading level0 row16\" >Redmi Note 6 Pro</th>\n",
              "                        <td id=\"T_f3dd647a_3879_11ec_aa35_0242ac1c0002row16_col0\" class=\"data row16 col0\" >108.448000</td>\n",
              "            </tr>\n",
              "            <tr>\n",
              "                        <th id=\"T_f3dd647a_3879_11ec_aa35_0242ac1c0002level0_row17\" class=\"row_heading level0 row17\" >Narzo 10</th>\n",
              "                        <td id=\"T_f3dd647a_3879_11ec_aa35_0242ac1c0002row17_col0\" class=\"data row17 col0\" >107.880000</td>\n",
              "            </tr>\n",
              "            <tr>\n",
              "                        <th id=\"T_f3dd647a_3879_11ec_aa35_0242ac1c0002level0_row18\" class=\"row_heading level0 row18\" >Galaxy F41</th>\n",
              "                        <td id=\"T_f3dd647a_3879_11ec_aa35_0242ac1c0002row18_col0\" class=\"data row18 col0\" >94.255000</td>\n",
              "            </tr>\n",
              "            <tr>\n",
              "                        <th id=\"T_f3dd647a_3879_11ec_aa35_0242ac1c0002level0_row19\" class=\"row_heading level0 row19\" >6i</th>\n",
              "                        <td id=\"T_f3dd647a_3879_11ec_aa35_0242ac1c0002row19_col0\" class=\"data row19 col0\" >78.020000</td>\n",
              "            </tr>\n",
              "            <tr>\n",
              "                        <th id=\"T_f3dd647a_3879_11ec_aa35_0242ac1c0002level0_row20\" class=\"row_heading level0 row20\" >C20</th>\n",
              "                        <td id=\"T_f3dd647a_3879_11ec_aa35_0242ac1c0002row20_col0\" class=\"data row20 col0\" >73.460000</td>\n",
              "            </tr>\n",
              "            <tr>\n",
              "                        <th id=\"T_f3dd647a_3879_11ec_aa35_0242ac1c0002level0_row21\" class=\"row_heading level0 row21\" >6</th>\n",
              "                        <td id=\"T_f3dd647a_3879_11ec_aa35_0242ac1c0002row21_col0\" class=\"data row21 col0\" >72.176667</td>\n",
              "            </tr>\n",
              "            <tr>\n",
              "                        <th id=\"T_f3dd647a_3879_11ec_aa35_0242ac1c0002level0_row22\" class=\"row_heading level0 row22\" >7</th>\n",
              "                        <td id=\"T_f3dd647a_3879_11ec_aa35_0242ac1c0002row22_col0\" class=\"data row22 col0\" >67.975000</td>\n",
              "            </tr>\n",
              "            <tr>\n",
              "                        <th id=\"T_f3dd647a_3879_11ec_aa35_0242ac1c0002level0_row23\" class=\"row_heading level0 row23\" >Narzo 20A</th>\n",
              "                        <td id=\"T_f3dd647a_3879_11ec_aa35_0242ac1c0002row23_col0\" class=\"data row23 col0\" >65.265000</td>\n",
              "            </tr>\n",
              "            <tr>\n",
              "                        <th id=\"T_f3dd647a_3879_11ec_aa35_0242ac1c0002level0_row24\" class=\"row_heading level0 row24\" >Narzo 20 Pro</th>\n",
              "                        <td id=\"T_f3dd647a_3879_11ec_aa35_0242ac1c0002row24_col0\" class=\"data row24 col0\" >60.875000</td>\n",
              "            </tr>\n",
              "            <tr>\n",
              "                        <th id=\"T_f3dd647a_3879_11ec_aa35_0242ac1c0002level0_row25\" class=\"row_heading level0 row25\" >Galaxy J7 - 6</th>\n",
              "                        <td id=\"T_f3dd647a_3879_11ec_aa35_0242ac1c0002row25_col0\" class=\"data row25 col0\" >56.620000</td>\n",
              "            </tr>\n",
              "            <tr>\n",
              "                        <th id=\"T_f3dd647a_3879_11ec_aa35_0242ac1c0002level0_row26\" class=\"row_heading level0 row26\" >Redmi K20</th>\n",
              "                        <td id=\"T_f3dd647a_3879_11ec_aa35_0242ac1c0002row26_col0\" class=\"data row26 col0\" >53.080000</td>\n",
              "            </tr>\n",
              "            <tr>\n",
              "                        <th id=\"T_f3dd647a_3879_11ec_aa35_0242ac1c0002level0_row27\" class=\"row_heading level0 row27\" >M2 Pro</th>\n",
              "                        <td id=\"T_f3dd647a_3879_11ec_aa35_0242ac1c0002row27_col0\" class=\"data row27 col0\" >45.483333</td>\n",
              "            </tr>\n",
              "            <tr>\n",
              "                        <th id=\"T_f3dd647a_3879_11ec_aa35_0242ac1c0002level0_row28\" class=\"row_heading level0 row28\" >iPhone 8</th>\n",
              "                        <td id=\"T_f3dd647a_3879_11ec_aa35_0242ac1c0002row28_col0\" class=\"data row28 col0\" >43.990000</td>\n",
              "            </tr>\n",
              "            <tr>\n",
              "                        <th id=\"T_f3dd647a_3879_11ec_aa35_0242ac1c0002level0_row29\" class=\"row_heading level0 row29\" >Galaxy J6</th>\n",
              "                        <td id=\"T_f3dd647a_3879_11ec_aa35_0242ac1c0002row29_col0\" class=\"data row29 col0\" >40.120000</td>\n",
              "            </tr>\n",
              "            <tr>\n",
              "                        <th id=\"T_f3dd647a_3879_11ec_aa35_0242ac1c0002level0_row30\" class=\"row_heading level0 row30\" >C3</th>\n",
              "                        <td id=\"T_f3dd647a_3879_11ec_aa35_0242ac1c0002row30_col0\" class=\"data row30 col0\" >39.105000</td>\n",
              "            </tr>\n",
              "            <tr>\n",
              "                        <th id=\"T_f3dd647a_3879_11ec_aa35_0242ac1c0002level0_row31\" class=\"row_heading level0 row31\" >Galaxy A50s</th>\n",
              "                        <td id=\"T_f3dd647a_3879_11ec_aa35_0242ac1c0002row31_col0\" class=\"data row31 col0\" >35.810000</td>\n",
              "            </tr>\n",
              "            <tr>\n",
              "                        <th id=\"T_f3dd647a_3879_11ec_aa35_0242ac1c0002level0_row32\" class=\"row_heading level0 row32\" >M3</th>\n",
              "                        <td id=\"T_f3dd647a_3879_11ec_aa35_0242ac1c0002row32_col0\" class=\"data row32 col0\" >34.950000</td>\n",
              "            </tr>\n",
              "            <tr>\n",
              "                        <th id=\"T_f3dd647a_3879_11ec_aa35_0242ac1c0002level0_row33\" class=\"row_heading level0 row33\" >Redmi 6A</th>\n",
              "                        <td id=\"T_f3dd647a_3879_11ec_aa35_0242ac1c0002row33_col0\" class=\"data row33 col0\" >31.990000</td>\n",
              "            </tr>\n",
              "            <tr>\n",
              "                        <th id=\"T_f3dd647a_3879_11ec_aa35_0242ac1c0002level0_row34\" class=\"row_heading level0 row34\" >Narzo 30A</th>\n",
              "                        <td id=\"T_f3dd647a_3879_11ec_aa35_0242ac1c0002row34_col0\" class=\"data row34 col0\" >28.570000</td>\n",
              "            </tr>\n",
              "            <tr>\n",
              "                        <th id=\"T_f3dd647a_3879_11ec_aa35_0242ac1c0002level0_row35\" class=\"row_heading level0 row35\" >3i</th>\n",
              "                        <td id=\"T_f3dd647a_3879_11ec_aa35_0242ac1c0002row35_col0\" class=\"data row35 col0\" >28.195000</td>\n",
              "            </tr>\n",
              "            <tr>\n",
              "                        <th id=\"T_f3dd647a_3879_11ec_aa35_0242ac1c0002level0_row36\" class=\"row_heading level0 row36\" >5 Pro</th>\n",
              "                        <td id=\"T_f3dd647a_3879_11ec_aa35_0242ac1c0002row36_col0\" class=\"data row36 col0\" >27.838333</td>\n",
              "            </tr>\n",
              "            <tr>\n",
              "                        <th id=\"T_f3dd647a_3879_11ec_aa35_0242ac1c0002level0_row37\" class=\"row_heading level0 row37\" >iPhone XR</th>\n",
              "                        <td id=\"T_f3dd647a_3879_11ec_aa35_0242ac1c0002row37_col0\" class=\"data row37 col0\" >24.415000</td>\n",
              "            </tr>\n",
              "            <tr>\n",
              "                        <th id=\"T_f3dd647a_3879_11ec_aa35_0242ac1c0002level0_row38\" class=\"row_heading level0 row38\" >7 Pro</th>\n",
              "                        <td id=\"T_f3dd647a_3879_11ec_aa35_0242ac1c0002row38_col0\" class=\"data row38 col0\" >24.210000</td>\n",
              "            </tr>\n",
              "            <tr>\n",
              "                        <th id=\"T_f3dd647a_3879_11ec_aa35_0242ac1c0002level0_row39\" class=\"row_heading level0 row39\" >C15</th>\n",
              "                        <td id=\"T_f3dd647a_3879_11ec_aa35_0242ac1c0002row39_col0\" class=\"data row39 col0\" >23.370000</td>\n",
              "            </tr>\n",
              "            <tr>\n",
              "                        <th id=\"T_f3dd647a_3879_11ec_aa35_0242ac1c0002level0_row40\" class=\"row_heading level0 row40\" >Galaxy A7</th>\n",
              "                        <td id=\"T_f3dd647a_3879_11ec_aa35_0242ac1c0002row40_col0\" class=\"data row40 col0\" >23.210000</td>\n",
              "            </tr>\n",
              "            <tr>\n",
              "                        <th id=\"T_f3dd647a_3879_11ec_aa35_0242ac1c0002level0_row41\" class=\"row_heading level0 row41\" >X3</th>\n",
              "                        <td id=\"T_f3dd647a_3879_11ec_aa35_0242ac1c0002row41_col0\" class=\"data row41 col0\" >21.938889</td>\n",
              "            </tr>\n",
              "            <tr>\n",
              "                        <th id=\"T_f3dd647a_3879_11ec_aa35_0242ac1c0002level0_row42\" class=\"row_heading level0 row42\" >Narzo 10A</th>\n",
              "                        <td id=\"T_f3dd647a_3879_11ec_aa35_0242ac1c0002row42_col0\" class=\"data row42 col0\" >20.366667</td>\n",
              "            </tr>\n",
              "            <tr>\n",
              "                        <th id=\"T_f3dd647a_3879_11ec_aa35_0242ac1c0002level0_row43\" class=\"row_heading level0 row43\" >X7 5G</th>\n",
              "                        <td id=\"T_f3dd647a_3879_11ec_aa35_0242ac1c0002row43_col0\" class=\"data row43 col0\" >19.640000</td>\n",
              "            </tr>\n",
              "            <tr>\n",
              "                        <th id=\"T_f3dd647a_3879_11ec_aa35_0242ac1c0002level0_row44\" class=\"row_heading level0 row44\" >C21</th>\n",
              "                        <td id=\"T_f3dd647a_3879_11ec_aa35_0242ac1c0002row44_col0\" class=\"data row44 col0\" >18.875000</td>\n",
              "            </tr>\n",
              "            <tr>\n",
              "                        <th id=\"T_f3dd647a_3879_11ec_aa35_0242ac1c0002level0_row45\" class=\"row_heading level0 row45\" >Galaxy F12</th>\n",
              "                        <td id=\"T_f3dd647a_3879_11ec_aa35_0242ac1c0002row45_col0\" class=\"data row45 col0\" >18.020000</td>\n",
              "            </tr>\n",
              "            <tr>\n",
              "                        <th id=\"T_f3dd647a_3879_11ec_aa35_0242ac1c0002level0_row46\" class=\"row_heading level0 row46\" >Galaxy F62</th>\n",
              "                        <td id=\"T_f3dd647a_3879_11ec_aa35_0242ac1c0002row46_col0\" class=\"data row46 col0\" >17.835000</td>\n",
              "            </tr>\n",
              "            <tr>\n",
              "                        <th id=\"T_f3dd647a_3879_11ec_aa35_0242ac1c0002level0_row47\" class=\"row_heading level0 row47\" >Galaxy A20</th>\n",
              "                        <td id=\"T_f3dd647a_3879_11ec_aa35_0242ac1c0002row47_col0\" class=\"data row47 col0\" >17.830000</td>\n",
              "            </tr>\n",
              "            <tr>\n",
              "                        <th id=\"T_f3dd647a_3879_11ec_aa35_0242ac1c0002level0_row48\" class=\"row_heading level0 row48\" >X7 Pro 5G</th>\n",
              "                        <td id=\"T_f3dd647a_3879_11ec_aa35_0242ac1c0002row48_col0\" class=\"data row48 col0\" >16.740000</td>\n",
              "            </tr>\n",
              "            <tr>\n",
              "                        <th id=\"T_f3dd647a_3879_11ec_aa35_0242ac1c0002level0_row49\" class=\"row_heading level0 row49\" >Narzo 30 Pro 5G</th>\n",
              "                        <td id=\"T_f3dd647a_3879_11ec_aa35_0242ac1c0002row49_col0\" class=\"data row49 col0\" >16.505000</td>\n",
              "            </tr>\n",
              "            <tr>\n",
              "                        <th id=\"T_f3dd647a_3879_11ec_aa35_0242ac1c0002level0_row50\" class=\"row_heading level0 row50\" >Mi A3</th>\n",
              "                        <td id=\"T_f3dd647a_3879_11ec_aa35_0242ac1c0002row50_col0\" class=\"data row50 col0\" >16.180000</td>\n",
              "            </tr>\n",
              "            <tr>\n",
              "                        <th id=\"T_f3dd647a_3879_11ec_aa35_0242ac1c0002level0_row51\" class=\"row_heading level0 row51\" >Galaxy A80</th>\n",
              "                        <td id=\"T_f3dd647a_3879_11ec_aa35_0242ac1c0002row51_col0\" class=\"data row51 col0\" >15.360000</td>\n",
              "            </tr>\n",
              "            <tr>\n",
              "                        <th id=\"T_f3dd647a_3879_11ec_aa35_0242ac1c0002level0_row52\" class=\"row_heading level0 row52\" >M2 Reloaded</th>\n",
              "                        <td id=\"T_f3dd647a_3879_11ec_aa35_0242ac1c0002row52_col0\" class=\"data row52 col0\" >14.880000</td>\n",
              "            </tr>\n",
              "            <tr>\n",
              "                        <th id=\"T_f3dd647a_3879_11ec_aa35_0242ac1c0002level0_row53\" class=\"row_heading level0 row53\" >X3 Pro</th>\n",
              "                        <td id=\"T_f3dd647a_3879_11ec_aa35_0242ac1c0002row53_col0\" class=\"data row53 col0\" >14.785000</td>\n",
              "            </tr>\n",
              "            <tr>\n",
              "                        <th id=\"T_f3dd647a_3879_11ec_aa35_0242ac1c0002level0_row54\" class=\"row_heading level0 row54\" >8 5G</th>\n",
              "                        <td id=\"T_f3dd647a_3879_11ec_aa35_0242ac1c0002row54_col0\" class=\"data row54 col0\" >14.780000</td>\n",
              "            </tr>\n",
              "            <tr>\n",
              "                        <th id=\"T_f3dd647a_3879_11ec_aa35_0242ac1c0002level0_row55\" class=\"row_heading level0 row55\" >8</th>\n",
              "                        <td id=\"T_f3dd647a_3879_11ec_aa35_0242ac1c0002row55_col0\" class=\"data row55 col0\" >14.256667</td>\n",
              "            </tr>\n",
              "            <tr>\n",
              "                        <th id=\"T_f3dd647a_3879_11ec_aa35_0242ac1c0002level0_row56\" class=\"row_heading level0 row56\" >8 Pro</th>\n",
              "                        <td id=\"T_f3dd647a_3879_11ec_aa35_0242ac1c0002row56_col0\" class=\"data row56 col0\" >13.850000</td>\n",
              "            </tr>\n",
              "            <tr>\n",
              "                        <th id=\"T_f3dd647a_3879_11ec_aa35_0242ac1c0002level0_row57\" class=\"row_heading level0 row57\" >Galaxy A31</th>\n",
              "                        <td id=\"T_f3dd647a_3879_11ec_aa35_0242ac1c0002row57_col0\" class=\"data row57 col0\" >13.350000</td>\n",
              "            </tr>\n",
              "            <tr>\n",
              "                        <th id=\"T_f3dd647a_3879_11ec_aa35_0242ac1c0002level0_row58\" class=\"row_heading level0 row58\" >Mi 10T Pro</th>\n",
              "                        <td id=\"T_f3dd647a_3879_11ec_aa35_0242ac1c0002row58_col0\" class=\"data row58 col0\" >13.210000</td>\n",
              "            </tr>\n",
              "            <tr>\n",
              "                        <th id=\"T_f3dd647a_3879_11ec_aa35_0242ac1c0002level0_row59\" class=\"row_heading level0 row59\" >C25</th>\n",
              "                        <td id=\"T_f3dd647a_3879_11ec_aa35_0242ac1c0002row59_col0\" class=\"data row59 col0\" >10.500000</td>\n",
              "            </tr>\n",
              "            <tr>\n",
              "                        <th id=\"T_f3dd647a_3879_11ec_aa35_0242ac1c0002level0_row60\" class=\"row_heading level0 row60\" >Galaxy A10</th>\n",
              "                        <td id=\"T_f3dd647a_3879_11ec_aa35_0242ac1c0002row60_col0\" class=\"data row60 col0\" >10.480000</td>\n",
              "            </tr>\n",
              "            <tr>\n",
              "                        <th id=\"T_f3dd647a_3879_11ec_aa35_0242ac1c0002level0_row61\" class=\"row_heading level0 row61\" >Narzo 30 5G</th>\n",
              "                        <td id=\"T_f3dd647a_3879_11ec_aa35_0242ac1c0002row61_col0\" class=\"data row61 col0\" >9.895000</td>\n",
              "            </tr>\n",
              "            <tr>\n",
              "                        <th id=\"T_f3dd647a_3879_11ec_aa35_0242ac1c0002level0_row62\" class=\"row_heading level0 row62\" >Galaxy M11</th>\n",
              "                        <td id=\"T_f3dd647a_3879_11ec_aa35_0242ac1c0002row62_col0\" class=\"data row62 col0\" >9.660000</td>\n",
              "            </tr>\n",
              "            <tr>\n",
              "                        <th id=\"T_f3dd647a_3879_11ec_aa35_0242ac1c0002level0_row63\" class=\"row_heading level0 row63\" >Galaxy A71</th>\n",
              "                        <td id=\"T_f3dd647a_3879_11ec_aa35_0242ac1c0002row63_col0\" class=\"data row63 col0\" >9.650000</td>\n",
              "            </tr>\n",
              "            <tr>\n",
              "                        <th id=\"T_f3dd647a_3879_11ec_aa35_0242ac1c0002level0_row64\" class=\"row_heading level0 row64\" >Galaxy M01</th>\n",
              "                        <td id=\"T_f3dd647a_3879_11ec_aa35_0242ac1c0002row64_col0\" class=\"data row64 col0\" >9.370000</td>\n",
              "            </tr>\n",
              "            <tr>\n",
              "                        <th id=\"T_f3dd647a_3879_11ec_aa35_0242ac1c0002level0_row65\" class=\"row_heading level0 row65\" >Galaxy S10</th>\n",
              "                        <td id=\"T_f3dd647a_3879_11ec_aa35_0242ac1c0002row65_col0\" class=\"data row65 col0\" >7.640000</td>\n",
              "            </tr>\n",
              "            <tr>\n",
              "                        <th id=\"T_f3dd647a_3879_11ec_aa35_0242ac1c0002level0_row66\" class=\"row_heading level0 row66\" >Redmi 9A</th>\n",
              "                        <td id=\"T_f3dd647a_3879_11ec_aa35_0242ac1c0002row66_col0\" class=\"data row66 col0\" >7.100000</td>\n",
              "            </tr>\n",
              "            <tr>\n",
              "                        <th id=\"T_f3dd647a_3879_11ec_aa35_0242ac1c0002level0_row67\" class=\"row_heading level0 row67\" >Redmi 9</th>\n",
              "                        <td id=\"T_f3dd647a_3879_11ec_aa35_0242ac1c0002row67_col0\" class=\"data row67 col0\" >7.083333</td>\n",
              "            </tr>\n",
              "            <tr>\n",
              "                        <th id=\"T_f3dd647a_3879_11ec_aa35_0242ac1c0002level0_row68\" class=\"row_heading level0 row68\" >X7 Max</th>\n",
              "                        <td id=\"T_f3dd647a_3879_11ec_aa35_0242ac1c0002row68_col0\" class=\"data row68 col0\" >6.935000</td>\n",
              "            </tr>\n",
              "            <tr>\n",
              "                        <th id=\"T_f3dd647a_3879_11ec_aa35_0242ac1c0002level0_row69\" class=\"row_heading level0 row69\" >Redmi 8A Dual</th>\n",
              "                        <td id=\"T_f3dd647a_3879_11ec_aa35_0242ac1c0002row69_col0\" class=\"data row69 col0\" >6.770000</td>\n",
              "            </tr>\n",
              "            <tr>\n",
              "                        <th id=\"T_f3dd647a_3879_11ec_aa35_0242ac1c0002level0_row70\" class=\"row_heading level0 row70\" >Narzo 30</th>\n",
              "                        <td id=\"T_f3dd647a_3879_11ec_aa35_0242ac1c0002row70_col0\" class=\"data row70 col0\" >6.573333</td>\n",
              "            </tr>\n",
              "            <tr>\n",
              "                        <th id=\"T_f3dd647a_3879_11ec_aa35_0242ac1c0002level0_row71\" class=\"row_heading level0 row71\" >Galaxy Note10 Lite</th>\n",
              "                        <td id=\"T_f3dd647a_3879_11ec_aa35_0242ac1c0002row71_col0\" class=\"data row71 col0\" >6.380000</td>\n",
              "            </tr>\n",
              "            <tr>\n",
              "                        <th id=\"T_f3dd647a_3879_11ec_aa35_0242ac1c0002level0_row72\" class=\"row_heading level0 row72\" >Galaxy M30s</th>\n",
              "                        <td id=\"T_f3dd647a_3879_11ec_aa35_0242ac1c0002row72_col0\" class=\"data row72 col0\" >5.920000</td>\n",
              "            </tr>\n",
              "            <tr>\n",
              "                        <th id=\"T_f3dd647a_3879_11ec_aa35_0242ac1c0002level0_row73\" class=\"row_heading level0 row73\" >iPhone 12</th>\n",
              "                        <td id=\"T_f3dd647a_3879_11ec_aa35_0242ac1c0002row73_col0\" class=\"data row73 col0\" >5.305882</td>\n",
              "            </tr>\n",
              "            <tr>\n",
              "                        <th id=\"T_f3dd647a_3879_11ec_aa35_0242ac1c0002level0_row74\" class=\"row_heading level0 row74\" >Galaxy M31</th>\n",
              "                        <td id=\"T_f3dd647a_3879_11ec_aa35_0242ac1c0002row74_col0\" class=\"data row74 col0\" >5.225000</td>\n",
              "            </tr>\n",
              "            <tr>\n",
              "                        <th id=\"T_f3dd647a_3879_11ec_aa35_0242ac1c0002level0_row75\" class=\"row_heading level0 row75\" >Redmi Note 9 Pro</th>\n",
              "                        <td id=\"T_f3dd647a_3879_11ec_aa35_0242ac1c0002row75_col0\" class=\"data row75 col0\" >5.050000</td>\n",
              "            </tr>\n",
              "            <tr>\n",
              "                        <th id=\"T_f3dd647a_3879_11ec_aa35_0242ac1c0002level0_row76\" class=\"row_heading level0 row76\" >C21Y</th>\n",
              "                        <td id=\"T_f3dd647a_3879_11ec_aa35_0242ac1c0002row76_col0\" class=\"data row76 col0\" >4.910000</td>\n",
              "            </tr>\n",
              "            <tr>\n",
              "                        <th id=\"T_f3dd647a_3879_11ec_aa35_0242ac1c0002level0_row77\" class=\"row_heading level0 row77\" >M3 Pro 5G</th>\n",
              "                        <td id=\"T_f3dd647a_3879_11ec_aa35_0242ac1c0002row77_col0\" class=\"data row77 col0\" >4.340000</td>\n",
              "            </tr>\n",
              "            <tr>\n",
              "                        <th id=\"T_f3dd647a_3879_11ec_aa35_0242ac1c0002level0_row78\" class=\"row_heading level0 row78\" >Mi 10T</th>\n",
              "                        <td id=\"T_f3dd647a_3879_11ec_aa35_0242ac1c0002row78_col0\" class=\"data row78 col0\" >4.173333</td>\n",
              "            </tr>\n",
              "            <tr>\n",
              "                        <th id=\"T_f3dd647a_3879_11ec_aa35_0242ac1c0002level0_row79\" class=\"row_heading level0 row79\" >X3 SuperZoom</th>\n",
              "                        <td id=\"T_f3dd647a_3879_11ec_aa35_0242ac1c0002row79_col0\" class=\"data row79 col0\" >3.880000</td>\n",
              "            </tr>\n",
              "            <tr>\n",
              "                        <th id=\"T_f3dd647a_3879_11ec_aa35_0242ac1c0002level0_row80\" class=\"row_heading level0 row80\" >Galaxy Grand 2</th>\n",
              "                        <td id=\"T_f3dd647a_3879_11ec_aa35_0242ac1c0002row80_col0\" class=\"data row80 col0\" >3.750000</td>\n",
              "            </tr>\n",
              "            <tr>\n",
              "                        <th id=\"T_f3dd647a_3879_11ec_aa35_0242ac1c0002level0_row81\" class=\"row_heading level0 row81\" >Galaxy F22</th>\n",
              "                        <td id=\"T_f3dd647a_3879_11ec_aa35_0242ac1c0002row81_col0\" class=\"data row81 col0\" >3.625000</td>\n",
              "            </tr>\n",
              "            <tr>\n",
              "                        <th id=\"T_f3dd647a_3879_11ec_aa35_0242ac1c0002level0_row82\" class=\"row_heading level0 row82\" >Galaxy A51</th>\n",
              "                        <td id=\"T_f3dd647a_3879_11ec_aa35_0242ac1c0002row82_col0\" class=\"data row82 col0\" >3.476000</td>\n",
              "            </tr>\n",
              "            <tr>\n",
              "                        <th id=\"T_f3dd647a_3879_11ec_aa35_0242ac1c0002level0_row83\" class=\"row_heading level0 row83\" >Galaxy A21s</th>\n",
              "                        <td id=\"T_f3dd647a_3879_11ec_aa35_0242ac1c0002row83_col0\" class=\"data row83 col0\" >3.137143</td>\n",
              "            </tr>\n",
              "            <tr>\n",
              "                        <th id=\"T_f3dd647a_3879_11ec_aa35_0242ac1c0002level0_row84\" class=\"row_heading level0 row84\" >Redmi 5</th>\n",
              "                        <td id=\"T_f3dd647a_3879_11ec_aa35_0242ac1c0002row84_col0\" class=\"data row84 col0\" >2.940000</td>\n",
              "            </tr>\n",
              "            <tr>\n",
              "                        <th id=\"T_f3dd647a_3879_11ec_aa35_0242ac1c0002level0_row85\" class=\"row_heading level0 row85\" >Redmi Y3</th>\n",
              "                        <td id=\"T_f3dd647a_3879_11ec_aa35_0242ac1c0002row85_col0\" class=\"data row85 col0\" >2.823333</td>\n",
              "            </tr>\n",
              "            <tr>\n",
              "                        <th id=\"T_f3dd647a_3879_11ec_aa35_0242ac1c0002level0_row86\" class=\"row_heading level0 row86\" >F3 GT</th>\n",
              "                        <td id=\"T_f3dd647a_3879_11ec_aa35_0242ac1c0002row86_col0\" class=\"data row86 col0\" >2.583333</td>\n",
              "            </tr>\n",
              "            <tr>\n",
              "                        <th id=\"T_f3dd647a_3879_11ec_aa35_0242ac1c0002level0_row87\" class=\"row_heading level0 row87\" >Mi 11 Lite</th>\n",
              "                        <td id=\"T_f3dd647a_3879_11ec_aa35_0242ac1c0002row87_col0\" class=\"data row87 col0\" >2.380000</td>\n",
              "            </tr>\n",
              "            <tr>\n",
              "                        <th id=\"T_f3dd647a_3879_11ec_aa35_0242ac1c0002level0_row88\" class=\"row_heading level0 row88\" >Mi 10i</th>\n",
              "                        <td id=\"T_f3dd647a_3879_11ec_aa35_0242ac1c0002row88_col0\" class=\"data row88 col0\" >2.260000</td>\n",
              "            </tr>\n",
              "            <tr>\n",
              "                        <th id=\"T_f3dd647a_3879_11ec_aa35_0242ac1c0002level0_row89\" class=\"row_heading level0 row89\" >C11 2021</th>\n",
              "                        <td id=\"T_f3dd647a_3879_11ec_aa35_0242ac1c0002row89_col0\" class=\"data row89 col0\" >2.250000</td>\n",
              "            </tr>\n",
              "            <tr>\n",
              "                        <th id=\"T_f3dd647a_3879_11ec_aa35_0242ac1c0002level0_row90\" class=\"row_heading level0 row90\" >8s 5G</th>\n",
              "                        <td id=\"T_f3dd647a_3879_11ec_aa35_0242ac1c0002row90_col0\" class=\"data row90 col0\" >2.170000</td>\n",
              "            </tr>\n",
              "            <tr>\n",
              "                        <th id=\"T_f3dd647a_3879_11ec_aa35_0242ac1c0002level0_row91\" class=\"row_heading level0 row91\" >Galaxy S21 Plus</th>\n",
              "                        <td id=\"T_f3dd647a_3879_11ec_aa35_0242ac1c0002row91_col0\" class=\"data row91 col0\" >2.090000</td>\n",
              "            </tr>\n",
              "            <tr>\n",
              "                        <th id=\"T_f3dd647a_3879_11ec_aa35_0242ac1c0002level0_row92\" class=\"row_heading level0 row92\" >Redmi 6 Pro</th>\n",
              "                        <td id=\"T_f3dd647a_3879_11ec_aa35_0242ac1c0002row92_col0\" class=\"data row92 col0\" >1.856667</td>\n",
              "            </tr>\n",
              "            <tr>\n",
              "                        <th id=\"T_f3dd647a_3879_11ec_aa35_0242ac1c0002level0_row93\" class=\"row_heading level0 row93\" >iPhone 12 Mini</th>\n",
              "                        <td id=\"T_f3dd647a_3879_11ec_aa35_0242ac1c0002row93_col0\" class=\"data row93 col0\" >1.569375</td>\n",
              "            </tr>\n",
              "            <tr>\n",
              "                        <th id=\"T_f3dd647a_3879_11ec_aa35_0242ac1c0002level0_row94\" class=\"row_heading level0 row94\" >Mi 10</th>\n",
              "                        <td id=\"T_f3dd647a_3879_11ec_aa35_0242ac1c0002row94_col0\" class=\"data row94 col0\" >1.560000</td>\n",
              "            </tr>\n",
              "            <tr>\n",
              "                        <th id=\"T_f3dd647a_3879_11ec_aa35_0242ac1c0002level0_row95\" class=\"row_heading level0 row95\" >Galaxy S20 FE</th>\n",
              "                        <td id=\"T_f3dd647a_3879_11ec_aa35_0242ac1c0002row95_col0\" class=\"data row95 col0\" >1.460000</td>\n",
              "            </tr>\n",
              "            <tr>\n",
              "                        <th id=\"T_f3dd647a_3879_11ec_aa35_0242ac1c0002level0_row96\" class=\"row_heading level0 row96\" >Galaxy Note 20 Ultra 5G</th>\n",
              "                        <td id=\"T_f3dd647a_3879_11ec_aa35_0242ac1c0002row96_col0\" class=\"data row96 col0\" >1.010000</td>\n",
              "            </tr>\n",
              "            <tr>\n",
              "                        <th id=\"T_f3dd647a_3879_11ec_aa35_0242ac1c0002level0_row97\" class=\"row_heading level0 row97\" >Galaxy S21</th>\n",
              "                        <td id=\"T_f3dd647a_3879_11ec_aa35_0242ac1c0002row97_col0\" class=\"data row97 col0\" >0.990000</td>\n",
              "            </tr>\n",
              "            <tr>\n",
              "                        <th id=\"T_f3dd647a_3879_11ec_aa35_0242ac1c0002level0_row98\" class=\"row_heading level0 row98\" >Galaxy F02s</th>\n",
              "                        <td id=\"T_f3dd647a_3879_11ec_aa35_0242ac1c0002row98_col0\" class=\"data row98 col0\" >0.710000</td>\n",
              "            </tr>\n",
              "            <tr>\n",
              "                        <th id=\"T_f3dd647a_3879_11ec_aa35_0242ac1c0002level0_row99\" class=\"row_heading level0 row99\" >Galaxy A52</th>\n",
              "                        <td id=\"T_f3dd647a_3879_11ec_aa35_0242ac1c0002row99_col0\" class=\"data row99 col0\" >0.590000</td>\n",
              "            </tr>\n",
              "            <tr>\n",
              "                        <th id=\"T_f3dd647a_3879_11ec_aa35_0242ac1c0002level0_row100\" class=\"row_heading level0 row100\" >Galaxy A22</th>\n",
              "                        <td id=\"T_f3dd647a_3879_11ec_aa35_0242ac1c0002row100_col0\" class=\"data row100 col0\" >0.480000</td>\n",
              "            </tr>\n",
              "            <tr>\n",
              "                        <th id=\"T_f3dd647a_3879_11ec_aa35_0242ac1c0002level0_row101\" class=\"row_heading level0 row101\" >Mi 11X</th>\n",
              "                        <td id=\"T_f3dd647a_3879_11ec_aa35_0242ac1c0002row101_col0\" class=\"data row101 col0\" >0.475000</td>\n",
              "            </tr>\n",
              "            <tr>\n",
              "                        <th id=\"T_f3dd647a_3879_11ec_aa35_0242ac1c0002level0_row102\" class=\"row_heading level0 row102\" >M02s</th>\n",
              "                        <td id=\"T_f3dd647a_3879_11ec_aa35_0242ac1c0002row102_col0\" class=\"data row102 col0\" >0.450000</td>\n",
              "            </tr>\n",
              "            <tr>\n",
              "                        <th id=\"T_f3dd647a_3879_11ec_aa35_0242ac1c0002level0_row103\" class=\"row_heading level0 row103\" >Galaxy A72</th>\n",
              "                        <td id=\"T_f3dd647a_3879_11ec_aa35_0242ac1c0002row103_col0\" class=\"data row103 col0\" >0.435000</td>\n",
              "            </tr>\n",
              "            <tr>\n",
              "                        <th id=\"T_f3dd647a_3879_11ec_aa35_0242ac1c0002level0_row104\" class=\"row_heading level0 row104\" >Galaxy M42</th>\n",
              "                        <td id=\"T_f3dd647a_3879_11ec_aa35_0242ac1c0002row104_col0\" class=\"data row104 col0\" >0.370000</td>\n",
              "            </tr>\n",
              "            <tr>\n",
              "                        <th id=\"T_f3dd647a_3879_11ec_aa35_0242ac1c0002level0_row105\" class=\"row_heading level0 row105\" >Galaxy A20s</th>\n",
              "                        <td id=\"T_f3dd647a_3879_11ec_aa35_0242ac1c0002row105_col0\" class=\"data row105 col0\" >0.284000</td>\n",
              "            </tr>\n",
              "            <tr>\n",
              "                        <th id=\"T_f3dd647a_3879_11ec_aa35_0242ac1c0002level0_row106\" class=\"row_heading level0 row106\" >Galaxy A12</th>\n",
              "                        <td id=\"T_f3dd647a_3879_11ec_aa35_0242ac1c0002row106_col0\" class=\"data row106 col0\" >0.274000</td>\n",
              "            </tr>\n",
              "            <tr>\n",
              "                        <th id=\"T_f3dd647a_3879_11ec_aa35_0242ac1c0002level0_row107\" class=\"row_heading level0 row107\" >GT 5G</th>\n",
              "                        <td id=\"T_f3dd647a_3879_11ec_aa35_0242ac1c0002row107_col0\" class=\"data row107 col0\" >0.240000</td>\n",
              "            </tr>\n",
              "            <tr>\n",
              "                        <th id=\"T_f3dd647a_3879_11ec_aa35_0242ac1c0002level0_row108\" class=\"row_heading level0 row108\" >Galaxy M02</th>\n",
              "                        <td id=\"T_f3dd647a_3879_11ec_aa35_0242ac1c0002row108_col0\" class=\"data row108 col0\" >0.225000</td>\n",
              "            </tr>\n",
              "            <tr>\n",
              "                        <th id=\"T_f3dd647a_3879_11ec_aa35_0242ac1c0002level0_row109\" class=\"row_heading level0 row109\" >GT Master Edition</th>\n",
              "                        <td id=\"T_f3dd647a_3879_11ec_aa35_0242ac1c0002row109_col0\" class=\"data row109 col0\" >0.216667</td>\n",
              "            </tr>\n",
              "            <tr>\n",
              "                        <th id=\"T_f3dd647a_3879_11ec_aa35_0242ac1c0002level0_row110\" class=\"row_heading level0 row110\" >Galaxy Note 20</th>\n",
              "                        <td id=\"T_f3dd647a_3879_11ec_aa35_0242ac1c0002row110_col0\" class=\"data row110 col0\" >0.180000</td>\n",
              "            </tr>\n",
              "            <tr>\n",
              "                        <th id=\"T_f3dd647a_3879_11ec_aa35_0242ac1c0002level0_row111\" class=\"row_heading level0 row111\" >Galaxy M32</th>\n",
              "                        <td id=\"T_f3dd647a_3879_11ec_aa35_0242ac1c0002row111_col0\" class=\"data row111 col0\" >0.155000</td>\n",
              "            </tr>\n",
              "            <tr>\n",
              "                        <th id=\"T_f3dd647a_3879_11ec_aa35_0242ac1c0002level0_row112\" class=\"row_heading level0 row112\" >Galaxy Fold 2</th>\n",
              "                        <td id=\"T_f3dd647a_3879_11ec_aa35_0242ac1c0002row112_col0\" class=\"data row112 col0\" >0.150000</td>\n",
              "            </tr>\n",
              "            <tr>\n",
              "                        <th id=\"T_f3dd647a_3879_11ec_aa35_0242ac1c0002level0_row113\" class=\"row_heading level0 row113\" >Mi 11X Pro 5G</th>\n",
              "                        <td id=\"T_f3dd647a_3879_11ec_aa35_0242ac1c0002row113_col0\" class=\"data row113 col0\" >0.130000</td>\n",
              "            </tr>\n",
              "            <tr>\n",
              "                        <th id=\"T_f3dd647a_3879_11ec_aa35_0242ac1c0002level0_row114\" class=\"row_heading level0 row114\" >Galaxy Z Fold3 5G</th>\n",
              "                        <td id=\"T_f3dd647a_3879_11ec_aa35_0242ac1c0002row114_col0\" class=\"data row114 col0\" >0.103333</td>\n",
              "            </tr>\n",
              "            <tr>\n",
              "                        <th id=\"T_f3dd647a_3879_11ec_aa35_0242ac1c0002level0_row115\" class=\"row_heading level0 row115\" >Galaxy A22 5G</th>\n",
              "                        <td id=\"T_f3dd647a_3879_11ec_aa35_0242ac1c0002row115_col0\" class=\"data row115 col0\" >0.075000</td>\n",
              "            </tr>\n",
              "            <tr>\n",
              "                        <th id=\"T_f3dd647a_3879_11ec_aa35_0242ac1c0002level0_row116\" class=\"row_heading level0 row116\" >Galaxy Z Flip3 5G</th>\n",
              "                        <td id=\"T_f3dd647a_3879_11ec_aa35_0242ac1c0002row116_col0\" class=\"data row116 col0\" >0.070000</td>\n",
              "            </tr>\n",
              "            <tr>\n",
              "                        <th id=\"T_f3dd647a_3879_11ec_aa35_0242ac1c0002level0_row117\" class=\"row_heading level0 row117\" >Galaxy A52s 5G</th>\n",
              "                        <td id=\"T_f3dd647a_3879_11ec_aa35_0242ac1c0002row117_col0\" class=\"data row117 col0\" >0.040000</td>\n",
              "            </tr>\n",
              "            <tr>\n",
              "                        <th id=\"T_f3dd647a_3879_11ec_aa35_0242ac1c0002level0_row118\" class=\"row_heading level0 row118\" >Galaxy A03s</th>\n",
              "                        <td id=\"T_f3dd647a_3879_11ec_aa35_0242ac1c0002row118_col0\" class=\"data row118 col0\" >0.015000</td>\n",
              "            </tr>\n",
              "    </tbody></table>"
            ],
            "text/plain": [
              "<pandas.io.formats.style.Styler at 0x7f9966ff4ed0>"
            ]
          },
          "metadata": {},
          "execution_count": 39
        }
      ]
    },
    {
      "cell_type": "markdown",
      "metadata": {
        "id": "IXezMuzm5K3u"
      },
      "source": [
        "out of all mobiles Readme note 4 has highest sale."
      ]
    },
    {
      "cell_type": "code",
      "metadata": {
        "colab": {
          "base_uri": "https://localhost:8080/",
          "height": 1000
        },
        "id": "iQ7ZOrEiYbDq",
        "outputId": "4e6ea846-fb2e-49d8-d7b5-22d7a3d130f4"
      },
      "source": [
        "sales_of_each_prod_df.sort_values(\"sales\").style.bar(align='left',width=98,color='#ff00bf')"
      ],
      "execution_count": 40,
      "outputs": [
        {
          "output_type": "execute_result",
          "data": {
            "text/html": [
              "<style  type=\"text/css\" >\n",
              "#T_f3e3f812_3879_11ec_aa35_0242ac1c0002row0_col0{\n",
              "            width:  10em;\n",
              "             height:  80%;\n",
              "        }#T_f3e3f812_3879_11ec_aa35_0242ac1c0002row1_col0,#T_f3e3f812_3879_11ec_aa35_0242ac1c0002row2_col0,#T_f3e3f812_3879_11ec_aa35_0242ac1c0002row3_col0,#T_f3e3f812_3879_11ec_aa35_0242ac1c0002row4_col0,#T_f3e3f812_3879_11ec_aa35_0242ac1c0002row5_col0,#T_f3e3f812_3879_11ec_aa35_0242ac1c0002row6_col0,#T_f3e3f812_3879_11ec_aa35_0242ac1c0002row7_col0,#T_f3e3f812_3879_11ec_aa35_0242ac1c0002row8_col0,#T_f3e3f812_3879_11ec_aa35_0242ac1c0002row9_col0,#T_f3e3f812_3879_11ec_aa35_0242ac1c0002row10_col0,#T_f3e3f812_3879_11ec_aa35_0242ac1c0002row11_col0,#T_f3e3f812_3879_11ec_aa35_0242ac1c0002row12_col0,#T_f3e3f812_3879_11ec_aa35_0242ac1c0002row13_col0{\n",
              "            width:  10em;\n",
              "             height:  80%;\n",
              "            background:  linear-gradient(90deg,#ff00bf 0.0%, transparent 0.0%);\n",
              "        }#T_f3e3f812_3879_11ec_aa35_0242ac1c0002row14_col0,#T_f3e3f812_3879_11ec_aa35_0242ac1c0002row15_col0,#T_f3e3f812_3879_11ec_aa35_0242ac1c0002row16_col0,#T_f3e3f812_3879_11ec_aa35_0242ac1c0002row17_col0,#T_f3e3f812_3879_11ec_aa35_0242ac1c0002row18_col0,#T_f3e3f812_3879_11ec_aa35_0242ac1c0002row19_col0,#T_f3e3f812_3879_11ec_aa35_0242ac1c0002row20_col0{\n",
              "            width:  10em;\n",
              "             height:  80%;\n",
              "            background:  linear-gradient(90deg,#ff00bf 0.1%, transparent 0.1%);\n",
              "        }#T_f3e3f812_3879_11ec_aa35_0242ac1c0002row21_col0,#T_f3e3f812_3879_11ec_aa35_0242ac1c0002row22_col0{\n",
              "            width:  10em;\n",
              "             height:  80%;\n",
              "            background:  linear-gradient(90deg,#ff00bf 0.2%, transparent 0.2%);\n",
              "        }#T_f3e3f812_3879_11ec_aa35_0242ac1c0002row23_col0,#T_f3e3f812_3879_11ec_aa35_0242ac1c0002row24_col0,#T_f3e3f812_3879_11ec_aa35_0242ac1c0002row25_col0,#T_f3e3f812_3879_11ec_aa35_0242ac1c0002row26_col0{\n",
              "            width:  10em;\n",
              "             height:  80%;\n",
              "            background:  linear-gradient(90deg,#ff00bf 0.3%, transparent 0.3%);\n",
              "        }#T_f3e3f812_3879_11ec_aa35_0242ac1c0002row27_col0,#T_f3e3f812_3879_11ec_aa35_0242ac1c0002row28_col0,#T_f3e3f812_3879_11ec_aa35_0242ac1c0002row29_col0,#T_f3e3f812_3879_11ec_aa35_0242ac1c0002row30_col0,#T_f3e3f812_3879_11ec_aa35_0242ac1c0002row31_col0{\n",
              "            width:  10em;\n",
              "             height:  80%;\n",
              "            background:  linear-gradient(90deg,#ff00bf 0.4%, transparent 0.4%);\n",
              "        }#T_f3e3f812_3879_11ec_aa35_0242ac1c0002row32_col0,#T_f3e3f812_3879_11ec_aa35_0242ac1c0002row33_col0,#T_f3e3f812_3879_11ec_aa35_0242ac1c0002row34_col0{\n",
              "            width:  10em;\n",
              "             height:  80%;\n",
              "            background:  linear-gradient(90deg,#ff00bf 0.5%, transparent 0.5%);\n",
              "        }#T_f3e3f812_3879_11ec_aa35_0242ac1c0002row35_col0,#T_f3e3f812_3879_11ec_aa35_0242ac1c0002row36_col0,#T_f3e3f812_3879_11ec_aa35_0242ac1c0002row37_col0{\n",
              "            width:  10em;\n",
              "             height:  80%;\n",
              "            background:  linear-gradient(90deg,#ff00bf 0.6%, transparent 0.6%);\n",
              "        }#T_f3e3f812_3879_11ec_aa35_0242ac1c0002row38_col0,#T_f3e3f812_3879_11ec_aa35_0242ac1c0002row39_col0,#T_f3e3f812_3879_11ec_aa35_0242ac1c0002row40_col0{\n",
              "            width:  10em;\n",
              "             height:  80%;\n",
              "            background:  linear-gradient(90deg,#ff00bf 0.7%, transparent 0.7%);\n",
              "        }#T_f3e3f812_3879_11ec_aa35_0242ac1c0002row41_col0{\n",
              "            width:  10em;\n",
              "             height:  80%;\n",
              "            background:  linear-gradient(90deg,#ff00bf 0.8%, transparent 0.8%);\n",
              "        }#T_f3e3f812_3879_11ec_aa35_0242ac1c0002row42_col0,#T_f3e3f812_3879_11ec_aa35_0242ac1c0002row43_col0,#T_f3e3f812_3879_11ec_aa35_0242ac1c0002row44_col0,#T_f3e3f812_3879_11ec_aa35_0242ac1c0002row45_col0{\n",
              "            width:  10em;\n",
              "             height:  80%;\n",
              "            background:  linear-gradient(90deg,#ff00bf 0.9%, transparent 0.9%);\n",
              "        }#T_f3e3f812_3879_11ec_aa35_0242ac1c0002row46_col0,#T_f3e3f812_3879_11ec_aa35_0242ac1c0002row47_col0{\n",
              "            width:  10em;\n",
              "             height:  80%;\n",
              "            background:  linear-gradient(90deg,#ff00bf 1.1%, transparent 1.1%);\n",
              "        }#T_f3e3f812_3879_11ec_aa35_0242ac1c0002row48_col0,#T_f3e3f812_3879_11ec_aa35_0242ac1c0002row49_col0,#T_f3e3f812_3879_11ec_aa35_0242ac1c0002row50_col0{\n",
              "            width:  10em;\n",
              "             height:  80%;\n",
              "            background:  linear-gradient(90deg,#ff00bf 1.2%, transparent 1.2%);\n",
              "        }#T_f3e3f812_3879_11ec_aa35_0242ac1c0002row51_col0,#T_f3e3f812_3879_11ec_aa35_0242ac1c0002row52_col0{\n",
              "            width:  10em;\n",
              "             height:  80%;\n",
              "            background:  linear-gradient(90deg,#ff00bf 1.3%, transparent 1.3%);\n",
              "        }#T_f3e3f812_3879_11ec_aa35_0242ac1c0002row53_col0{\n",
              "            width:  10em;\n",
              "             height:  80%;\n",
              "            background:  linear-gradient(90deg,#ff00bf 1.4%, transparent 1.4%);\n",
              "        }#T_f3e3f812_3879_11ec_aa35_0242ac1c0002row54_col0,#T_f3e3f812_3879_11ec_aa35_0242ac1c0002row55_col0,#T_f3e3f812_3879_11ec_aa35_0242ac1c0002row56_col0{\n",
              "            width:  10em;\n",
              "             height:  80%;\n",
              "            background:  linear-gradient(90deg,#ff00bf 1.7%, transparent 1.7%);\n",
              "        }#T_f3e3f812_3879_11ec_aa35_0242ac1c0002row57_col0{\n",
              "            width:  10em;\n",
              "             height:  80%;\n",
              "            background:  linear-gradient(90deg,#ff00bf 1.8%, transparent 1.8%);\n",
              "        }#T_f3e3f812_3879_11ec_aa35_0242ac1c0002row58_col0,#T_f3e3f812_3879_11ec_aa35_0242ac1c0002row59_col0{\n",
              "            width:  10em;\n",
              "             height:  80%;\n",
              "            background:  linear-gradient(90deg,#ff00bf 1.9%, transparent 1.9%);\n",
              "        }#T_f3e3f812_3879_11ec_aa35_0242ac1c0002row60_col0,#T_f3e3f812_3879_11ec_aa35_0242ac1c0002row61_col0{\n",
              "            width:  10em;\n",
              "             height:  80%;\n",
              "            background:  linear-gradient(90deg,#ff00bf 2.4%, transparent 2.4%);\n",
              "        }#T_f3e3f812_3879_11ec_aa35_0242ac1c0002row62_col0,#T_f3e3f812_3879_11ec_aa35_0242ac1c0002row63_col0{\n",
              "            width:  10em;\n",
              "             height:  80%;\n",
              "            background:  linear-gradient(90deg,#ff00bf 2.5%, transparent 2.5%);\n",
              "        }#T_f3e3f812_3879_11ec_aa35_0242ac1c0002row64_col0,#T_f3e3f812_3879_11ec_aa35_0242ac1c0002row65_col0,#T_f3e3f812_3879_11ec_aa35_0242ac1c0002row66_col0{\n",
              "            width:  10em;\n",
              "             height:  80%;\n",
              "            background:  linear-gradient(90deg,#ff00bf 2.6%, transparent 2.6%);\n",
              "        }#T_f3e3f812_3879_11ec_aa35_0242ac1c0002row67_col0{\n",
              "            width:  10em;\n",
              "             height:  80%;\n",
              "            background:  linear-gradient(90deg,#ff00bf 2.7%, transparent 2.7%);\n",
              "        }#T_f3e3f812_3879_11ec_aa35_0242ac1c0002row68_col0,#T_f3e3f812_3879_11ec_aa35_0242ac1c0002row69_col0{\n",
              "            width:  10em;\n",
              "             height:  80%;\n",
              "            background:  linear-gradient(90deg,#ff00bf 2.9%, transparent 2.9%);\n",
              "        }#T_f3e3f812_3879_11ec_aa35_0242ac1c0002row70_col0{\n",
              "            width:  10em;\n",
              "             height:  80%;\n",
              "            background:  linear-gradient(90deg,#ff00bf 3.0%, transparent 3.0%);\n",
              "        }#T_f3e3f812_3879_11ec_aa35_0242ac1c0002row71_col0,#T_f3e3f812_3879_11ec_aa35_0242ac1c0002row72_col0,#T_f3e3f812_3879_11ec_aa35_0242ac1c0002row73_col0{\n",
              "            width:  10em;\n",
              "             height:  80%;\n",
              "            background:  linear-gradient(90deg,#ff00bf 3.2%, transparent 3.2%);\n",
              "        }#T_f3e3f812_3879_11ec_aa35_0242ac1c0002row74_col0{\n",
              "            width:  10em;\n",
              "             height:  80%;\n",
              "            background:  linear-gradient(90deg,#ff00bf 3.4%, transparent 3.4%);\n",
              "        }#T_f3e3f812_3879_11ec_aa35_0242ac1c0002row75_col0{\n",
              "            width:  10em;\n",
              "             height:  80%;\n",
              "            background:  linear-gradient(90deg,#ff00bf 3.5%, transparent 3.5%);\n",
              "        }#T_f3e3f812_3879_11ec_aa35_0242ac1c0002row76_col0{\n",
              "            width:  10em;\n",
              "             height:  80%;\n",
              "            background:  linear-gradient(90deg,#ff00bf 3.6%, transparent 3.6%);\n",
              "        }#T_f3e3f812_3879_11ec_aa35_0242ac1c0002row77_col0{\n",
              "            width:  10em;\n",
              "             height:  80%;\n",
              "            background:  linear-gradient(90deg,#ff00bf 3.9%, transparent 3.9%);\n",
              "        }#T_f3e3f812_3879_11ec_aa35_0242ac1c0002row78_col0{\n",
              "            width:  10em;\n",
              "             height:  80%;\n",
              "            background:  linear-gradient(90deg,#ff00bf 4.1%, transparent 4.1%);\n",
              "        }#T_f3e3f812_3879_11ec_aa35_0242ac1c0002row79_col0{\n",
              "            width:  10em;\n",
              "             height:  80%;\n",
              "            background:  linear-gradient(90deg,#ff00bf 4.2%, transparent 4.2%);\n",
              "        }#T_f3e3f812_3879_11ec_aa35_0242ac1c0002row80_col0,#T_f3e3f812_3879_11ec_aa35_0242ac1c0002row81_col0{\n",
              "            width:  10em;\n",
              "             height:  80%;\n",
              "            background:  linear-gradient(90deg,#ff00bf 4.3%, transparent 4.3%);\n",
              "        }#T_f3e3f812_3879_11ec_aa35_0242ac1c0002row82_col0,#T_f3e3f812_3879_11ec_aa35_0242ac1c0002row83_col0{\n",
              "            width:  10em;\n",
              "             height:  80%;\n",
              "            background:  linear-gradient(90deg,#ff00bf 5.0%, transparent 5.0%);\n",
              "        }#T_f3e3f812_3879_11ec_aa35_0242ac1c0002row84_col0{\n",
              "            width:  10em;\n",
              "             height:  80%;\n",
              "            background:  linear-gradient(90deg,#ff00bf 5.1%, transparent 5.1%);\n",
              "        }#T_f3e3f812_3879_11ec_aa35_0242ac1c0002row85_col0{\n",
              "            width:  10em;\n",
              "             height:  80%;\n",
              "            background:  linear-gradient(90deg,#ff00bf 5.7%, transparent 5.7%);\n",
              "        }#T_f3e3f812_3879_11ec_aa35_0242ac1c0002row86_col0{\n",
              "            width:  10em;\n",
              "             height:  80%;\n",
              "            background:  linear-gradient(90deg,#ff00bf 6.2%, transparent 6.2%);\n",
              "        }#T_f3e3f812_3879_11ec_aa35_0242ac1c0002row87_col0{\n",
              "            width:  10em;\n",
              "             height:  80%;\n",
              "            background:  linear-gradient(90deg,#ff00bf 6.4%, transparent 6.4%);\n",
              "        }#T_f3e3f812_3879_11ec_aa35_0242ac1c0002row88_col0{\n",
              "            width:  10em;\n",
              "             height:  80%;\n",
              "            background:  linear-gradient(90deg,#ff00bf 7.0%, transparent 7.0%);\n",
              "        }#T_f3e3f812_3879_11ec_aa35_0242ac1c0002row89_col0{\n",
              "            width:  10em;\n",
              "             height:  80%;\n",
              "            background:  linear-gradient(90deg,#ff00bf 7.1%, transparent 7.1%);\n",
              "        }#T_f3e3f812_3879_11ec_aa35_0242ac1c0002row90_col0{\n",
              "            width:  10em;\n",
              "             height:  80%;\n",
              "            background:  linear-gradient(90deg,#ff00bf 7.8%, transparent 7.8%);\n",
              "        }#T_f3e3f812_3879_11ec_aa35_0242ac1c0002row91_col0{\n",
              "            width:  10em;\n",
              "             height:  80%;\n",
              "            background:  linear-gradient(90deg,#ff00bf 8.1%, transparent 8.1%);\n",
              "        }#T_f3e3f812_3879_11ec_aa35_0242ac1c0002row92_col0{\n",
              "            width:  10em;\n",
              "             height:  80%;\n",
              "            background:  linear-gradient(90deg,#ff00bf 9.5%, transparent 9.5%);\n",
              "        }#T_f3e3f812_3879_11ec_aa35_0242ac1c0002row93_col0{\n",
              "            width:  10em;\n",
              "             height:  80%;\n",
              "            background:  linear-gradient(90deg,#ff00bf 10.1%, transparent 10.1%);\n",
              "        }#T_f3e3f812_3879_11ec_aa35_0242ac1c0002row94_col0{\n",
              "            width:  10em;\n",
              "             height:  80%;\n",
              "            background:  linear-gradient(90deg,#ff00bf 10.8%, transparent 10.8%);\n",
              "        }#T_f3e3f812_3879_11ec_aa35_0242ac1c0002row95_col0{\n",
              "            width:  10em;\n",
              "             height:  80%;\n",
              "            background:  linear-gradient(90deg,#ff00bf 11.6%, transparent 11.6%);\n",
              "        }#T_f3e3f812_3879_11ec_aa35_0242ac1c0002row96_col0{\n",
              "            width:  10em;\n",
              "             height:  80%;\n",
              "            background:  linear-gradient(90deg,#ff00bf 12.1%, transparent 12.1%);\n",
              "        }#T_f3e3f812_3879_11ec_aa35_0242ac1c0002row97_col0{\n",
              "            width:  10em;\n",
              "             height:  80%;\n",
              "            background:  linear-gradient(90deg,#ff00bf 12.9%, transparent 12.9%);\n",
              "        }#T_f3e3f812_3879_11ec_aa35_0242ac1c0002row98_col0{\n",
              "            width:  10em;\n",
              "             height:  80%;\n",
              "            background:  linear-gradient(90deg,#ff00bf 13.1%, transparent 13.1%);\n",
              "        }#T_f3e3f812_3879_11ec_aa35_0242ac1c0002row99_col0{\n",
              "            width:  10em;\n",
              "             height:  80%;\n",
              "            background:  linear-gradient(90deg,#ff00bf 13.9%, transparent 13.9%);\n",
              "        }#T_f3e3f812_3879_11ec_aa35_0242ac1c0002row100_col0{\n",
              "            width:  10em;\n",
              "             height:  80%;\n",
              "            background:  linear-gradient(90deg,#ff00bf 16.8%, transparent 16.8%);\n",
              "        }#T_f3e3f812_3879_11ec_aa35_0242ac1c0002row101_col0{\n",
              "            width:  10em;\n",
              "             height:  80%;\n",
              "            background:  linear-gradient(90deg,#ff00bf 19.2%, transparent 19.2%);\n",
              "        }#T_f3e3f812_3879_11ec_aa35_0242ac1c0002row102_col0{\n",
              "            width:  10em;\n",
              "             height:  80%;\n",
              "            background:  linear-gradient(90deg,#ff00bf 19.3%, transparent 19.3%);\n",
              "        }#T_f3e3f812_3879_11ec_aa35_0242ac1c0002row103_col0{\n",
              "            width:  10em;\n",
              "             height:  80%;\n",
              "            background:  linear-gradient(90deg,#ff00bf 19.6%, transparent 19.6%);\n",
              "        }#T_f3e3f812_3879_11ec_aa35_0242ac1c0002row104_col0{\n",
              "            width:  10em;\n",
              "             height:  80%;\n",
              "            background:  linear-gradient(90deg,#ff00bf 19.7%, transparent 19.7%);\n",
              "        }#T_f3e3f812_3879_11ec_aa35_0242ac1c0002row105_col0{\n",
              "            width:  10em;\n",
              "             height:  80%;\n",
              "            background:  linear-gradient(90deg,#ff00bf 20.0%, transparent 20.0%);\n",
              "        }#T_f3e3f812_3879_11ec_aa35_0242ac1c0002row106_col0{\n",
              "            width:  10em;\n",
              "             height:  80%;\n",
              "            background:  linear-gradient(90deg,#ff00bf 20.4%, transparent 20.4%);\n",
              "        }#T_f3e3f812_3879_11ec_aa35_0242ac1c0002row107_col0{\n",
              "            width:  10em;\n",
              "             height:  80%;\n",
              "            background:  linear-gradient(90deg,#ff00bf 21.2%, transparent 21.2%);\n",
              "        }#T_f3e3f812_3879_11ec_aa35_0242ac1c0002row108_col0{\n",
              "            width:  10em;\n",
              "             height:  80%;\n",
              "            background:  linear-gradient(90deg,#ff00bf 21.4%, transparent 21.4%);\n",
              "        }#T_f3e3f812_3879_11ec_aa35_0242ac1c0002row109_col0{\n",
              "            width:  10em;\n",
              "             height:  80%;\n",
              "            background:  linear-gradient(90deg,#ff00bf 22.7%, transparent 22.7%);\n",
              "        }#T_f3e3f812_3879_11ec_aa35_0242ac1c0002row110_col0{\n",
              "            width:  10em;\n",
              "             height:  80%;\n",
              "            background:  linear-gradient(90deg,#ff00bf 23.4%, transparent 23.4%);\n",
              "        }#T_f3e3f812_3879_11ec_aa35_0242ac1c0002row111_col0{\n",
              "            width:  10em;\n",
              "             height:  80%;\n",
              "            background:  linear-gradient(90deg,#ff00bf 24.3%, transparent 24.3%);\n",
              "        }#T_f3e3f812_3879_11ec_aa35_0242ac1c0002row112_col0{\n",
              "            width:  10em;\n",
              "             height:  80%;\n",
              "            background:  linear-gradient(90deg,#ff00bf 24.9%, transparent 24.9%);\n",
              "        }#T_f3e3f812_3879_11ec_aa35_0242ac1c0002row113_col0{\n",
              "            width:  10em;\n",
              "             height:  80%;\n",
              "            background:  linear-gradient(90deg,#ff00bf 29.9%, transparent 29.9%);\n",
              "        }#T_f3e3f812_3879_11ec_aa35_0242ac1c0002row114_col0{\n",
              "            width:  10em;\n",
              "             height:  80%;\n",
              "            background:  linear-gradient(90deg,#ff00bf 31.1%, transparent 31.1%);\n",
              "        }#T_f3e3f812_3879_11ec_aa35_0242ac1c0002row115_col0{\n",
              "            width:  10em;\n",
              "             height:  80%;\n",
              "            background:  linear-gradient(90deg,#ff00bf 70.0%, transparent 70.0%);\n",
              "        }#T_f3e3f812_3879_11ec_aa35_0242ac1c0002row116_col0{\n",
              "            width:  10em;\n",
              "             height:  80%;\n",
              "            background:  linear-gradient(90deg,#ff00bf 76.1%, transparent 76.1%);\n",
              "        }#T_f3e3f812_3879_11ec_aa35_0242ac1c0002row117_col0{\n",
              "            width:  10em;\n",
              "             height:  80%;\n",
              "            background:  linear-gradient(90deg,#ff00bf 88.0%, transparent 88.0%);\n",
              "        }#T_f3e3f812_3879_11ec_aa35_0242ac1c0002row118_col0{\n",
              "            width:  10em;\n",
              "             height:  80%;\n",
              "            background:  linear-gradient(90deg,#ff00bf 98.0%, transparent 98.0%);\n",
              "        }</style><table id=\"T_f3e3f812_3879_11ec_aa35_0242ac1c0002\" class=\"dataframe\"><thead>    <tr>        <th class=\"blank level0\" ></th>        <th class=\"col_heading level0 col0\" >sales</th>    </tr>    <tr>        <th class=\"index_name level0\" >model</th>        <th class=\"blank\" ></th>    </tr></thead><tbody>\n",
              "                <tr>\n",
              "                        <th id=\"T_f3e3f812_3879_11ec_aa35_0242ac1c0002level0_row0\" class=\"row_heading level0 row0\" >Galaxy A03s</th>\n",
              "                        <td id=\"T_f3e3f812_3879_11ec_aa35_0242ac1c0002row0_col0\" class=\"data row0 col0\" >0.015000</td>\n",
              "            </tr>\n",
              "            <tr>\n",
              "                        <th id=\"T_f3e3f812_3879_11ec_aa35_0242ac1c0002level0_row1\" class=\"row_heading level0 row1\" >Galaxy A52s 5G</th>\n",
              "                        <td id=\"T_f3e3f812_3879_11ec_aa35_0242ac1c0002row1_col0\" class=\"data row1 col0\" >0.040000</td>\n",
              "            </tr>\n",
              "            <tr>\n",
              "                        <th id=\"T_f3e3f812_3879_11ec_aa35_0242ac1c0002level0_row2\" class=\"row_heading level0 row2\" >Galaxy Z Flip3 5G</th>\n",
              "                        <td id=\"T_f3e3f812_3879_11ec_aa35_0242ac1c0002row2_col0\" class=\"data row2 col0\" >0.070000</td>\n",
              "            </tr>\n",
              "            <tr>\n",
              "                        <th id=\"T_f3e3f812_3879_11ec_aa35_0242ac1c0002level0_row3\" class=\"row_heading level0 row3\" >Galaxy A22 5G</th>\n",
              "                        <td id=\"T_f3e3f812_3879_11ec_aa35_0242ac1c0002row3_col0\" class=\"data row3 col0\" >0.075000</td>\n",
              "            </tr>\n",
              "            <tr>\n",
              "                        <th id=\"T_f3e3f812_3879_11ec_aa35_0242ac1c0002level0_row4\" class=\"row_heading level0 row4\" >Galaxy Z Fold3 5G</th>\n",
              "                        <td id=\"T_f3e3f812_3879_11ec_aa35_0242ac1c0002row4_col0\" class=\"data row4 col0\" >0.103333</td>\n",
              "            </tr>\n",
              "            <tr>\n",
              "                        <th id=\"T_f3e3f812_3879_11ec_aa35_0242ac1c0002level0_row5\" class=\"row_heading level0 row5\" >Mi 11X Pro 5G</th>\n",
              "                        <td id=\"T_f3e3f812_3879_11ec_aa35_0242ac1c0002row5_col0\" class=\"data row5 col0\" >0.130000</td>\n",
              "            </tr>\n",
              "            <tr>\n",
              "                        <th id=\"T_f3e3f812_3879_11ec_aa35_0242ac1c0002level0_row6\" class=\"row_heading level0 row6\" >Galaxy Fold 2</th>\n",
              "                        <td id=\"T_f3e3f812_3879_11ec_aa35_0242ac1c0002row6_col0\" class=\"data row6 col0\" >0.150000</td>\n",
              "            </tr>\n",
              "            <tr>\n",
              "                        <th id=\"T_f3e3f812_3879_11ec_aa35_0242ac1c0002level0_row7\" class=\"row_heading level0 row7\" >Galaxy M32</th>\n",
              "                        <td id=\"T_f3e3f812_3879_11ec_aa35_0242ac1c0002row7_col0\" class=\"data row7 col0\" >0.155000</td>\n",
              "            </tr>\n",
              "            <tr>\n",
              "                        <th id=\"T_f3e3f812_3879_11ec_aa35_0242ac1c0002level0_row8\" class=\"row_heading level0 row8\" >Galaxy Note 20</th>\n",
              "                        <td id=\"T_f3e3f812_3879_11ec_aa35_0242ac1c0002row8_col0\" class=\"data row8 col0\" >0.180000</td>\n",
              "            </tr>\n",
              "            <tr>\n",
              "                        <th id=\"T_f3e3f812_3879_11ec_aa35_0242ac1c0002level0_row9\" class=\"row_heading level0 row9\" >GT Master Edition</th>\n",
              "                        <td id=\"T_f3e3f812_3879_11ec_aa35_0242ac1c0002row9_col0\" class=\"data row9 col0\" >0.216667</td>\n",
              "            </tr>\n",
              "            <tr>\n",
              "                        <th id=\"T_f3e3f812_3879_11ec_aa35_0242ac1c0002level0_row10\" class=\"row_heading level0 row10\" >Galaxy M02</th>\n",
              "                        <td id=\"T_f3e3f812_3879_11ec_aa35_0242ac1c0002row10_col0\" class=\"data row10 col0\" >0.225000</td>\n",
              "            </tr>\n",
              "            <tr>\n",
              "                        <th id=\"T_f3e3f812_3879_11ec_aa35_0242ac1c0002level0_row11\" class=\"row_heading level0 row11\" >GT 5G</th>\n",
              "                        <td id=\"T_f3e3f812_3879_11ec_aa35_0242ac1c0002row11_col0\" class=\"data row11 col0\" >0.240000</td>\n",
              "            </tr>\n",
              "            <tr>\n",
              "                        <th id=\"T_f3e3f812_3879_11ec_aa35_0242ac1c0002level0_row12\" class=\"row_heading level0 row12\" >Galaxy A12</th>\n",
              "                        <td id=\"T_f3e3f812_3879_11ec_aa35_0242ac1c0002row12_col0\" class=\"data row12 col0\" >0.274000</td>\n",
              "            </tr>\n",
              "            <tr>\n",
              "                        <th id=\"T_f3e3f812_3879_11ec_aa35_0242ac1c0002level0_row13\" class=\"row_heading level0 row13\" >Galaxy A20s</th>\n",
              "                        <td id=\"T_f3e3f812_3879_11ec_aa35_0242ac1c0002row13_col0\" class=\"data row13 col0\" >0.284000</td>\n",
              "            </tr>\n",
              "            <tr>\n",
              "                        <th id=\"T_f3e3f812_3879_11ec_aa35_0242ac1c0002level0_row14\" class=\"row_heading level0 row14\" >Galaxy M42</th>\n",
              "                        <td id=\"T_f3e3f812_3879_11ec_aa35_0242ac1c0002row14_col0\" class=\"data row14 col0\" >0.370000</td>\n",
              "            </tr>\n",
              "            <tr>\n",
              "                        <th id=\"T_f3e3f812_3879_11ec_aa35_0242ac1c0002level0_row15\" class=\"row_heading level0 row15\" >Galaxy A72</th>\n",
              "                        <td id=\"T_f3e3f812_3879_11ec_aa35_0242ac1c0002row15_col0\" class=\"data row15 col0\" >0.435000</td>\n",
              "            </tr>\n",
              "            <tr>\n",
              "                        <th id=\"T_f3e3f812_3879_11ec_aa35_0242ac1c0002level0_row16\" class=\"row_heading level0 row16\" >M02s</th>\n",
              "                        <td id=\"T_f3e3f812_3879_11ec_aa35_0242ac1c0002row16_col0\" class=\"data row16 col0\" >0.450000</td>\n",
              "            </tr>\n",
              "            <tr>\n",
              "                        <th id=\"T_f3e3f812_3879_11ec_aa35_0242ac1c0002level0_row17\" class=\"row_heading level0 row17\" >Mi 11X</th>\n",
              "                        <td id=\"T_f3e3f812_3879_11ec_aa35_0242ac1c0002row17_col0\" class=\"data row17 col0\" >0.475000</td>\n",
              "            </tr>\n",
              "            <tr>\n",
              "                        <th id=\"T_f3e3f812_3879_11ec_aa35_0242ac1c0002level0_row18\" class=\"row_heading level0 row18\" >Galaxy A22</th>\n",
              "                        <td id=\"T_f3e3f812_3879_11ec_aa35_0242ac1c0002row18_col0\" class=\"data row18 col0\" >0.480000</td>\n",
              "            </tr>\n",
              "            <tr>\n",
              "                        <th id=\"T_f3e3f812_3879_11ec_aa35_0242ac1c0002level0_row19\" class=\"row_heading level0 row19\" >Galaxy A52</th>\n",
              "                        <td id=\"T_f3e3f812_3879_11ec_aa35_0242ac1c0002row19_col0\" class=\"data row19 col0\" >0.590000</td>\n",
              "            </tr>\n",
              "            <tr>\n",
              "                        <th id=\"T_f3e3f812_3879_11ec_aa35_0242ac1c0002level0_row20\" class=\"row_heading level0 row20\" >Galaxy F02s</th>\n",
              "                        <td id=\"T_f3e3f812_3879_11ec_aa35_0242ac1c0002row20_col0\" class=\"data row20 col0\" >0.710000</td>\n",
              "            </tr>\n",
              "            <tr>\n",
              "                        <th id=\"T_f3e3f812_3879_11ec_aa35_0242ac1c0002level0_row21\" class=\"row_heading level0 row21\" >Galaxy S21</th>\n",
              "                        <td id=\"T_f3e3f812_3879_11ec_aa35_0242ac1c0002row21_col0\" class=\"data row21 col0\" >0.990000</td>\n",
              "            </tr>\n",
              "            <tr>\n",
              "                        <th id=\"T_f3e3f812_3879_11ec_aa35_0242ac1c0002level0_row22\" class=\"row_heading level0 row22\" >Galaxy Note 20 Ultra 5G</th>\n",
              "                        <td id=\"T_f3e3f812_3879_11ec_aa35_0242ac1c0002row22_col0\" class=\"data row22 col0\" >1.010000</td>\n",
              "            </tr>\n",
              "            <tr>\n",
              "                        <th id=\"T_f3e3f812_3879_11ec_aa35_0242ac1c0002level0_row23\" class=\"row_heading level0 row23\" >Galaxy S20 FE</th>\n",
              "                        <td id=\"T_f3e3f812_3879_11ec_aa35_0242ac1c0002row23_col0\" class=\"data row23 col0\" >1.460000</td>\n",
              "            </tr>\n",
              "            <tr>\n",
              "                        <th id=\"T_f3e3f812_3879_11ec_aa35_0242ac1c0002level0_row24\" class=\"row_heading level0 row24\" >Mi 10</th>\n",
              "                        <td id=\"T_f3e3f812_3879_11ec_aa35_0242ac1c0002row24_col0\" class=\"data row24 col0\" >1.560000</td>\n",
              "            </tr>\n",
              "            <tr>\n",
              "                        <th id=\"T_f3e3f812_3879_11ec_aa35_0242ac1c0002level0_row25\" class=\"row_heading level0 row25\" >iPhone 12 Mini</th>\n",
              "                        <td id=\"T_f3e3f812_3879_11ec_aa35_0242ac1c0002row25_col0\" class=\"data row25 col0\" >1.569375</td>\n",
              "            </tr>\n",
              "            <tr>\n",
              "                        <th id=\"T_f3e3f812_3879_11ec_aa35_0242ac1c0002level0_row26\" class=\"row_heading level0 row26\" >Redmi 6 Pro</th>\n",
              "                        <td id=\"T_f3e3f812_3879_11ec_aa35_0242ac1c0002row26_col0\" class=\"data row26 col0\" >1.856667</td>\n",
              "            </tr>\n",
              "            <tr>\n",
              "                        <th id=\"T_f3e3f812_3879_11ec_aa35_0242ac1c0002level0_row27\" class=\"row_heading level0 row27\" >Galaxy S21 Plus</th>\n",
              "                        <td id=\"T_f3e3f812_3879_11ec_aa35_0242ac1c0002row27_col0\" class=\"data row27 col0\" >2.090000</td>\n",
              "            </tr>\n",
              "            <tr>\n",
              "                        <th id=\"T_f3e3f812_3879_11ec_aa35_0242ac1c0002level0_row28\" class=\"row_heading level0 row28\" >8s 5G</th>\n",
              "                        <td id=\"T_f3e3f812_3879_11ec_aa35_0242ac1c0002row28_col0\" class=\"data row28 col0\" >2.170000</td>\n",
              "            </tr>\n",
              "            <tr>\n",
              "                        <th id=\"T_f3e3f812_3879_11ec_aa35_0242ac1c0002level0_row29\" class=\"row_heading level0 row29\" >C11 2021</th>\n",
              "                        <td id=\"T_f3e3f812_3879_11ec_aa35_0242ac1c0002row29_col0\" class=\"data row29 col0\" >2.250000</td>\n",
              "            </tr>\n",
              "            <tr>\n",
              "                        <th id=\"T_f3e3f812_3879_11ec_aa35_0242ac1c0002level0_row30\" class=\"row_heading level0 row30\" >Mi 10i</th>\n",
              "                        <td id=\"T_f3e3f812_3879_11ec_aa35_0242ac1c0002row30_col0\" class=\"data row30 col0\" >2.260000</td>\n",
              "            </tr>\n",
              "            <tr>\n",
              "                        <th id=\"T_f3e3f812_3879_11ec_aa35_0242ac1c0002level0_row31\" class=\"row_heading level0 row31\" >Mi 11 Lite</th>\n",
              "                        <td id=\"T_f3e3f812_3879_11ec_aa35_0242ac1c0002row31_col0\" class=\"data row31 col0\" >2.380000</td>\n",
              "            </tr>\n",
              "            <tr>\n",
              "                        <th id=\"T_f3e3f812_3879_11ec_aa35_0242ac1c0002level0_row32\" class=\"row_heading level0 row32\" >F3 GT</th>\n",
              "                        <td id=\"T_f3e3f812_3879_11ec_aa35_0242ac1c0002row32_col0\" class=\"data row32 col0\" >2.583333</td>\n",
              "            </tr>\n",
              "            <tr>\n",
              "                        <th id=\"T_f3e3f812_3879_11ec_aa35_0242ac1c0002level0_row33\" class=\"row_heading level0 row33\" >Redmi Y3</th>\n",
              "                        <td id=\"T_f3e3f812_3879_11ec_aa35_0242ac1c0002row33_col0\" class=\"data row33 col0\" >2.823333</td>\n",
              "            </tr>\n",
              "            <tr>\n",
              "                        <th id=\"T_f3e3f812_3879_11ec_aa35_0242ac1c0002level0_row34\" class=\"row_heading level0 row34\" >Redmi 5</th>\n",
              "                        <td id=\"T_f3e3f812_3879_11ec_aa35_0242ac1c0002row34_col0\" class=\"data row34 col0\" >2.940000</td>\n",
              "            </tr>\n",
              "            <tr>\n",
              "                        <th id=\"T_f3e3f812_3879_11ec_aa35_0242ac1c0002level0_row35\" class=\"row_heading level0 row35\" >Galaxy A21s</th>\n",
              "                        <td id=\"T_f3e3f812_3879_11ec_aa35_0242ac1c0002row35_col0\" class=\"data row35 col0\" >3.137143</td>\n",
              "            </tr>\n",
              "            <tr>\n",
              "                        <th id=\"T_f3e3f812_3879_11ec_aa35_0242ac1c0002level0_row36\" class=\"row_heading level0 row36\" >Galaxy A51</th>\n",
              "                        <td id=\"T_f3e3f812_3879_11ec_aa35_0242ac1c0002row36_col0\" class=\"data row36 col0\" >3.476000</td>\n",
              "            </tr>\n",
              "            <tr>\n",
              "                        <th id=\"T_f3e3f812_3879_11ec_aa35_0242ac1c0002level0_row37\" class=\"row_heading level0 row37\" >Galaxy F22</th>\n",
              "                        <td id=\"T_f3e3f812_3879_11ec_aa35_0242ac1c0002row37_col0\" class=\"data row37 col0\" >3.625000</td>\n",
              "            </tr>\n",
              "            <tr>\n",
              "                        <th id=\"T_f3e3f812_3879_11ec_aa35_0242ac1c0002level0_row38\" class=\"row_heading level0 row38\" >Galaxy Grand 2</th>\n",
              "                        <td id=\"T_f3e3f812_3879_11ec_aa35_0242ac1c0002row38_col0\" class=\"data row38 col0\" >3.750000</td>\n",
              "            </tr>\n",
              "            <tr>\n",
              "                        <th id=\"T_f3e3f812_3879_11ec_aa35_0242ac1c0002level0_row39\" class=\"row_heading level0 row39\" >X3 SuperZoom</th>\n",
              "                        <td id=\"T_f3e3f812_3879_11ec_aa35_0242ac1c0002row39_col0\" class=\"data row39 col0\" >3.880000</td>\n",
              "            </tr>\n",
              "            <tr>\n",
              "                        <th id=\"T_f3e3f812_3879_11ec_aa35_0242ac1c0002level0_row40\" class=\"row_heading level0 row40\" >Mi 10T</th>\n",
              "                        <td id=\"T_f3e3f812_3879_11ec_aa35_0242ac1c0002row40_col0\" class=\"data row40 col0\" >4.173333</td>\n",
              "            </tr>\n",
              "            <tr>\n",
              "                        <th id=\"T_f3e3f812_3879_11ec_aa35_0242ac1c0002level0_row41\" class=\"row_heading level0 row41\" >M3 Pro 5G</th>\n",
              "                        <td id=\"T_f3e3f812_3879_11ec_aa35_0242ac1c0002row41_col0\" class=\"data row41 col0\" >4.340000</td>\n",
              "            </tr>\n",
              "            <tr>\n",
              "                        <th id=\"T_f3e3f812_3879_11ec_aa35_0242ac1c0002level0_row42\" class=\"row_heading level0 row42\" >C21Y</th>\n",
              "                        <td id=\"T_f3e3f812_3879_11ec_aa35_0242ac1c0002row42_col0\" class=\"data row42 col0\" >4.910000</td>\n",
              "            </tr>\n",
              "            <tr>\n",
              "                        <th id=\"T_f3e3f812_3879_11ec_aa35_0242ac1c0002level0_row43\" class=\"row_heading level0 row43\" >Redmi Note 9 Pro</th>\n",
              "                        <td id=\"T_f3e3f812_3879_11ec_aa35_0242ac1c0002row43_col0\" class=\"data row43 col0\" >5.050000</td>\n",
              "            </tr>\n",
              "            <tr>\n",
              "                        <th id=\"T_f3e3f812_3879_11ec_aa35_0242ac1c0002level0_row44\" class=\"row_heading level0 row44\" >Galaxy M31</th>\n",
              "                        <td id=\"T_f3e3f812_3879_11ec_aa35_0242ac1c0002row44_col0\" class=\"data row44 col0\" >5.225000</td>\n",
              "            </tr>\n",
              "            <tr>\n",
              "                        <th id=\"T_f3e3f812_3879_11ec_aa35_0242ac1c0002level0_row45\" class=\"row_heading level0 row45\" >iPhone 12</th>\n",
              "                        <td id=\"T_f3e3f812_3879_11ec_aa35_0242ac1c0002row45_col0\" class=\"data row45 col0\" >5.305882</td>\n",
              "            </tr>\n",
              "            <tr>\n",
              "                        <th id=\"T_f3e3f812_3879_11ec_aa35_0242ac1c0002level0_row46\" class=\"row_heading level0 row46\" >Galaxy M30s</th>\n",
              "                        <td id=\"T_f3e3f812_3879_11ec_aa35_0242ac1c0002row46_col0\" class=\"data row46 col0\" >5.920000</td>\n",
              "            </tr>\n",
              "            <tr>\n",
              "                        <th id=\"T_f3e3f812_3879_11ec_aa35_0242ac1c0002level0_row47\" class=\"row_heading level0 row47\" >Galaxy Note10 Lite</th>\n",
              "                        <td id=\"T_f3e3f812_3879_11ec_aa35_0242ac1c0002row47_col0\" class=\"data row47 col0\" >6.380000</td>\n",
              "            </tr>\n",
              "            <tr>\n",
              "                        <th id=\"T_f3e3f812_3879_11ec_aa35_0242ac1c0002level0_row48\" class=\"row_heading level0 row48\" >Narzo 30</th>\n",
              "                        <td id=\"T_f3e3f812_3879_11ec_aa35_0242ac1c0002row48_col0\" class=\"data row48 col0\" >6.573333</td>\n",
              "            </tr>\n",
              "            <tr>\n",
              "                        <th id=\"T_f3e3f812_3879_11ec_aa35_0242ac1c0002level0_row49\" class=\"row_heading level0 row49\" >Redmi 8A Dual</th>\n",
              "                        <td id=\"T_f3e3f812_3879_11ec_aa35_0242ac1c0002row49_col0\" class=\"data row49 col0\" >6.770000</td>\n",
              "            </tr>\n",
              "            <tr>\n",
              "                        <th id=\"T_f3e3f812_3879_11ec_aa35_0242ac1c0002level0_row50\" class=\"row_heading level0 row50\" >X7 Max</th>\n",
              "                        <td id=\"T_f3e3f812_3879_11ec_aa35_0242ac1c0002row50_col0\" class=\"data row50 col0\" >6.935000</td>\n",
              "            </tr>\n",
              "            <tr>\n",
              "                        <th id=\"T_f3e3f812_3879_11ec_aa35_0242ac1c0002level0_row51\" class=\"row_heading level0 row51\" >Redmi 9</th>\n",
              "                        <td id=\"T_f3e3f812_3879_11ec_aa35_0242ac1c0002row51_col0\" class=\"data row51 col0\" >7.083333</td>\n",
              "            </tr>\n",
              "            <tr>\n",
              "                        <th id=\"T_f3e3f812_3879_11ec_aa35_0242ac1c0002level0_row52\" class=\"row_heading level0 row52\" >Redmi 9A</th>\n",
              "                        <td id=\"T_f3e3f812_3879_11ec_aa35_0242ac1c0002row52_col0\" class=\"data row52 col0\" >7.100000</td>\n",
              "            </tr>\n",
              "            <tr>\n",
              "                        <th id=\"T_f3e3f812_3879_11ec_aa35_0242ac1c0002level0_row53\" class=\"row_heading level0 row53\" >Galaxy S10</th>\n",
              "                        <td id=\"T_f3e3f812_3879_11ec_aa35_0242ac1c0002row53_col0\" class=\"data row53 col0\" >7.640000</td>\n",
              "            </tr>\n",
              "            <tr>\n",
              "                        <th id=\"T_f3e3f812_3879_11ec_aa35_0242ac1c0002level0_row54\" class=\"row_heading level0 row54\" >Galaxy M01</th>\n",
              "                        <td id=\"T_f3e3f812_3879_11ec_aa35_0242ac1c0002row54_col0\" class=\"data row54 col0\" >9.370000</td>\n",
              "            </tr>\n",
              "            <tr>\n",
              "                        <th id=\"T_f3e3f812_3879_11ec_aa35_0242ac1c0002level0_row55\" class=\"row_heading level0 row55\" >Galaxy A71</th>\n",
              "                        <td id=\"T_f3e3f812_3879_11ec_aa35_0242ac1c0002row55_col0\" class=\"data row55 col0\" >9.650000</td>\n",
              "            </tr>\n",
              "            <tr>\n",
              "                        <th id=\"T_f3e3f812_3879_11ec_aa35_0242ac1c0002level0_row56\" class=\"row_heading level0 row56\" >Galaxy M11</th>\n",
              "                        <td id=\"T_f3e3f812_3879_11ec_aa35_0242ac1c0002row56_col0\" class=\"data row56 col0\" >9.660000</td>\n",
              "            </tr>\n",
              "            <tr>\n",
              "                        <th id=\"T_f3e3f812_3879_11ec_aa35_0242ac1c0002level0_row57\" class=\"row_heading level0 row57\" >Narzo 30 5G</th>\n",
              "                        <td id=\"T_f3e3f812_3879_11ec_aa35_0242ac1c0002row57_col0\" class=\"data row57 col0\" >9.895000</td>\n",
              "            </tr>\n",
              "            <tr>\n",
              "                        <th id=\"T_f3e3f812_3879_11ec_aa35_0242ac1c0002level0_row58\" class=\"row_heading level0 row58\" >Galaxy A10</th>\n",
              "                        <td id=\"T_f3e3f812_3879_11ec_aa35_0242ac1c0002row58_col0\" class=\"data row58 col0\" >10.480000</td>\n",
              "            </tr>\n",
              "            <tr>\n",
              "                        <th id=\"T_f3e3f812_3879_11ec_aa35_0242ac1c0002level0_row59\" class=\"row_heading level0 row59\" >C25</th>\n",
              "                        <td id=\"T_f3e3f812_3879_11ec_aa35_0242ac1c0002row59_col0\" class=\"data row59 col0\" >10.500000</td>\n",
              "            </tr>\n",
              "            <tr>\n",
              "                        <th id=\"T_f3e3f812_3879_11ec_aa35_0242ac1c0002level0_row60\" class=\"row_heading level0 row60\" >Mi 10T Pro</th>\n",
              "                        <td id=\"T_f3e3f812_3879_11ec_aa35_0242ac1c0002row60_col0\" class=\"data row60 col0\" >13.210000</td>\n",
              "            </tr>\n",
              "            <tr>\n",
              "                        <th id=\"T_f3e3f812_3879_11ec_aa35_0242ac1c0002level0_row61\" class=\"row_heading level0 row61\" >Galaxy A31</th>\n",
              "                        <td id=\"T_f3e3f812_3879_11ec_aa35_0242ac1c0002row61_col0\" class=\"data row61 col0\" >13.350000</td>\n",
              "            </tr>\n",
              "            <tr>\n",
              "                        <th id=\"T_f3e3f812_3879_11ec_aa35_0242ac1c0002level0_row62\" class=\"row_heading level0 row62\" >8 Pro</th>\n",
              "                        <td id=\"T_f3e3f812_3879_11ec_aa35_0242ac1c0002row62_col0\" class=\"data row62 col0\" >13.850000</td>\n",
              "            </tr>\n",
              "            <tr>\n",
              "                        <th id=\"T_f3e3f812_3879_11ec_aa35_0242ac1c0002level0_row63\" class=\"row_heading level0 row63\" >8</th>\n",
              "                        <td id=\"T_f3e3f812_3879_11ec_aa35_0242ac1c0002row63_col0\" class=\"data row63 col0\" >14.256667</td>\n",
              "            </tr>\n",
              "            <tr>\n",
              "                        <th id=\"T_f3e3f812_3879_11ec_aa35_0242ac1c0002level0_row64\" class=\"row_heading level0 row64\" >8 5G</th>\n",
              "                        <td id=\"T_f3e3f812_3879_11ec_aa35_0242ac1c0002row64_col0\" class=\"data row64 col0\" >14.780000</td>\n",
              "            </tr>\n",
              "            <tr>\n",
              "                        <th id=\"T_f3e3f812_3879_11ec_aa35_0242ac1c0002level0_row65\" class=\"row_heading level0 row65\" >X3 Pro</th>\n",
              "                        <td id=\"T_f3e3f812_3879_11ec_aa35_0242ac1c0002row65_col0\" class=\"data row65 col0\" >14.785000</td>\n",
              "            </tr>\n",
              "            <tr>\n",
              "                        <th id=\"T_f3e3f812_3879_11ec_aa35_0242ac1c0002level0_row66\" class=\"row_heading level0 row66\" >M2 Reloaded</th>\n",
              "                        <td id=\"T_f3e3f812_3879_11ec_aa35_0242ac1c0002row66_col0\" class=\"data row66 col0\" >14.880000</td>\n",
              "            </tr>\n",
              "            <tr>\n",
              "                        <th id=\"T_f3e3f812_3879_11ec_aa35_0242ac1c0002level0_row67\" class=\"row_heading level0 row67\" >Galaxy A80</th>\n",
              "                        <td id=\"T_f3e3f812_3879_11ec_aa35_0242ac1c0002row67_col0\" class=\"data row67 col0\" >15.360000</td>\n",
              "            </tr>\n",
              "            <tr>\n",
              "                        <th id=\"T_f3e3f812_3879_11ec_aa35_0242ac1c0002level0_row68\" class=\"row_heading level0 row68\" >Mi A3</th>\n",
              "                        <td id=\"T_f3e3f812_3879_11ec_aa35_0242ac1c0002row68_col0\" class=\"data row68 col0\" >16.180000</td>\n",
              "            </tr>\n",
              "            <tr>\n",
              "                        <th id=\"T_f3e3f812_3879_11ec_aa35_0242ac1c0002level0_row69\" class=\"row_heading level0 row69\" >Narzo 30 Pro 5G</th>\n",
              "                        <td id=\"T_f3e3f812_3879_11ec_aa35_0242ac1c0002row69_col0\" class=\"data row69 col0\" >16.505000</td>\n",
              "            </tr>\n",
              "            <tr>\n",
              "                        <th id=\"T_f3e3f812_3879_11ec_aa35_0242ac1c0002level0_row70\" class=\"row_heading level0 row70\" >X7 Pro 5G</th>\n",
              "                        <td id=\"T_f3e3f812_3879_11ec_aa35_0242ac1c0002row70_col0\" class=\"data row70 col0\" >16.740000</td>\n",
              "            </tr>\n",
              "            <tr>\n",
              "                        <th id=\"T_f3e3f812_3879_11ec_aa35_0242ac1c0002level0_row71\" class=\"row_heading level0 row71\" >Galaxy A20</th>\n",
              "                        <td id=\"T_f3e3f812_3879_11ec_aa35_0242ac1c0002row71_col0\" class=\"data row71 col0\" >17.830000</td>\n",
              "            </tr>\n",
              "            <tr>\n",
              "                        <th id=\"T_f3e3f812_3879_11ec_aa35_0242ac1c0002level0_row72\" class=\"row_heading level0 row72\" >Galaxy F62</th>\n",
              "                        <td id=\"T_f3e3f812_3879_11ec_aa35_0242ac1c0002row72_col0\" class=\"data row72 col0\" >17.835000</td>\n",
              "            </tr>\n",
              "            <tr>\n",
              "                        <th id=\"T_f3e3f812_3879_11ec_aa35_0242ac1c0002level0_row73\" class=\"row_heading level0 row73\" >Galaxy F12</th>\n",
              "                        <td id=\"T_f3e3f812_3879_11ec_aa35_0242ac1c0002row73_col0\" class=\"data row73 col0\" >18.020000</td>\n",
              "            </tr>\n",
              "            <tr>\n",
              "                        <th id=\"T_f3e3f812_3879_11ec_aa35_0242ac1c0002level0_row74\" class=\"row_heading level0 row74\" >C21</th>\n",
              "                        <td id=\"T_f3e3f812_3879_11ec_aa35_0242ac1c0002row74_col0\" class=\"data row74 col0\" >18.875000</td>\n",
              "            </tr>\n",
              "            <tr>\n",
              "                        <th id=\"T_f3e3f812_3879_11ec_aa35_0242ac1c0002level0_row75\" class=\"row_heading level0 row75\" >X7 5G</th>\n",
              "                        <td id=\"T_f3e3f812_3879_11ec_aa35_0242ac1c0002row75_col0\" class=\"data row75 col0\" >19.640000</td>\n",
              "            </tr>\n",
              "            <tr>\n",
              "                        <th id=\"T_f3e3f812_3879_11ec_aa35_0242ac1c0002level0_row76\" class=\"row_heading level0 row76\" >Narzo 10A</th>\n",
              "                        <td id=\"T_f3e3f812_3879_11ec_aa35_0242ac1c0002row76_col0\" class=\"data row76 col0\" >20.366667</td>\n",
              "            </tr>\n",
              "            <tr>\n",
              "                        <th id=\"T_f3e3f812_3879_11ec_aa35_0242ac1c0002level0_row77\" class=\"row_heading level0 row77\" >X3</th>\n",
              "                        <td id=\"T_f3e3f812_3879_11ec_aa35_0242ac1c0002row77_col0\" class=\"data row77 col0\" >21.938889</td>\n",
              "            </tr>\n",
              "            <tr>\n",
              "                        <th id=\"T_f3e3f812_3879_11ec_aa35_0242ac1c0002level0_row78\" class=\"row_heading level0 row78\" >Galaxy A7</th>\n",
              "                        <td id=\"T_f3e3f812_3879_11ec_aa35_0242ac1c0002row78_col0\" class=\"data row78 col0\" >23.210000</td>\n",
              "            </tr>\n",
              "            <tr>\n",
              "                        <th id=\"T_f3e3f812_3879_11ec_aa35_0242ac1c0002level0_row79\" class=\"row_heading level0 row79\" >C15</th>\n",
              "                        <td id=\"T_f3e3f812_3879_11ec_aa35_0242ac1c0002row79_col0\" class=\"data row79 col0\" >23.370000</td>\n",
              "            </tr>\n",
              "            <tr>\n",
              "                        <th id=\"T_f3e3f812_3879_11ec_aa35_0242ac1c0002level0_row80\" class=\"row_heading level0 row80\" >7 Pro</th>\n",
              "                        <td id=\"T_f3e3f812_3879_11ec_aa35_0242ac1c0002row80_col0\" class=\"data row80 col0\" >24.210000</td>\n",
              "            </tr>\n",
              "            <tr>\n",
              "                        <th id=\"T_f3e3f812_3879_11ec_aa35_0242ac1c0002level0_row81\" class=\"row_heading level0 row81\" >iPhone XR</th>\n",
              "                        <td id=\"T_f3e3f812_3879_11ec_aa35_0242ac1c0002row81_col0\" class=\"data row81 col0\" >24.415000</td>\n",
              "            </tr>\n",
              "            <tr>\n",
              "                        <th id=\"T_f3e3f812_3879_11ec_aa35_0242ac1c0002level0_row82\" class=\"row_heading level0 row82\" >5 Pro</th>\n",
              "                        <td id=\"T_f3e3f812_3879_11ec_aa35_0242ac1c0002row82_col0\" class=\"data row82 col0\" >27.838333</td>\n",
              "            </tr>\n",
              "            <tr>\n",
              "                        <th id=\"T_f3e3f812_3879_11ec_aa35_0242ac1c0002level0_row83\" class=\"row_heading level0 row83\" >3i</th>\n",
              "                        <td id=\"T_f3e3f812_3879_11ec_aa35_0242ac1c0002row83_col0\" class=\"data row83 col0\" >28.195000</td>\n",
              "            </tr>\n",
              "            <tr>\n",
              "                        <th id=\"T_f3e3f812_3879_11ec_aa35_0242ac1c0002level0_row84\" class=\"row_heading level0 row84\" >Narzo 30A</th>\n",
              "                        <td id=\"T_f3e3f812_3879_11ec_aa35_0242ac1c0002row84_col0\" class=\"data row84 col0\" >28.570000</td>\n",
              "            </tr>\n",
              "            <tr>\n",
              "                        <th id=\"T_f3e3f812_3879_11ec_aa35_0242ac1c0002level0_row85\" class=\"row_heading level0 row85\" >Redmi 6A</th>\n",
              "                        <td id=\"T_f3e3f812_3879_11ec_aa35_0242ac1c0002row85_col0\" class=\"data row85 col0\" >31.990000</td>\n",
              "            </tr>\n",
              "            <tr>\n",
              "                        <th id=\"T_f3e3f812_3879_11ec_aa35_0242ac1c0002level0_row86\" class=\"row_heading level0 row86\" >M3</th>\n",
              "                        <td id=\"T_f3e3f812_3879_11ec_aa35_0242ac1c0002row86_col0\" class=\"data row86 col0\" >34.950000</td>\n",
              "            </tr>\n",
              "            <tr>\n",
              "                        <th id=\"T_f3e3f812_3879_11ec_aa35_0242ac1c0002level0_row87\" class=\"row_heading level0 row87\" >Galaxy A50s</th>\n",
              "                        <td id=\"T_f3e3f812_3879_11ec_aa35_0242ac1c0002row87_col0\" class=\"data row87 col0\" >35.810000</td>\n",
              "            </tr>\n",
              "            <tr>\n",
              "                        <th id=\"T_f3e3f812_3879_11ec_aa35_0242ac1c0002level0_row88\" class=\"row_heading level0 row88\" >C3</th>\n",
              "                        <td id=\"T_f3e3f812_3879_11ec_aa35_0242ac1c0002row88_col0\" class=\"data row88 col0\" >39.105000</td>\n",
              "            </tr>\n",
              "            <tr>\n",
              "                        <th id=\"T_f3e3f812_3879_11ec_aa35_0242ac1c0002level0_row89\" class=\"row_heading level0 row89\" >Galaxy J6</th>\n",
              "                        <td id=\"T_f3e3f812_3879_11ec_aa35_0242ac1c0002row89_col0\" class=\"data row89 col0\" >40.120000</td>\n",
              "            </tr>\n",
              "            <tr>\n",
              "                        <th id=\"T_f3e3f812_3879_11ec_aa35_0242ac1c0002level0_row90\" class=\"row_heading level0 row90\" >iPhone 8</th>\n",
              "                        <td id=\"T_f3e3f812_3879_11ec_aa35_0242ac1c0002row90_col0\" class=\"data row90 col0\" >43.990000</td>\n",
              "            </tr>\n",
              "            <tr>\n",
              "                        <th id=\"T_f3e3f812_3879_11ec_aa35_0242ac1c0002level0_row91\" class=\"row_heading level0 row91\" >M2 Pro</th>\n",
              "                        <td id=\"T_f3e3f812_3879_11ec_aa35_0242ac1c0002row91_col0\" class=\"data row91 col0\" >45.483333</td>\n",
              "            </tr>\n",
              "            <tr>\n",
              "                        <th id=\"T_f3e3f812_3879_11ec_aa35_0242ac1c0002level0_row92\" class=\"row_heading level0 row92\" >Redmi K20</th>\n",
              "                        <td id=\"T_f3e3f812_3879_11ec_aa35_0242ac1c0002row92_col0\" class=\"data row92 col0\" >53.080000</td>\n",
              "            </tr>\n",
              "            <tr>\n",
              "                        <th id=\"T_f3e3f812_3879_11ec_aa35_0242ac1c0002level0_row93\" class=\"row_heading level0 row93\" >Galaxy J7 - 6</th>\n",
              "                        <td id=\"T_f3e3f812_3879_11ec_aa35_0242ac1c0002row93_col0\" class=\"data row93 col0\" >56.620000</td>\n",
              "            </tr>\n",
              "            <tr>\n",
              "                        <th id=\"T_f3e3f812_3879_11ec_aa35_0242ac1c0002level0_row94\" class=\"row_heading level0 row94\" >Narzo 20 Pro</th>\n",
              "                        <td id=\"T_f3e3f812_3879_11ec_aa35_0242ac1c0002row94_col0\" class=\"data row94 col0\" >60.875000</td>\n",
              "            </tr>\n",
              "            <tr>\n",
              "                        <th id=\"T_f3e3f812_3879_11ec_aa35_0242ac1c0002level0_row95\" class=\"row_heading level0 row95\" >Narzo 20A</th>\n",
              "                        <td id=\"T_f3e3f812_3879_11ec_aa35_0242ac1c0002row95_col0\" class=\"data row95 col0\" >65.265000</td>\n",
              "            </tr>\n",
              "            <tr>\n",
              "                        <th id=\"T_f3e3f812_3879_11ec_aa35_0242ac1c0002level0_row96\" class=\"row_heading level0 row96\" >7</th>\n",
              "                        <td id=\"T_f3e3f812_3879_11ec_aa35_0242ac1c0002row96_col0\" class=\"data row96 col0\" >67.975000</td>\n",
              "            </tr>\n",
              "            <tr>\n",
              "                        <th id=\"T_f3e3f812_3879_11ec_aa35_0242ac1c0002level0_row97\" class=\"row_heading level0 row97\" >6</th>\n",
              "                        <td id=\"T_f3e3f812_3879_11ec_aa35_0242ac1c0002row97_col0\" class=\"data row97 col0\" >72.176667</td>\n",
              "            </tr>\n",
              "            <tr>\n",
              "                        <th id=\"T_f3e3f812_3879_11ec_aa35_0242ac1c0002level0_row98\" class=\"row_heading level0 row98\" >C20</th>\n",
              "                        <td id=\"T_f3e3f812_3879_11ec_aa35_0242ac1c0002row98_col0\" class=\"data row98 col0\" >73.460000</td>\n",
              "            </tr>\n",
              "            <tr>\n",
              "                        <th id=\"T_f3e3f812_3879_11ec_aa35_0242ac1c0002level0_row99\" class=\"row_heading level0 row99\" >6i</th>\n",
              "                        <td id=\"T_f3e3f812_3879_11ec_aa35_0242ac1c0002row99_col0\" class=\"data row99 col0\" >78.020000</td>\n",
              "            </tr>\n",
              "            <tr>\n",
              "                        <th id=\"T_f3e3f812_3879_11ec_aa35_0242ac1c0002level0_row100\" class=\"row_heading level0 row100\" >Galaxy F41</th>\n",
              "                        <td id=\"T_f3e3f812_3879_11ec_aa35_0242ac1c0002row100_col0\" class=\"data row100 col0\" >94.255000</td>\n",
              "            </tr>\n",
              "            <tr>\n",
              "                        <th id=\"T_f3e3f812_3879_11ec_aa35_0242ac1c0002level0_row101\" class=\"row_heading level0 row101\" >Narzo 10</th>\n",
              "                        <td id=\"T_f3e3f812_3879_11ec_aa35_0242ac1c0002row101_col0\" class=\"data row101 col0\" >107.880000</td>\n",
              "            </tr>\n",
              "            <tr>\n",
              "                        <th id=\"T_f3e3f812_3879_11ec_aa35_0242ac1c0002level0_row102\" class=\"row_heading level0 row102\" >Redmi Note 6 Pro</th>\n",
              "                        <td id=\"T_f3e3f812_3879_11ec_aa35_0242ac1c0002row102_col0\" class=\"data row102 col0\" >108.448000</td>\n",
              "            </tr>\n",
              "            <tr>\n",
              "                        <th id=\"T_f3e3f812_3879_11ec_aa35_0242ac1c0002level0_row103\" class=\"row_heading level0 row103\" >iPhone 7 Plus</th>\n",
              "                        <td id=\"T_f3e3f812_3879_11ec_aa35_0242ac1c0002row103_col0\" class=\"data row103 col0\" >109.940000</td>\n",
              "            </tr>\n",
              "            <tr>\n",
              "                        <th id=\"T_f3e3f812_3879_11ec_aa35_0242ac1c0002level0_row104\" class=\"row_heading level0 row104\" >M2</th>\n",
              "                        <td id=\"T_f3e3f812_3879_11ec_aa35_0242ac1c0002row104_col0\" class=\"data row104 col0\" >110.415000</td>\n",
              "            </tr>\n",
              "            <tr>\n",
              "                        <th id=\"T_f3e3f812_3879_11ec_aa35_0242ac1c0002level0_row105\" class=\"row_heading level0 row105\" >Redmi Note 7</th>\n",
              "                        <td id=\"T_f3e3f812_3879_11ec_aa35_0242ac1c0002row105_col0\" class=\"data row105 col0\" >112.345000</td>\n",
              "            </tr>\n",
              "            <tr>\n",
              "                        <th id=\"T_f3e3f812_3879_11ec_aa35_0242ac1c0002level0_row106\" class=\"row_heading level0 row106\" >Redmi Y2</th>\n",
              "                        <td id=\"T_f3e3f812_3879_11ec_aa35_0242ac1c0002row106_col0\" class=\"data row106 col0\" >114.480000</td>\n",
              "            </tr>\n",
              "            <tr>\n",
              "                        <th id=\"T_f3e3f812_3879_11ec_aa35_0242ac1c0002level0_row107\" class=\"row_heading level0 row107\" >Redmi Note 7 Pro</th>\n",
              "                        <td id=\"T_f3e3f812_3879_11ec_aa35_0242ac1c0002row107_col0\" class=\"data row107 col0\" >119.250000</td>\n",
              "            </tr>\n",
              "            <tr>\n",
              "                        <th id=\"T_f3e3f812_3879_11ec_aa35_0242ac1c0002level0_row108\" class=\"row_heading level0 row108\" >C2</th>\n",
              "                        <td id=\"T_f3e3f812_3879_11ec_aa35_0242ac1c0002row108_col0\" class=\"data row108 col0\" >120.217500</td>\n",
              "            </tr>\n",
              "            <tr>\n",
              "                        <th id=\"T_f3e3f812_3879_11ec_aa35_0242ac1c0002level0_row109\" class=\"row_heading level0 row109\" >iPhone SE</th>\n",
              "                        <td id=\"T_f3e3f812_3879_11ec_aa35_0242ac1c0002row109_col0\" class=\"data row109 col0\" >127.520000</td>\n",
              "            </tr>\n",
              "            <tr>\n",
              "                        <th id=\"T_f3e3f812_3879_11ec_aa35_0242ac1c0002level0_row110\" class=\"row_heading level0 row110\" >F1</th>\n",
              "                        <td id=\"T_f3e3f812_3879_11ec_aa35_0242ac1c0002row110_col0\" class=\"data row110 col0\" >131.320000</td>\n",
              "            </tr>\n",
              "            <tr>\n",
              "                        <th id=\"T_f3e3f812_3879_11ec_aa35_0242ac1c0002level0_row111\" class=\"row_heading level0 row111\" >Narzo 20</th>\n",
              "                        <td id=\"T_f3e3f812_3879_11ec_aa35_0242ac1c0002row111_col0\" class=\"data row111 col0\" >136.495000</td>\n",
              "            </tr>\n",
              "            <tr>\n",
              "                        <th id=\"T_f3e3f812_3879_11ec_aa35_0242ac1c0002level0_row112\" class=\"row_heading level0 row112\" >C12</th>\n",
              "                        <td id=\"T_f3e3f812_3879_11ec_aa35_0242ac1c0002row112_col0\" class=\"data row112 col0\" >139.700000</td>\n",
              "            </tr>\n",
              "            <tr>\n",
              "                        <th id=\"T_f3e3f812_3879_11ec_aa35_0242ac1c0002level0_row113\" class=\"row_heading level0 row113\" >C11</th>\n",
              "                        <td id=\"T_f3e3f812_3879_11ec_aa35_0242ac1c0002row113_col0\" class=\"data row113 col0\" >167.730000</td>\n",
              "            </tr>\n",
              "            <tr>\n",
              "                        <th id=\"T_f3e3f812_3879_11ec_aa35_0242ac1c0002level0_row114\" class=\"row_heading level0 row114\" >Redmi Note 5 Pro</th>\n",
              "                        <td id=\"T_f3e3f812_3879_11ec_aa35_0242ac1c0002row114_col0\" class=\"data row114 col0\" >174.395000</td>\n",
              "            </tr>\n",
              "            <tr>\n",
              "                        <th id=\"T_f3e3f812_3879_11ec_aa35_0242ac1c0002level0_row115\" class=\"row_heading level0 row115\" >Redmi Note 5</th>\n",
              "                        <td id=\"T_f3e3f812_3879_11ec_aa35_0242ac1c0002row115_col0\" class=\"data row115 col0\" >392.730000</td>\n",
              "            </tr>\n",
              "            <tr>\n",
              "                        <th id=\"T_f3e3f812_3879_11ec_aa35_0242ac1c0002level0_row116\" class=\"row_heading level0 row116\" >X2</th>\n",
              "                        <td id=\"T_f3e3f812_3879_11ec_aa35_0242ac1c0002row116_col0\" class=\"data row116 col0\" >427.220000</td>\n",
              "            </tr>\n",
              "            <tr>\n",
              "                        <th id=\"T_f3e3f812_3879_11ec_aa35_0242ac1c0002level0_row117\" class=\"row_heading level0 row117\" >Mi A1</th>\n",
              "                        <td id=\"T_f3e3f812_3879_11ec_aa35_0242ac1c0002row117_col0\" class=\"data row117 col0\" >493.980000</td>\n",
              "            </tr>\n",
              "            <tr>\n",
              "                        <th id=\"T_f3e3f812_3879_11ec_aa35_0242ac1c0002level0_row118\" class=\"row_heading level0 row118\" >Redmi Note 4</th>\n",
              "                        <td id=\"T_f3e3f812_3879_11ec_aa35_0242ac1c0002row118_col0\" class=\"data row118 col0\" >550.190000</td>\n",
              "            </tr>\n",
              "    </tbody></table>"
            ],
            "text/plain": [
              "<pandas.io.formats.style.Styler at 0x7f9966f39490>"
            ]
          },
          "metadata": {},
          "execution_count": 40
        }
      ]
    },
    {
      "cell_type": "markdown",
      "metadata": {
        "id": "R2yOWcA55dy0"
      },
      "source": [
        "Galaxy A03s has least sales."
      ]
    },
    {
      "cell_type": "code",
      "metadata": {
        "id": "cY1LXskUcYCt"
      },
      "source": [
        ""
      ],
      "execution_count": 40,
      "outputs": []
    },
    {
      "cell_type": "code",
      "metadata": {
        "colab": {
          "base_uri": "https://localhost:8080/",
          "height": 1000
        },
        "id": "IaEXWaHjZAAF",
        "outputId": "2dd2f54a-b06b-4111-90d8-e11c7c647260"
      },
      "source": [
        "#Plotting the figure.\n",
        "plt.figure(figsize= (80, 70))\n",
        "#Creating a barplot with stores in x axis and mean weekly sales for each store as y values.\n",
        "sns.barplot(sales_of_each_prod.index, sales_of_each_prod.values,palette='dark')\n",
        "#plot a grid\n",
        "plt.grid()\n",
        "#Give title,x and y labels for the plot\n",
        "plt.title('Sales', fontsize = 20)\n",
        "plt.xlabel('Mobile', fontsize = 40)\n",
        "plt.ylabel('count ', fontsize = 16)\n",
        "plt.xticks(rotation=90)\n",
        "plt.show()"
      ],
      "execution_count": 85,
      "outputs": [
        {
          "output_type": "stream",
          "name": "stderr",
          "text": [
            "/usr/local/lib/python3.7/dist-packages/seaborn/_decorators.py:43: FutureWarning:\n",
            "\n",
            "Pass the following variables as keyword args: x, y. From version 0.12, the only valid positional argument will be `data`, and passing other arguments without an explicit keyword will result in an error or misinterpretation.\n",
            "\n"
          ]
        },
        {
          "output_type": "display_data",
          "data": {
            "image/png": "[encoded data removed]",
            "text/plain": [
              "<Figure size 5760x5040 with 1 Axes>"
            ]
          },
          "metadata": {
            "needs_background": "light"
          }
        }
      ]
    },
    {
      "cell_type": "code",
      "metadata": {
        "id": "rcqHTpkaZmEF"
      },
      "source": [
        "sales = Flipkart_Mobile_df['sales'].groupby(Flipkart_Mobile_df['brand']).mean()"
      ],
      "execution_count": 42,
      "outputs": []
    },
    {
      "cell_type": "code",
      "metadata": {
        "id": "Fu3O9aLCZ8Zt"
      },
      "source": [
        "salest_df= pd.DataFrame(sales)"
      ],
      "execution_count": 43,
      "outputs": []
    },
    {
      "cell_type": "code",
      "metadata": {
        "colab": {
          "base_uri": "https://localhost:8080/",
          "height": 235
        },
        "id": "_8JHVH8DaFub",
        "outputId": "118d8531-889c-4bd6-f3a0-872fe4a6f098"
      },
      "source": [
        "salest_df"
      ],
      "execution_count": 44,
      "outputs": [
        {
          "output_type": "execute_result",
          "data": {
            "text/html": [
              "<div>\n",
              "<style scoped>\n",
              "    .dataframe tbody tr th:only-of-type {\n",
              "        vertical-align: middle;\n",
              "    }\n",
              "\n",
              "    .dataframe tbody tr th {\n",
              "        vertical-align: top;\n",
              "    }\n",
              "\n",
              "    .dataframe thead th {\n",
              "        text-align: right;\n",
              "    }\n",
              "</style>\n",
              "<table border=\"1\" class=\"dataframe\">\n",
              "  <thead>\n",
              "    <tr style=\"text-align: right;\">\n",
              "      <th></th>\n",
              "      <th>sales</th>\n",
              "    </tr>\n",
              "    <tr>\n",
              "      <th>brand</th>\n",
              "      <th></th>\n",
              "    </tr>\n",
              "  </thead>\n",
              "  <tbody>\n",
              "    <tr>\n",
              "      <th>Apple</th>\n",
              "      <td>19.486964</td>\n",
              "    </tr>\n",
              "    <tr>\n",
              "      <th>Poco</th>\n",
              "      <td>43.523571</td>\n",
              "    </tr>\n",
              "    <tr>\n",
              "      <th>Realme</th>\n",
              "      <td>31.173261</td>\n",
              "    </tr>\n",
              "    <tr>\n",
              "      <th>Samsung</th>\n",
              "      <td>10.604202</td>\n",
              "    </tr>\n",
              "    <tr>\n",
              "      <th>Xiaomi</th>\n",
              "      <td>60.673770</td>\n",
              "    </tr>\n",
              "  </tbody>\n",
              "</table>\n",
              "</div>"
            ],
            "text/plain": [
              "             sales\n",
              "brand             \n",
              "Apple    19.486964\n",
              "Poco     43.523571\n",
              "Realme   31.173261\n",
              "Samsung  10.604202\n",
              "Xiaomi   60.673770"
            ]
          },
          "metadata": {},
          "execution_count": 44
        }
      ]
    },
    {
      "cell_type": "markdown",
      "metadata": {
        "id": "mc5OZXbX6JGw"
      },
      "source": [
        "if we see by brand Xiaomi gives highest sales."
      ]
    },
    {
      "cell_type": "code",
      "metadata": {
        "colab": {
          "base_uri": "https://localhost:8080/",
          "height": 235
        },
        "id": "u0ICECkaaj-X",
        "outputId": "ad3db28d-0e77-433e-a0c1-8b629ee6baa1"
      },
      "source": [
        "salest_df.sort_values(\"sales\",ascending=False).style.bar(align='left',width=98,color='#d65f5f')"
      ],
      "execution_count": 45,
      "outputs": [
        {
          "output_type": "execute_result",
          "data": {
            "text/html": [
              "<style  type=\"text/css\" >\n",
              "#T_f6b778f2_3879_11ec_aa35_0242ac1c0002row0_col0{\n",
              "            width:  10em;\n",
              "             height:  80%;\n",
              "            background:  linear-gradient(90deg,#d65f5f 98.0%, transparent 98.0%);\n",
              "        }#T_f6b778f2_3879_11ec_aa35_0242ac1c0002row1_col0{\n",
              "            width:  10em;\n",
              "             height:  80%;\n",
              "            background:  linear-gradient(90deg,#d65f5f 64.4%, transparent 64.4%);\n",
              "        }#T_f6b778f2_3879_11ec_aa35_0242ac1c0002row2_col0{\n",
              "            width:  10em;\n",
              "             height:  80%;\n",
              "            background:  linear-gradient(90deg,#d65f5f 40.3%, transparent 40.3%);\n",
              "        }#T_f6b778f2_3879_11ec_aa35_0242ac1c0002row3_col0{\n",
              "            width:  10em;\n",
              "             height:  80%;\n",
              "            background:  linear-gradient(90deg,#d65f5f 17.4%, transparent 17.4%);\n",
              "        }#T_f6b778f2_3879_11ec_aa35_0242ac1c0002row4_col0{\n",
              "            width:  10em;\n",
              "             height:  80%;\n",
              "        }</style><table id=\"T_f6b778f2_3879_11ec_aa35_0242ac1c0002\" class=\"dataframe\"><thead>    <tr>        <th class=\"blank level0\" ></th>        <th class=\"col_heading level0 col0\" >sales</th>    </tr>    <tr>        <th class=\"index_name level0\" >brand</th>        <th class=\"blank\" ></th>    </tr></thead><tbody>\n",
              "                <tr>\n",
              "                        <th id=\"T_f6b778f2_3879_11ec_aa35_0242ac1c0002level0_row0\" class=\"row_heading level0 row0\" >Xiaomi</th>\n",
              "                        <td id=\"T_f6b778f2_3879_11ec_aa35_0242ac1c0002row0_col0\" class=\"data row0 col0\" >60.673770</td>\n",
              "            </tr>\n",
              "            <tr>\n",
              "                        <th id=\"T_f6b778f2_3879_11ec_aa35_0242ac1c0002level0_row1\" class=\"row_heading level0 row1\" >Poco</th>\n",
              "                        <td id=\"T_f6b778f2_3879_11ec_aa35_0242ac1c0002row1_col0\" class=\"data row1 col0\" >43.523571</td>\n",
              "            </tr>\n",
              "            <tr>\n",
              "                        <th id=\"T_f6b778f2_3879_11ec_aa35_0242ac1c0002level0_row2\" class=\"row_heading level0 row2\" >Realme</th>\n",
              "                        <td id=\"T_f6b778f2_3879_11ec_aa35_0242ac1c0002row2_col0\" class=\"data row2 col0\" >31.173261</td>\n",
              "            </tr>\n",
              "            <tr>\n",
              "                        <th id=\"T_f6b778f2_3879_11ec_aa35_0242ac1c0002level0_row3\" class=\"row_heading level0 row3\" >Apple</th>\n",
              "                        <td id=\"T_f6b778f2_3879_11ec_aa35_0242ac1c0002row3_col0\" class=\"data row3 col0\" >19.486964</td>\n",
              "            </tr>\n",
              "            <tr>\n",
              "                        <th id=\"T_f6b778f2_3879_11ec_aa35_0242ac1c0002level0_row4\" class=\"row_heading level0 row4\" >Samsung</th>\n",
              "                        <td id=\"T_f6b778f2_3879_11ec_aa35_0242ac1c0002row4_col0\" class=\"data row4 col0\" >10.604202</td>\n",
              "            </tr>\n",
              "    </tbody></table>"
            ],
            "text/plain": [
              "<pandas.io.formats.style.Styler at 0x7f99673df750>"
            ]
          },
          "metadata": {},
          "execution_count": 45
        }
      ]
    },
    {
      "cell_type": "code",
      "metadata": {
        "colab": {
          "base_uri": "https://localhost:8080/",
          "height": 235
        },
        "id": "Pb0sT8Xwa2rO",
        "outputId": "69223ba8-3d52-4090-d918-1221e9c486ad"
      },
      "source": [
        "salest_df.sort_values(\"sales\").style.bar(align='left',width=98,color='#bfff00')"
      ],
      "execution_count": 46,
      "outputs": [
        {
          "output_type": "execute_result",
          "data": {
            "text/html": [
              "<style  type=\"text/css\" >\n",
              "#T_f6bb1b42_3879_11ec_aa35_0242ac1c0002row0_col0{\n",
              "            width:  10em;\n",
              "             height:  80%;\n",
              "        }#T_f6bb1b42_3879_11ec_aa35_0242ac1c0002row1_col0{\n",
              "            width:  10em;\n",
              "             height:  80%;\n",
              "            background:  linear-gradient(90deg,#bfff00 17.4%, transparent 17.4%);\n",
              "        }#T_f6bb1b42_3879_11ec_aa35_0242ac1c0002row2_col0{\n",
              "            width:  10em;\n",
              "             height:  80%;\n",
              "            background:  linear-gradient(90deg,#bfff00 40.3%, transparent 40.3%);\n",
              "        }#T_f6bb1b42_3879_11ec_aa35_0242ac1c0002row3_col0{\n",
              "            width:  10em;\n",
              "             height:  80%;\n",
              "            background:  linear-gradient(90deg,#bfff00 64.4%, transparent 64.4%);\n",
              "        }#T_f6bb1b42_3879_11ec_aa35_0242ac1c0002row4_col0{\n",
              "            width:  10em;\n",
              "             height:  80%;\n",
              "            background:  linear-gradient(90deg,#bfff00 98.0%, transparent 98.0%);\n",
              "        }</style><table id=\"T_f6bb1b42_3879_11ec_aa35_0242ac1c0002\" class=\"dataframe\"><thead>    <tr>        <th class=\"blank level0\" ></th>        <th class=\"col_heading level0 col0\" >sales</th>    </tr>    <tr>        <th class=\"index_name level0\" >brand</th>        <th class=\"blank\" ></th>    </tr></thead><tbody>\n",
              "                <tr>\n",
              "                        <th id=\"T_f6bb1b42_3879_11ec_aa35_0242ac1c0002level0_row0\" class=\"row_heading level0 row0\" >Samsung</th>\n",
              "                        <td id=\"T_f6bb1b42_3879_11ec_aa35_0242ac1c0002row0_col0\" class=\"data row0 col0\" >10.604202</td>\n",
              "            </tr>\n",
              "            <tr>\n",
              "                        <th id=\"T_f6bb1b42_3879_11ec_aa35_0242ac1c0002level0_row1\" class=\"row_heading level0 row1\" >Apple</th>\n",
              "                        <td id=\"T_f6bb1b42_3879_11ec_aa35_0242ac1c0002row1_col0\" class=\"data row1 col0\" >19.486964</td>\n",
              "            </tr>\n",
              "            <tr>\n",
              "                        <th id=\"T_f6bb1b42_3879_11ec_aa35_0242ac1c0002level0_row2\" class=\"row_heading level0 row2\" >Realme</th>\n",
              "                        <td id=\"T_f6bb1b42_3879_11ec_aa35_0242ac1c0002row2_col0\" class=\"data row2 col0\" >31.173261</td>\n",
              "            </tr>\n",
              "            <tr>\n",
              "                        <th id=\"T_f6bb1b42_3879_11ec_aa35_0242ac1c0002level0_row3\" class=\"row_heading level0 row3\" >Poco</th>\n",
              "                        <td id=\"T_f6bb1b42_3879_11ec_aa35_0242ac1c0002row3_col0\" class=\"data row3 col0\" >43.523571</td>\n",
              "            </tr>\n",
              "            <tr>\n",
              "                        <th id=\"T_f6bb1b42_3879_11ec_aa35_0242ac1c0002level0_row4\" class=\"row_heading level0 row4\" >Xiaomi</th>\n",
              "                        <td id=\"T_f6bb1b42_3879_11ec_aa35_0242ac1c0002row4_col0\" class=\"data row4 col0\" >60.673770</td>\n",
              "            </tr>\n",
              "    </tbody></table>"
            ],
            "text/plain": [
              "<pandas.io.formats.style.Styler at 0x7f9966f4f610>"
            ]
          },
          "metadata": {},
          "execution_count": 46
        }
      ]
    },
    {
      "cell_type": "code",
      "metadata": {
        "id": "GsjESIy2XrqV"
      },
      "source": [
        ""
      ],
      "execution_count": 46,
      "outputs": []
    },
    {
      "cell_type": "markdown",
      "metadata": {
        "id": "_szN3MHg6R9J"
      },
      "source": [
        "and samsung givest the least sale."
      ]
    }
  ]
}